<<<<<<< HEAD
{"metadata":{"accelerator":"TPU","colab":{"gpuType":"V28","provenance":[]},"kaggle":{"accelerator":"gpu","dataSources":[{"sourceId":8061237,"sourceType":"datasetVersion","datasetId":4755137,"isSourceIdPinned":true},{"sourceId":44285,"sourceType":"modelInstanceVersion","modelInstanceId":37197}],"isInternetEnabled":true,"language":"python","sourceType":"notebook","isGpuEnabled":true},"kernelspec":{"display_name":"Python 3","language":"python","name":"python3"},"language_info":{"name":"python","version":"3.10.14","mimetype":"text/x-python","codemirror_mode":{"name":"ipython","version":3},"pygments_lexer":"ipython3","nbconvert_exporter":"python","file_extension":".py"},"papermill":{"default_parameters":{},"duration":1866.088054,"end_time":"2024-03-18T16:30:42.220199","environment_variables":{},"exception":null,"input_path":"__notebook__.ipynb","output_path":"__notebook__.ipynb","parameters":{},"start_time":"2024-03-18T15:59:36.132145","version":"2.5.0"}},"nbformat_minor":4,"nbformat":4,"cells":[{"cell_type":"markdown","source":"# BERT Trading Signal: News and Corporate Actions","metadata":{"id":"oaDoHbxVH0CW"}},{"cell_type":"markdown","source":"```bibtex\n@inproceedings{zhou-etal-2021-trade,\n    title = \"Trade the Event: Corporate Events Detection for News-Based Event-Driven Trading\",\n    author = \"Zhou, Zhihan  and\n      Ma, Liqian  and\n      Liu, Han\",\n    editor = \"Zong, Chengqing  and\n      Xia, Fei  and\n      Li, Wenjie  and\n      Navigli, Roberto\",\n    booktitle = \"Findings of the Association for Computational Linguistics: ACL-IJCNLP 2021\",\n    month = aug,\n    year = \"2021\",\n    address = \"Online\",\n    publisher = \"Association for Computational Linguistics\",\n    url = \"https://aclanthology.org/2021.findings-acl.186\",\n    doi = \"10.18653/v1/2021.findings-acl.186\",\n    pages = \"2114--2124\",\n}\n```","metadata":{"id":"aM59cTClH0CZ"}},{"cell_type":"markdown","source":"# Notebook Environment","metadata":{"id":"z_cBqdYOoY5S"}},{"cell_type":"code","source":"UPGRADE_PY = False\nINSTALL_DEPS = False\nif INSTALL_DEPS:\n  # %pip install -q tensorboard==2.15.2\n  # %pip install -q tensorflow[and-cuda]==2.15.1\n  # %pip install -q tensorflow==2.15.0\n  # %pip install -q tensorflow-io-gcs-filesystem==0.36.0\n  # %pip install -q tensorflow-text==2.15.0\n  # %pip install -q tf_keras==2.15.1\n  # %pip install -q tokenizers==0.15.2\n  # %pip install -q torch==2.2.0+cpu\n  # %pip install -q torch-xla==2.2.0+libtpu\n  # %pip install -q torchdata==0.7.1\n  %pip install -q transformers==4.38.2\n\nif UPGRADE_PY:\n  !mamba create -n py311 -y\n  !source /opt/conda/bin/activate py312 && mamba install python=3.11 jupyter mamba -y\n\n  !sudo rm /opt/conda/bin/python3\n  !sudo ln -sf /opt/conda/envs/py312/bin/python3 /opt/conda/bin/python3\n  !sudo rm /opt/conda/bin/python3.10\n  !sudo ln -sf /opt/conda/envs/py312/bin/python3 /opt/conda/bin/python3.10\n  !sudo rm /opt/conda/bin/python\n  !sudo ln -sf /opt/conda/envs/py312/bin/python3 /opt/conda/bin/python\n\n!python --version","metadata":{"id":"eETPYJLiMU-b","outputId":"49f77cf0-e6a3-44d8-9dae-05a929fa4804","trusted":true},"execution_count":null,"outputs":[]},{"cell_type":"code","source":"import os\nimport sys\nimport warnings\nwarnings.filterwarnings(\"ignore\")\n\n# Transformers cannot use keras3\nos.environ['TF_CPP_MIN_LOG_LEVEL'] = '2'\nos.environ['TF_USE_LEGACY_KERAS'] = '1'\nIN_KAGGLE = IN_COLAB = False\n!export CUDA_LAUNCH_BLOCKING=1\n!export XLA_FLAGS=--xla_cpu_verbose=0\n\nMODEL_PATH = \"google-bert/bert-base-cased\"\ntry:\n    # https://www.tensorflow.org/install/pip#windows-wsl2\n    import google.colab\n    from google.colab import drive\n    drive.mount('/content/drive')\n    DATA_PATH = \"/content/drive/MyDrive/EDT dataset\"\n    DATA_PATH = \"/content/drive/MyDrive/investopediaBERT\"\n    IN_COLAB = True\n    print('Colab!')\nexcept:\n  IN_COLAB = False\nif 'KAGGLE_KERNEL_RUN_TYPE' in os.environ and not IN_COLAB:\n    print('Running in Kaggle...')\n    for dirname, _, filenames in os.walk('/kaggle/input'):\n        for filename in filenames:\n            print(os.path.join(dirname, filename))\n    DATA_PATH = \"/kaggle/input/uscorpactionnews\"\n    MODEL_PATH = \"/kaggle/input/finbert/tensorflow2/bert-invest-conditioned/1\"\n    IN_KAGGLE = True\n    print('Kaggle!')\nelif not IN_COLAB and not IN_KAGGLE:\n    IN_KAGGLE = False\n    DATA_PATH = \"./data/\"\n    print('Localhost!')\n    MODEL_PATH = \"./models/bert-invest-conditioned\"\n","metadata":{"id":"Q4-GoceIIfT_","outputId":"7dcb11f2-d20e-4714-e4fe-f9895dc22aac","trusted":true},"execution_count":null,"outputs":[]},{"cell_type":"markdown","source":"# Accelerators Configuration","metadata":{"id":"b-qBL7v5oY5T"}},{"cell_type":"code","source":"import numpy as np\nimport pandas as pd\n\nfrom pathlib import Path\nimport re\nimport pickle\nfrom copy import deepcopy\n\nfrom tqdm import tqdm\nimport tensorflow as tf\nfrom tensorflow.keras import mixed_precision\n\nprint(f'Tensorflow version: [{tf.__version__}]')\n\ntf.get_logger().setLevel('INFO')\n\n#tf.config.set_soft_device_placement(True)\n#tf.config.experimental.enable_op_determinism()\n#tf.random.set_seed(1)\ntry:\n  tpu = tf.distribute.cluster_resolver.TPUClusterResolver()\n\n  tf.config.experimental_connect_to_cluster(tpu)\n  tf.tpu.experimental.initialize_tpu_system(tpu)\n  strategy = tf.distribute.TPUStrategy(tpu)\nexcept Exception as e:\n  # Not an exception, just no TPUs available, GPU is fallback\n  # https://www.tensorflow.org/guide/mixed_precision\n  print(e)\n  policy = mixed_precision.Policy('mixed_float16')\n  mixed_precision.set_global_policy(policy)\n  gpus = tf.config.experimental.list_physical_devices('GPU')\n  if len(gpus) > 0:\n    try:\n        for gpu in gpus:\n            tf.config.experimental.set_memory_growth(gpu, False)\n        tf.config.experimental.set_virtual_device_configuration(gpus[0], [tf.config.experimental.VirtualDeviceConfiguration(memory_limit=12288)])\n        logical_gpus = tf.config.experimental.list_logical_devices('GPU')\n        strategy = tf.distribute.MirroredStrategy()\n\n        print(len(gpus), \"Physical GPUs,\", len(logical_gpus), \"Logical GPUs\")\n    except RuntimeError as e:\n        print(e)\n    finally:\n        print(\"Running on\", len(tf.config.list_physical_devices('GPU')), \"GPU(s)\")\n  else:\n    # CPU is final fallback\n    strategy = tf.distribute.get_strategy()\n    print(\"Running on CPU\")\n\ndef is_tpu_strategy(strategy):\n    return isinstance(strategy, tf.distribute.TPUStrategy)\n\nprint(\"Number of accelerators:\", strategy.num_replicas_in_sync)\nos.getcwd()","metadata":{"id":"GJiIs_h-H0Ca","outputId":"6c60aab2-ba24-4123-8f02-011e5776646b","trusted":true},"execution_count":null,"outputs":[]},{"cell_type":"markdown","source":"# Tokens, Sequences, and NER\n\nOur corpus will be processed and labelled to 11 types of corporate events:\n1. Acquisition(A)\n1. Clinical Trial(CT)\n1. Regular Dividend(RD)\n1. Dividend Cut(DC)\n1. Dividend Increase(DI)\n1. Guidance Increase(GI)\n1. New Contract(NC)\n1. Reverse Stock Split(RSS)\n1. Special Dividend(SD)\n1. Stock Repurchase(SR)\n1. Stock Split(SS).\n1. No event (O)\n\nArticles are structured as follows:\n\n```json\n'title': 'Title',\n'text': 'Text Body',\n'pub_time': 'Published datetime',\n'labels': {\n    'ticker': 'Security symbol',\n    'start_time': 'First trade after article published',\n    'start_price_open': 'The \"Open\" price at start_time',\n    'start_price_close': 'The \"Close\" price at start_time',\n    'end_price_nday': 'The \"Close\" price at the last minute of the following 1-3 trading day. If early than 4pm ET its the same day. Otherwise, it refers to the next trading day.',\n    'end_time_1-3day': 'The time corresponds to end_price_1day',\n    'highest_price_nday': 'The highest price in the following 1-3 trading',\n    'highest_time_nday': 'The time corresponds to highest_price_1-3day',\n    'lowest_price_nday': 'The lowest price in the following 1-3 trading day',\n    'lowest_time_nday': 'The time corresponds to lowest_price_1-3day',\n}\n```","metadata":{"id":"qHqWsa3PMU-d"}},{"cell_type":"code","source":"NUM_LABELS = 12 # See Labels description above.\nSPECIAL_TOKEN = 'CLS' # Use for classification and hidden state placeholder.\nUNK_ID = -100 # Unknown token, ignored by loss\nUNK = 'UNK'\nOTHER_ID = 11\nOTHER = 'O'","metadata":{"id":"LC-uTYv3MU-d","trusted":true},"execution_count":null,"outputs":[]},{"cell_type":"markdown","source":"### Tokenizing News Text","metadata":{"id":"76ApkzW0MU-d"}},{"cell_type":"code","source":"from transformers import BertTokenizerFast, TFBertModel, BertConfig\n\n# https://huggingface.co/transformers/v3.0.2/model_doc/bert.html#berttokenizerfast\ntokenizer = BertTokenizerFast.from_pretrained(f'{MODEL_PATH}/tokenizer')\nmodel = TFBertModel.from_pretrained(f'{MODEL_PATH}/model')\n\ntext = [\"When taken as a whole, the evidence suggests Cramer recommends “hot” stocks\", \"lending credence to the Hot Hand Fallacy in this context.\"]\n\ntokenized_sequence = tokenizer.tokenize(text)\nprint(tokenized_sequence)","metadata":{"id":"Tf7Hh9gJMU-d","outputId":"a73ad504-0a1d-41be-fd27-667720096e15","trusted":true},"execution_count":null,"outputs":[]},{"cell_type":"code","source":"MAX_LEN = 256 # Default 256, MAX 512\nsample_inputs = inputs = tokenizer.encode_plus(\n    text,\n    add_special_tokens=True,  # Add '[CLS]' and '[SEP]'\n    max_length=MAX_LEN,  # Maximum length for padding/truncation, adjust as needed\n    padding='max_length',\n    return_tensors='tf',\n    truncation=True\n)\nsample_inputs","metadata":{"id":"j1nVg-G8MU-d","outputId":"ed122664-fdad-43a8-864d-34588ec59eac","trusted":true},"execution_count":null,"outputs":[]},{"cell_type":"code","source":"tokenizer.decode(sample_inputs[\"input_ids\"].numpy()[0])","metadata":{"id":"Z3vW8jMsMU-e","outputId":"256fe652-8d47-4c9e-d521-0f51395bb2cc","trusted":true},"execution_count":null,"outputs":[]},{"cell_type":"code","source":"sample_inputs[\"attention_mask\"].shape","metadata":{"id":"G_r1ZX9zMU-e","outputId":"02719548-11db-4d40-bbe1-b0d424e5450f","trusted":true},"execution_count":null,"outputs":[]},{"cell_type":"code","source":"sample_inputs[\"attention_mask\"]","metadata":{"id":"4ATd9pStMU-e","outputId":"e85d7485-248b-40a5-e5b2-ba9302ac5e6f","trusted":true},"execution_count":null,"outputs":[]},{"cell_type":"code","source":"sample_inputs['token_type_ids']","metadata":{"id":"KEgnm_KzMU-e","outputId":"85b51cd6-6b1f-475e-ce1d-f4274ea7dd03","trusted":true},"execution_count":null,"outputs":[]},{"cell_type":"code","source":"outputs = model(sample_inputs['input_ids'])\nhidden_state = outputs.last_hidden_state\nembedding = hidden_state[:, 0, :]\nembedding","metadata":{"id":"BvxOyuDFMU-e","trusted":true},"execution_count":null,"outputs":[]},{"cell_type":"markdown","source":"## Create Datasets for Training","metadata":{"id":"ig6j_j5RMU-e"}},{"cell_type":"code","source":"def read_wnut(file_path):\n    file_path = Path(file_path)\n\n    raw_text = file_path.read_text().strip()\n    raw_docs = re.split(r'\\n\\t?\\n', raw_text)\n    token_docs = []\n    tag_docs = []\n    for doc in raw_docs:\n        tokens = []\n        tags = []\n        for line in doc.split('\\n'):\n            token, tag = line.split('\\t')\n            tokens.append(token)\n            tags.append(tag)\n        token_docs.append(tokens)\n        tag_docs.append(tags)\n\n    return token_docs, tag_docs\n\ntrain_ner_texts, train_ner_tags = read_wnut(os.path.join(DATA_PATH, 'Event_detection/train.txt'))\ntest_ner_texts, test_ner_tags = read_wnut(os.path.join(DATA_PATH, 'Event_detection/dev.txt'))\n\nevent_index = 0\nfor event_index, tags in enumerate(train_ner_tags):\n    if any(tag != 'O' for tag in tags):\n        break\nprint(f\"event found at index: {event_index}\")\nprint(*train_ner_texts[event_index])\nprint(*train_ner_tags[event_index])","metadata":{"id":"xJM1Pyd-o1VF","outputId":"84f550b1-4e3f-4d18-f421-6e38c53df908","trusted":true},"execution_count":null,"outputs":[]},{"cell_type":"code","source":"from transformers import BertTokenizerFast\n\ndef encode_tags(tags, encodings, tag2id, unk=UNK_ID):\n    labels = [[tag2id[tag] for tag in doc] for doc in tags]\n    encoded_labels = []\n    for doc_labels, doc_offset in tqdm(zip(labels, encodings.offset_mapping), desc=\"encode_tags\"):\n        # create an empty array of -100\n        doc_enc_labels = np.ones(len(doc_offset), dtype=int) * unk\n        arr_offset = np.array(doc_offset)\n\n        # set labels whose first offset position is 0 and the second is not 0\n        max_len = len(doc_enc_labels[(arr_offset[:, 0] == 0) & (arr_offset[:, 1] != 0)])\n        doc_enc_labels[(arr_offset[:, 0] == 0) & (arr_offset[:, 1] != 0)] = doc_labels[:max_len]\n        encoded_labels.append(doc_enc_labels.tolist())\n\n    return encoded_labels\n\ndef encode_sequence_labels(ner_tags, tag2id, num_labels=MAX_LEN):\n    seq_labels = []\n\n    for tag in ner_tags:\n        tag_set = set(tag)\n        current_label = np.zeros([num_labels])\n        if len(tag_set) == 1:\n            current_label[tag2id[OTHER]] = 1\n        else:\n            # here is a bias, if a seq has another event, drop all others?\n            # This is 'OHE' label\n            tag_set.remove(OTHER)\n            for tag in tag_set:\n                current_label[tag2id[tag]] = 1\n        seq_labels.append(list(current_label))\n\n    return seq_labels\n\ndef load_and_cache_dataset(train_ner_texts, train_ner_tags,\n                           test_ner_texts, test_ner_tags,\n                           bert_model_tok=f'{MODEL_PATH}/tokenizer',\n                           max_len=MAX_LEN,\n                           num_labels=NUM_LABELS):\n    tokenizer = BertTokenizerFast.from_pretrained(bert_model_tok)\n\n    tags = deepcopy(train_ner_tags)\n    tags.extend(test_ner_tags)\n    unique_tags = list(set(tag for doc in tags for tag in doc))\n    tag2id = {tag: id for id, tag in enumerate(sorted(unique_tags))}\n    id2tag = {id: tag for tag, id in tag2id.items()}\n\n    # Tokenize and encode labels for training and testing data\n    train_encodings = tokenizer(train_ner_texts,\n                                is_split_into_words=True,\n                                return_offsets_mapping=True,\n                                padding='max_length',\n                                truncation=True,\n                                max_length=max_len)\n    train_ner_labels = encode_tags(train_ner_tags, train_encodings, tag2id, UNK_ID)\n    train_seq_labels = encode_sequence_labels(train_ner_tags, tag2id, num_labels=num_labels)\n\n    test_encodings = tokenizer(test_ner_texts,\n                               is_split_into_words=True,\n                               return_offsets_mapping=True,\n                               padding='max_length',\n                               truncation=True,\n                               max_length=max_len)\n    test_ner_labels = encode_tags(test_ner_tags, test_encodings, tag2id, UNK_ID)\n    test_seq_labels = encode_sequence_labels(test_ner_tags, tag2id, num_labels=num_labels)\n\n    # offset_mapping no longer needed\n    train_encodings.pop(\"offset_mapping\")\n    test_encodings.pop(\"offset_mapping\")\n\n    return (train_encodings, train_ner_labels,\n            test_encodings, test_ner_labels,\n            train_seq_labels, test_seq_labels,\n            tag2id, id2tag)\n\n(train_encodings, train_ner_labels,\n test_encodings, test_ner_labels,\n train_seq_labels, test_seq_labels,\n tag2id, id2tag) = load_and_cache_dataset(train_ner_texts,\n                                            train_ner_tags,\n                                            test_ner_texts,\n                                            test_ner_tags)\ninput_ids = np.array(test_encodings['input_ids'])\nattention_mask = np.array(test_encodings['attention_mask'])\ntoken_type_ids = np.array(test_encodings['token_type_ids']) if 'token_type_ids' in train_encodings else None\nner = np.array(test_ner_labels)\nseq_label = np.array(test_seq_labels)\nprint(\"input_ids shape:\", input_ids.shape)\nprint(\"attention_mask shape:\", attention_mask.shape)\nif token_type_ids is not None:\n    print(\"token_type_ids shape:\", token_type_ids.shape)\n\nprint(\"ner_labels shape:\", ner.shape)\nprint(\"train_seq_labels shape:\", seq_label.shape)","metadata":{"id":"LJoRDcCSMU-e","outputId":"8d9e3299-aba8-45bf-90d8-068b50a13df3","trusted":true},"execution_count":null,"outputs":[]},{"cell_type":"code","source":"id2tag","metadata":{"id":"0Z2EKQuWMU-f","outputId":"f8ce5637-dcfa-4a6e-a0d2-b5268e7a50b0","trusted":true},"execution_count":null,"outputs":[]},{"cell_type":"code","source":"print(input_ids[:10].shape)\ninput_ids[:10]","metadata":{"id":"U-O7hM6lMU-f","outputId":"38a43822-f2f9-4eaa-96b6-35c1dc683b03","trusted":true},"execution_count":null,"outputs":[]},{"cell_type":"code","source":"print(ner[:10].shape)\nner[:10]","metadata":{"id":"RhUn-4alMU-f","outputId":"b7a8af51-a9bc-4dcc-daf8-f64a150c347e","trusted":true},"execution_count":null,"outputs":[]},{"cell_type":"code","source":"assert not np.isnan(input_ids).any()","metadata":{"id":"LjVOvmqOMU-f","trusted":true},"execution_count":null,"outputs":[]},{"cell_type":"markdown","source":"## Imbalanced Dataset","metadata":{"id":"GoGQA7cMMU-f"}},{"cell_type":"code","source":"from sklearn.utils.class_weight import compute_class_weight\n\nunique, counts = np.unique(ner, return_counts=True)\n\n# https://www.tensorflow.org/tutorials/structured_data/imbalanced_data\n# https://scikit-learn.org/stable/modules/generated/sklearn.utils.class_weight.compute_class_weight.html\nweights = compute_class_weight(class_weight=\"balanced\", classes=np.unique(ner), y=ner.flatten())\nweights_dict = {i: weights[i] for i in range(len(weights))}\n\ndf_tags = pd.DataFrame({'Tag ID': unique, 'Tag': (id2tag[id] if id in id2tag else UNK for id in unique),'Count': counts})\ndf_tags['Weight'] = df_tags['Tag ID'].map(lambda i: weights_dict.get(i, 0.))\n\ndf_ner_weights = df_tags.sort_values(by='Tag ID', ascending=True)\ndf_ner_weights.loc[df_ner_weights['Tag ID'] == UNK_ID, 'Weight'] = 0. # Unkown tokens should be ignored totally.\ndf_ner_weights.loc[df_ner_weights['Tag ID'] == OTHER_ID, 'Weight'] = 0.05 # 'O' is over 75%! Need to reduce it within limits.\n\nner_weights = df_ner_weights[['Tag ID', 'Weight']].set_index('Tag ID').to_dict()['Weight']\n\ndf_ner_weights","metadata":{"id":"C4a-xx5TMU-f","outputId":"e6c5e709-680e-4e65-a572-b7193d70bed7","trusted":true},"execution_count":null,"outputs":[]},{"cell_type":"code","source":"class_sums = np.sum(seq_label, axis=0)\ntotal_samples = seq_label.shape[0]\nunique = np.arange(seq_label.shape[1])\n\nclass_weights = {}\nfor i, class_sum in enumerate(class_sums):\n    if class_sum == 0:\n        class_weights[i] = 0\n    else:\n        class_weights[i] = (total_samples / (12 * class_sum))\n\ndf_seq_weights = pd.DataFrame({\n    'Tag ID': unique,\n    'Tag': (id2tag[id] if id in id2tag else UNK for id in unique),\n    'Count': class_sums,\n    'Weight': [class_weights[i] for i in unique]\n})\n\ndf_seq_weights.loc[df_seq_weights['Count'] == 0, 'Weight'] = 0\nseq_weights = df_seq_weights[['Tag ID', 'Weight']].set_index('Tag ID').to_dict()['Weight']\n\ndf_seq_weights","metadata":{"trusted":true},"execution_count":null,"outputs":[]},{"cell_type":"markdown","source":"# Model Build and Training Loop","metadata":{"id":"xAbKlLI7Na4A"}},{"cell_type":"code","source":"LEARN_RATE=5e-5 # 5e-5\nLR_FACTOR=0.1\nLR_MINDELTA=1e-4\nEPOCHS=100\nPATIENCE=10\n# TPU see: https://github.com/tensorflow/tensorflow/issues/41635\nBATCH_SIZE = (8 * 1 if not is_tpu_strategy(strategy) else 4) * strategy.num_replicas_in_sync # Default 8","metadata":{"trusted":true},"execution_count":null,"outputs":[]},{"cell_type":"code","source":"from tensorflow.keras import Model\nfrom tensorflow.keras.optimizers import AdamW, Adam\nfrom tensorflow.keras.layers import Input, Dense, Dropout\nfrom tensorflow.keras.losses import Loss, SparseCategoricalCrossentropy, CategoricalFocalCrossentropy, CategoricalCrossentropy, BinaryCrossentropy\nfrom tensorflow.keras.metrics import Metric, SparseCategoricalAccuracy, Precision, Recall, BinaryAccuracy\nfrom tensorflow.keras.callbacks import EarlyStopping, TensorBoard, Callback, ReduceLROnPlateau, TerminateOnNaN\nfrom tensorflow.keras.initializers import GlorotUniform\nfrom tensorflow.keras.mixed_precision import LossScaleOptimizer\nfrom tensorflow.keras.utils import register_keras_serializable\n\nfrom transformers import TFBertModel, BertConfig\n\n@register_keras_serializable(package='Custom', name='MaskedWeightedMultiClassBCE')\nclass MaskedWeightedMultiClassBCE(Loss):\n    def __init__(self,\n                 from_logits=False,\n                 name='masked_weighted_multi_bce',\n                 class_weight=None,\n                 labels_len=MAX_LEN,\n                 null_class=UNK_ID,\n                 focal_gamma=None, **kwargs):\n        super().__init__(name=name, **kwargs)\n        self.from_logits = from_logits\n        self.null_class = tf.cast(null_class, tf.float32)\n        self.class_weight = class_weight\n        self.labels_len = labels_len\n        if class_weight is not None:\n            class_weights_list = [class_weight[i] for i in sorted(class_weight)]\n            self.class_weight = tf.convert_to_tensor(class_weights_list, dtype=tf.dtypes.float32)\n        self.focal_gamma = focal_gamma\n\n        # https://github.com/tensorflow/tensorflow/issues/27190 still does reduction internally!\n        # self.loss_fn = BinaryCrossentropy(from_logits=self.from_logits,\n        #                                   reduction=tf.keras.losses.Reduction.NONE)\n\n    def call(self, y_true, y_pred):\n        y_true = tf.cast(y_true, tf.float32)\n        mask = tf.logical_and(tf.greater_equal(y_true, 0), tf.less(y_true, self.labels_len - 2))\n        y_true_masked = tf.where(mask, y_true, tf.zeros_like(y_true))\n        y_true_masked = tf.cast(y_true_masked, tf.float32)\n        # https://github.com/tensorflow/tensorflow/issues/27190 still does reduction internally!\n        # loss = self.loss_fn(y_true_masked, y_pred)\n\n        loss = tf.nn.sigmoid_cross_entropy_with_logits(labels=y_true_masked, logits=y_pred)\n        if self.focal_gamma is not None:\n            # inspired by: https://github.com/artemmavrin/focal-loss/blob/master/src/focal_loss/_categorical_focal_loss.py\n            y_pred = tf.clip_by_value(y_pred, clip_value_min=-100., clip_value_max=100.)\n            proba = tf.nn.softmax(y_pred)\n            if tf.executing_eagerly():\n                tf.print(\"y_pred proba:\", tf.shape(proba))\n                tf.print(\"y_true_masked shape:\", tf.shape(y_true_masked))\n                tf.print(\"y_true_masked:\", y_true_masked)\n                tf.print(\"proba:\", proba)\n\n\n            p_t = tf.gather(proba, tf.cast(y_true_masked, tf.int32), axis=1, batch_dims=1)\n            focal_modulation = tf.cast((1. - tf.clip_by_value(p_t, 0.01, 0.99)) ** self.focal_gamma, tf.float32)\n            loss *= focal_modulation\n            if tf.executing_eagerly():\n                tf.debugging.assert_all_finite(focal_modulation, \"Focal contains NaN or Inf\")\n\n        loss = tf.cast(loss, tf.float32)\n\n        if tf.executing_eagerly():\n            tf.print(\"y_true shape:\", tf.shape(y_true_masked))\n            tf.print(\"y_pred shape:\", tf.shape(y_pred))\n            tf.print(\"mask shape:\", tf.shape(mask))\n            tf.print(\"loss shape:\", tf.shape(loss))\n            tf.print(\"loss:\", loss)\n            tf.debugging.assert_greater(tf.reduce_sum(tf.cast(mask, tf.int32)),\n                                        0, message=\"All data are masked!\")\n\n        if self.class_weight is not None:\n            loss *=  self.class_weight\n            if tf.executing_eagerly():\n                tf.print(\"class_weight shape:\", tf.shape(self.class_weight))\n                tf.print(\"class_weight [aprox 3.2,2.5,..0.1]:\\n\", self.class_weight)\n                tf.print(\"loss after weights:\", loss)\n\n        mask = tf.cast(mask, tf.float32)\n        loss *= mask\n\n        sum_mask = tf.reduce_sum(mask, axis=-1)\n        loss = tf.reduce_mean(loss)\n        if tf.executing_eagerly():\n            tf.print(\"sum_mask:\", sum_mask)\n            tf.print(\"loss after mask and reduc:\", loss)\n            tf.debugging.assert_positive(loss, message=\"Loss masked to zero.\")\n\n        return tf.where(tf.math.is_finite(loss),\n                        loss,\n                        tf.constant(0., dtype=tf.float32))\n\n# https://www.tensorflow.org/api_docs/python/tf/keras/losses/CategoricalFocalCrossentropy\n@register_keras_serializable(package='Custom', name='MaskedWeightedSCCE')\nclass MaskedWeightedSCCE(Loss):\n    def __init__(self,\n                 from_logits=False,\n                 name='masked_weighted_scce',\n                 class_weight=None,\n                 labels_len=MAX_LEN,\n                 null_class=UNK_ID,\n                 focal_gamma=None,\n                 **kwargs):\n        super().__init__(name=name, **kwargs)\n        self.from_logits = from_logits\n        self.null_class = tf.cast(null_class, tf.float32)\n        self.class_weight = class_weight\n        self.labels_len = labels_len\n        if class_weight is not None:\n            class_weights_list = [class_weight[i] for i in sorted(class_weight)]\n            self.class_weight = tf.convert_to_tensor(class_weights_list, dtype=tf.dtypes.float32)\n        self.focal_gamma = focal_gamma\n\n        # https://www.tensorflow.org/api_docs/python/tf/keras/losses/SparseCategoricalCrossentropy\n        self.loss_fn = SparseCategoricalCrossentropy(from_logits=self.from_logits,\n                                                reduction=tf.keras.losses.Reduction.NONE)\n\n    def call(self, y_true, y_pred):\n        y_true = tf.cast(y_true, tf.float32)\n        # -2 drops UNK and OTHERS\n        mask = tf.logical_and(tf.greater_equal(y_true, 0), tf.less(y_true, self.labels_len - 2))\n        y_true_masked = tf.where(mask, y_true, tf.zeros_like(y_true))\n        y_true_masked = tf.cast(y_true_masked, tf.float32)\n        if tf.executing_eagerly():\n            tf.debugging.assert_greater(tf.reduce_sum(tf.cast(mask, tf.int32)),\n                                        0, message=\"All data are masked!\")\n\n        if self.focal_gamma is not None:\n            # inspired by: https://github.com/artemmavrin/focal-loss/blob/master/src/focal_loss/_categorical_focal_loss.py\n            loss = self.loss_fn(y_true_masked, y_pred)\n            if tf.executing_eagerly():\n                # I'd like to see the indexing and wieghting is correct\n                tf.print(\"PreFocal Loss\", loss)\n                tf.print(\"Weights [aprox 0, 0.29..0.05]:\\n\", self.class_weight)\n                tf.debugging.assert_greater(loss, 0.,  message=\"Loss is ZERO?!\")\n            y_pred = tf.clip_by_value(y_pred, clip_value_min=-100., clip_value_max=100.)\n            proba = tf.nn.softmax(y_pred)\n            y_true_rank = y_true_masked.shape.rank\n\n            p_t = tf.gather(proba, tf.cast(y_true_masked, tf.int32),\n                            axis=-1, batch_dims=y_true_rank)\n            focal_modulation = tf.cast((1. - tf.clip_by_value(p_t, 0.01, 0.99)) ** self.focal_gamma, tf.float32)\n            loss *= focal_modulation\n            if self.class_weight is not None:\n                loss *= tf.gather(self.class_weight, tf.cast(y_true_masked, tf.int32))\n            if tf.executing_eagerly():\n                tf.debugging.assert_all_finite(focal_modulation, \"Focal contains NaN or Inf\")\n        else:\n          # We remove wieghts from focal loss as we zero the UNK class (ln(0)).\n          loss = self.loss_fn(y_true_masked, y_pred,\n                             sample_weight=tf.gather(self.class_weight,\n                                                 tf.cast(y_true_masked, tf.int32)) if self.class_weight is not None\n                                                 else None)\n        loss = tf.cast(loss, tf.float32)\n        loss *=  tf.cast(mask, tf.float32)\n        # Avoid div by 0.\n        sum_mask = tf.reduce_sum(tf.cast(mask, tf.float32))\n        if tf.executing_eagerly():\n            tf.debugging.assert_positive(sum_mask, message=\"sum_mask zeroed.\")\n        loss = (tf.reduce_sum(loss) / sum_mask\n                      if sum_mask > 0.\n                      else tf.constant(0., dtype=tf.float32))\n        if tf.executing_eagerly():\n            tf.debugging.assert_positive(loss, message=\"Loss masked to zero.\")\n\n        return loss","metadata":{"id":"wjuSPNTkMU-o","trusted":true},"execution_count":null,"outputs":[]},{"cell_type":"code","source":"# https://www.tensorflow.org/text/tutorials/bert_glue\ndef create_model(bert_model,\n                 config,\n                 num_labels=NUM_LABELS,\n                 max_len=MAX_LEN,\n                 unk=UNK_ID,\n                 class_weight=None,\n                 strategy=strategy):\n    print(f'labels: {NUM_LABELS}')\n    input_ids = Input(shape=(max_len,), dtype=tf.int32, name='input_ids')\n    attention_mask = Input(shape=(max_len,), dtype=tf.int32, name='attention_mask')\n    token_type_ids = Input(shape=(max_len,), dtype=tf.int32, name='token_type_ids')\n\n    bert_outputs = bert_model({\"input_ids\": input_ids,\n                                \"attention_mask\": attention_mask,\n                                \"token_type_ids\": token_type_ids},\n                            return_dict=True)\n    bert_sequence_output = tf.cast(bert_outputs.last_hidden_state, tf.float32)\n    bert_pooled_output = tf.cast(bert_outputs.pooler_output, tf.float32)\n\n    # Zero Logits that are paddings or special characters.\n    mask = tf.cast(attention_mask, tf.float32 )\n    mask = tf.expand_dims(mask, -1)\n    masked_output = bert_sequence_output * mask\n\n    ner_logits = Dropout(config.hidden_dropout_prob, name='Dropout_ner_1')(masked_output)\n    ner_logits = Dense(2048, name='Dense_ner_1', kernel_initializer=GlorotUniform())(ner_logits)\n    ner_logits = Dropout(config.hidden_dropout_prob, name='Dropout_ner_2')(ner_logits)\n    ner_output = Dense(num_labels, name='ner_output', dtype='float32')(ner_logits)\n\n    # combine NER predictions with entire sequence\n    # NER shape is [batch_size, sequence_length, num_classes (12)].\n    seq_input = tf.reshape(ner_output,\n                           [tf.shape(ner_output)[0], tf.shape(ner_output)[1] * tf.shape(ner_output)[2]])\n    seq_input = tf.concat([bert_pooled_output, seq_input], axis=1)\n\n    seq_logits = Dropout(config.hidden_dropout_prob, name='Dropout_seq_1')(seq_input)\n    seq_logits = Dense(2048, name='Dense_seq_1', kernel_initializer=GlorotUniform())(seq_logits)\n    seq_logits = Dropout(config.hidden_dropout_prob, name='Dropout_seq_2')(seq_logits)\n    seq_output = Dense(num_labels, name='seq_output', dtype='float32')(seq_logits)\n\n    model = Model(inputs=[input_ids, attention_mask, token_type_ids],\n                  outputs=[ner_output, seq_output])\n\n    # https://www.tensorflow.org/api_docs/python/tf/keras/metrics/SparseCategoricalAccuracy\n    optimizer = AdamW(learning_rate=LEARN_RATE, clipnorm=1.0)\n    if not is_tpu_strategy(strategy):\n      # TPUs already use bfloat16\n      optimizer = LossScaleOptimizer(optimizer, dynamic=True)\n    model.compile(optimizer=optimizer,\n            loss={\"ner_output\": MaskedWeightedSCCE(from_logits=True, class_weight=None, focal_gamma=None),\n                  \"seq_output\": MaskedWeightedMultiClassBCE(from_logits=True, class_weight=None, focal_gamma=None)},\n            metrics={\"ner_output\": ['sparse_categorical_accuracy'],\n                     \"seq_output\": [BinaryAccuracy(threshold=0.5)]})\n    return model\n\ndef get_tf_datasets(train_encodings, test_encodings, buffer_size=10000, batch_size=BATCH_SIZE):\n    def create_dataset(encodings, ner_labels, seq_labels):\n        input_ids = np.array(encodings['input_ids'])\n        attention_mask = np.array(encodings['attention_mask'])\n        token_type_ids = np.array(encodings['token_type_ids']) if 'token_type_ids' in train_encodings else None\n        ner_labels = np.array(ner_labels)\n        seq_labels = np.array(seq_labels)\n        return tf.data.Dataset.from_tensor_slices((\n            {\n                'input_ids': input_ids,\n                'attention_mask': attention_mask,\n                'token_type_ids': token_type_ids,\n            },\n            {\n                'seq_output': seq_labels,\n                'ner_output': ner_labels,\n            },\n        ))\n    # TODD: revert to train\n    train_dataset = create_dataset(train_encodings, train_ner_labels, train_seq_labels)\n    train_dataset = (train_dataset.shuffle(buffer_size=buffer_size)\n                                    .batch(batch_size)\n                                    .cache()\n                                    .prefetch(tf.data.experimental.AUTOTUNE))\n    test_dataset = create_dataset(test_encodings, test_ner_labels, test_seq_labels)\n    test_dataset = (test_dataset.shuffle(buffer_size=buffer_size)\n                                .batch(batch_size)\n                                .cache()\n                                .prefetch(tf.data.experimental.AUTOTUNE))\n\n    return train_dataset, test_dataset\n\nwith strategy.scope():\n    train_dataset, test_dataset = get_tf_datasets(train_encodings, test_encodings)\n\n    config = BertConfig.from_pretrained(MODEL_PATH)\n    config.num_labels = NUM_LABELS\n    bert_model = TFBertModel.from_pretrained(f'{MODEL_PATH}/model', config=config)\n\n    model = create_model(bert_model,\n                         config,\n                         num_labels=len(id2tag), class_weight=class_weights)\n    # https://www.tensorflow.org/api_docs/python/tf/keras/callbacks/TensorBoard\n    # tensorboard_callback = TensorBoard(log_dir='./logs',\n    #                                     histogram_freq=2,\n    #                                     embeddings_freq=2)\n    # https://www.tensorflow.org/api_docs/python/tf/keras/callbacks/EarlyStopping\n    early_stopping = EarlyStopping(mode='min', patience=PATIENCE, start_from_epoch=1)\n\n    # tf.debugging.enable_check_numerics() # - Assert if no Infs or NaNs go through. not for TPU!\n    # tf.config.run_functions_eagerly(not is_tpu_strategy(strategy)) # - Easy debugging\n    # https://www.tensorflow.org/api_docs/python/tf/keras/Model#fit\n    history = model.fit(train_dataset,\n                        epochs=EPOCHS,\n                        callbacks=[early_stopping, TerminateOnNaN()],\n                        verbose=\"auto\",\n                        validation_data=test_dataset)","metadata":{"id":"wjuSPNTkMU-o","trusted":true},"execution_count":null,"outputs":[]},{"cell_type":"markdown","source":"## Save Model","metadata":{}},{"cell_type":"code","source":"from tensorflow.keras.models import load_model\nfrom tensorflow.keras.models import save_model\n\nimport zipfile\n\ndef zip_models(directory, output_filename):\n    with zipfile.ZipFile(output_filename, 'w', zipfile.ZIP_DEFLATED) as zipf:\n        for root, dirs, files in os.walk(directory):\n            for file in files:\n                zipf.write(os.path.join(root, file), os.path.relpath(os.path.join(root, file), os.path.join(directory, '..')))\n\nMODEL_SAVE_PATH = './models/bert_news'\nmodel.save(MODEL_SAVE_PATH, save_format='tf')\ncustom_objects = {\n    'MaskedWeightedMultiClassBCE': MaskedWeightedMultiClassBCE,\n    'MaskedWeightedSCCE': MaskedWeightedSCCE\n}\n\nZIP_MODEL=True # May be very large!\nif ZIP_MODEL:\n    zip_models('./models', 'models.zip')\n\nloaded_model = load_model(MODEL_SAVE_PATH, custom_objects=custom_objects)\nloaded_model.summary()","metadata":{"trusted":true},"execution_count":null,"outputs":[]},{"cell_type":"markdown","source":"## Evaluate NER Classifier","metadata":{"id":"1wyz3xUKo1VP"}},{"cell_type":"code","source":"traindata = train_dataset.unbatch().batch(1).take(1)\n\ny1 = loaded_model.predict(traindata)\nprint(f\"NER labels shape: {y1[0].shape}\")\nprint(f\"Sequence labels shape: {y1[1].shape}\")","metadata":{"id":"KDIsD5-iMU-o","outputId":"251d65fa-80b6-4175-ab22-a8adb509d3eb","trusted":true},"execution_count":null,"outputs":[]},{"cell_type":"code","source":"predicted_classes = np.argmax(y1[0], axis=-1)\n\nprint(\"Logits (NEW):\", y1[0])\nprint(\"Predicted classes:\", predicted_classes)\n\npredicted_events = (y1[1] > 0.5).astype(int)\n\nprint(\"Logits (SEQ):\", y1[1])\npredicted_event_names = [[id2tag[i] for i, present in enumerate(article) if present == 1] for article in predicted_events]\nprint(f\"Predicted ({len(predicted_event_names[0])}) Event(s) in article: ({', '.join(predicted_event_names[0])})\")","metadata":{"id":"12CGfK0QMU-o","outputId":"592b96bb-cb8c-4bb8-81a1-9d85edb5182c","trusted":true},"execution_count":null,"outputs":[]},{"cell_type":"code","source":"inputs, labels = next(iter(traindata))\nprint(f\"NER Labels found: {labels['ner_output']}\")\nprint(f\"Article NER sequence: {labels['seq_output']}\")\n\narticle_events_tags = [\n    [id2tag[idx] if event == 1 else None for idx, event in enumerate(label.numpy())]\n    for label in labels['seq_output']\n]\narticle_events_tags = [\n    [tag for tag in event_tags if tag is not None]\n    for event_tags in article_events_tags\n]\nprint(f\"Article Events: {article_events_tags}\")","metadata":{"id":"UJ16MRFSMU-o","outputId":"f90131f4-de22-4f53-fda6-629ef5607c7d","trusted":true},"execution_count":null,"outputs":[]},{"cell_type":"code","source":"mask = tf.logical_and(tf.greater_equal(labels['ner_output'], 0), tf.less(labels['ner_output'], MAX_LEN))\nmask = tf.cast(mask, tf.float32)\nlosses = tf.keras.losses.sparse_categorical_crossentropy(labels['ner_output'], y1[0], from_logits=True, ignore_class=UNK_ID)\nlosses *= mask\nmean_loss = tf.reduce_sum(losses) / tf.reduce_sum(tf.cast(mask, tf.float32))\n\nprint(f\"Mask: {mask}\")\nprint(f\"Masked Losses: {losses.numpy()}\")\nprint(f\"Mean Loss: {mean_loss.numpy()}\")\n\nbinary_losses = tf.keras.losses.binary_crossentropy(labels['seq_output'] , y1[1], from_logits=True)\nmean_binary_loss = tf.reduce_mean(binary_losses)\nprint(f\"Bin Losses: {binary_losses.numpy()}\")\nprint(f\"Mean Binary Loss: {mean_binary_loss.numpy()}\")","metadata":{"id":"7zt5l0hmMU-o","outputId":"b05183b0-8194-4bf3-a85a-675a6c9e533e","trusted":true},"execution_count":null,"outputs":[]},{"cell_type":"code","source":"import matplotlib.pyplot as plt\nfrom sklearn.metrics import confusion_matrix\nimport seaborn as sns\n\ndef plot_classification(history):\n    plt.figure(figsize=(12, 6))\n    plt.subplot(1, 2, 1)\n    plt.plot(history.history['loss'], label='Training Loss')\n    plt.plot(history.history['val_loss'], label='Validation Loss')\n    plt.plot(history.history['ner_output_loss'], label='Training NER')\n    plt.plot(history.history['val_ner_output_loss'], label='Validation NER')\n    plt.plot(history.history['seq_output_loss'], label='Training SEQ')\n    plt.plot(history.history['val_seq_output_loss'], label='Validation SEQ')\n    plt.title('Training vs. Validation Loss')\n    plt.xlabel('Epochs')\n    plt.ylabel('Loss')\n    plt.legend()\n    plt.subplot(1, 2, 2)\n    plt.plot(history.history['ner_output_sparse_categorical_accuracy'], label='Training NER Accuracy')\n    plt.plot(history.history['val_ner_output_sparse_categorical_accuracy'], label='Validation NER Accuracy')\n    plt.plot(history.history['seq_output_binary_accuracy'], label='Training SEQ Accuracy')\n    plt.plot(history.history['val_seq_output_binary_accuracy'], label='Validation SEQ Accuracy')\n\n    plt.title('Training vs. Validation Accuracy')\n    plt.xlabel('Epochs')\n    plt.ylabel('Accuracy')\n    plt.legend()\n    plt.tight_layout()\n    plt.show()\n\nplot_classification(history)","metadata":{"id":"S1seJsBYMU-p","outputId":"f04d0d3e-f62c-4035-d54a-b98769686fd3","trusted":true},"execution_count":null,"outputs":[]},{"cell_type":"code","source":"from sklearn.metrics import precision_recall_fscore_support, classification_report, hamming_loss\n\ndef print_classification_performanca(predictions, true_labels, id2tag, max_len = MAX_LEN, binary=False):\n    if true_labels.ndim > 2:\n        true_labels = true_labels.reshape(true_labels.shape[0], -1)\n    if predictions.ndim > 2:\n        predictions = predictions.reshape(predictions.shape[0], -1)\n\n    true_labels = true_labels.flatten()\n    predictions = predictions.flatten()\n    print(f\"Shapes: {true_labels.shape} and {predictions.shape}\")\n    assert true_labels.shape == predictions.shape, \"Shape mismatch between labels and predictions\"\n\n    print(classification_report(true_labels, predictions,\n                                labels=range(len(id2tag)),\n                                target_names=list(id2tag.values()), zero_division=0))\n\n    weighted_precision, weighted_recall, weighted_f1, _ = precision_recall_fscore_support(\n                                                                        true_labels, predictions,\n                                                                        average='weighted')\n\n    ner_correct = np.sum(predictions == true_labels)\n    ner_total = len(true_labels)\n\n    h_loss = hamming_loss(true_labels, predictions)\n\n    print('Accuracy: {:.2f}%'.format(100. * ner_correct / ner_total))\n    print('Hamming: {:.2f}%'.format(h_loss))\n    print(f\"Precision: {100. * weighted_precision:.2f}%, Recall: {100. * weighted_recall:.2f}%,, F1-Score: {100. * weighted_f1:.2f}%\")\n\npredictions = model.predict(test_dataset)\npredicted_label_indices = np.argmax(predictions[0], axis=-1)\nfiltered_indices = predicted_label_indices[predicted_label_indices != UNK]\ntest_ner_labels = np.array(test_ner_labels)\nfiltered_labels = test_ner_labels[test_ner_labels != UNK]\n\nprint_classification_performanca(filtered_indices, filtered_labels, id2tag)","metadata":{"id":"dPbhpJv2MU-p","outputId":"d8090836-9415-4314-8f2a-9f3bf7c1dcd8","trusted":true},"execution_count":null,"outputs":[]},{"cell_type":"markdown","source":"## Evaluate Sequence Classifier","metadata":{}},{"cell_type":"code","source":"seq_pred = predictions[1]\nseq_labels = np.array(test_seq_labels)\nseq_correct = 0\nfor pred, label in zip(seq_pred, seq_labels):\n    pred = tf.nn.sigmoid(pred)\n    pred_tags = set(np.where(pred > 0.5)[0])\n    label_tags = set(np.where(label == 1)[0])\n    if pred_tags == label_tags:\n        seq_correct += 1\n\nevent_accuracy_ratio = seq_correct / len(seq_labels) if len(seq_labels) > 0 else 0\nprint(f\"Accuracy Ratio: {event_accuracy_ratio:.2f}, correct predictions ({seq_correct} out of {len(seq_labels)})\")","metadata":{"trusted":true},"execution_count":null,"outputs":[]}]}
=======
{
 "cells": [
  {
   "cell_type": "markdown",
   "id": "5617dba4",
   "metadata": {
    "id": "oaDoHbxVH0CW",
    "papermill": {
     "duration": 0.009897,
     "end_time": "2024-05-06T21:24:52.681281",
     "exception": false,
     "start_time": "2024-05-06T21:24:52.671384",
     "status": "completed"
    },
    "tags": []
   },
   "source": [
    "# BERT Trading Signal: News and Corporate Actions"
   ]
  },
  {
   "cell_type": "markdown",
   "id": "7040b582",
   "metadata": {
    "id": "aM59cTClH0CZ",
    "papermill": {
     "duration": 0.009097,
     "end_time": "2024-05-06T21:24:52.699792",
     "exception": false,
     "start_time": "2024-05-06T21:24:52.690695",
     "status": "completed"
    },
    "tags": []
   },
   "source": [
    "```bibtex\n",
    "@inproceedings{zhou-etal-2021-trade,\n",
    "    title = \"Trade the Event: Corporate Events Detection for News-Based Event-Driven Trading\",\n",
    "    author = \"Zhou, Zhihan  and\n",
    "      Ma, Liqian  and\n",
    "      Liu, Han\",\n",
    "    editor = \"Zong, Chengqing  and\n",
    "      Xia, Fei  and\n",
    "      Li, Wenjie  and\n",
    "      Navigli, Roberto\",\n",
    "    booktitle = \"Findings of the Association for Computational Linguistics: ACL-IJCNLP 2021\",\n",
    "    month = aug,\n",
    "    year = \"2021\",\n",
    "    address = \"Online\",\n",
    "    publisher = \"Association for Computational Linguistics\",\n",
    "    url = \"https://aclanthology.org/2021.findings-acl.186\",\n",
    "    doi = \"10.18653/v1/2021.findings-acl.186\",\n",
    "    pages = \"2114--2124\",\n",
    "}\n",
    "```"
   ]
  },
  {
   "cell_type": "markdown",
   "id": "b10eb742",
   "metadata": {
    "id": "z_cBqdYOoY5S",
    "papermill": {
     "duration": 0.009081,
     "end_time": "2024-05-06T21:24:52.718120",
     "exception": false,
     "start_time": "2024-05-06T21:24:52.709039",
     "status": "completed"
    },
    "tags": []
   },
   "source": [
    "# Notebook Environment"
   ]
  },
  {
   "cell_type": "code",
   "execution_count": 1,
   "id": "95ff70d5",
   "metadata": {
    "execution": {
     "iopub.execute_input": "2024-05-06T21:24:52.738593Z",
     "iopub.status.busy": "2024-05-06T21:24:52.737807Z",
     "iopub.status.idle": "2024-05-06T21:24:53.705693Z",
     "shell.execute_reply": "2024-05-06T21:24:53.704650Z"
    },
    "id": "eETPYJLiMU-b",
    "outputId": "49f77cf0-e6a3-44d8-9dae-05a929fa4804",
    "papermill": {
     "duration": 0.980468,
     "end_time": "2024-05-06T21:24:53.707857",
     "exception": false,
     "start_time": "2024-05-06T21:24:52.727389",
     "status": "completed"
    },
    "tags": []
   },
   "outputs": [
    {
     "name": "stdout",
     "output_type": "stream",
     "text": [
      "Python 3.10.13\r\n"
     ]
    }
   ],
   "source": [
    "UPGRADE_PY = False\n",
    "INSTALL_DEPS = False\n",
    "if INSTALL_DEPS:\n",
    "  # %pip install -q tensorboard==2.15.2\n",
    "  # %pip install -q tensorflow[and-cuda]==2.15.1\n",
    "  # %pip install -q tensorflow==2.15.0\n",
    "  # %pip install -q tensorflow-io-gcs-filesystem==0.36.0\n",
    "  # %pip install -q tensorflow-text==2.15.0\n",
    "  # %pip install -q tf_keras==2.15.1\n",
    "  # %pip install -q tokenizers==0.15.2\n",
    "  # %pip install -q torch==2.2.0+cpu\n",
    "  # %pip install -q torch-xla==2.2.0+libtpu\n",
    "  # %pip install -q torchdata==0.7.1\n",
    "  %pip install -q transformers==4.38.2\n",
    "\n",
    "if UPGRADE_PY:\n",
    "  !mamba create -n py311 -y\n",
    "  !source /opt/conda/bin/activate py312 && mamba install python=3.11 jupyter mamba -y\n",
    "\n",
    "  !sudo rm /opt/conda/bin/python3\n",
    "  !sudo ln -sf /opt/conda/envs/py312/bin/python3 /opt/conda/bin/python3\n",
    "  !sudo rm /opt/conda/bin/python3.10\n",
    "  !sudo ln -sf /opt/conda/envs/py312/bin/python3 /opt/conda/bin/python3.10\n",
    "  !sudo rm /opt/conda/bin/python\n",
    "  !sudo ln -sf /opt/conda/envs/py312/bin/python3 /opt/conda/bin/python\n",
    "\n",
    "!python --version"
   ]
  },
  {
   "cell_type": "code",
   "execution_count": 2,
   "id": "6cffaab2",
   "metadata": {
    "execution": {
     "iopub.execute_input": "2024-05-06T21:24:53.728590Z",
     "iopub.status.busy": "2024-05-06T21:24:53.728286Z",
     "iopub.status.idle": "2024-05-06T21:24:55.606022Z",
     "shell.execute_reply": "2024-05-06T21:24:55.605001Z"
    },
    "id": "Q4-GoceIIfT_",
    "outputId": "7dcb11f2-d20e-4714-e4fe-f9895dc22aac",
    "papermill": {
     "duration": 1.890664,
     "end_time": "2024-05-06T21:24:55.608342",
     "exception": false,
     "start_time": "2024-05-06T21:24:53.717678",
     "status": "completed"
    },
    "tags": []
   },
   "outputs": [
    {
     "name": "stdout",
     "output_type": "stream",
     "text": [
      "Running in Kaggle...\n",
      "/kaggle/input/uscorpactionnews/Event_detection/train.txt\n",
      "/kaggle/input/uscorpactionnews/Event_detection/dev.txt\n",
      "/kaggle/input/uscorpactionnews/Trading_benchmark/evaluate_news.json\n",
      "/kaggle/input/uscorpactionnews/Domain_adapation/train.txt\n",
      "/kaggle/input/uscorpactionnews/Domain_adapation/dev.txt\n",
      "/kaggle/input/finbert/tensorflow2/bert-invest-conditioned/1/config.json\n",
      "/kaggle/input/finbert/tensorflow2/bert-invest-conditioned/1/model/config.json\n",
      "/kaggle/input/finbert/tensorflow2/bert-invest-conditioned/1/model/tf_model.h5\n",
      "/kaggle/input/finbert/tensorflow2/bert-invest-conditioned/1/tokenizer/tokenizer.json\n",
      "/kaggle/input/finbert/tensorflow2/bert-invest-conditioned/1/tokenizer/tokenizer_config.json\n",
      "/kaggle/input/finbert/tensorflow2/bert-invest-conditioned/1/tokenizer/special_tokens_map.json\n",
      "/kaggle/input/finbert/tensorflow2/bert-invest-conditioned/1/tokenizer/vocab.txt\n",
      "Kaggle!\n"
     ]
    }
   ],
   "source": [
    "import os\n",
    "import sys\n",
    "import warnings\n",
    "warnings.filterwarnings(\"ignore\")\n",
    "\n",
    "# Transformers cannot use keras3\n",
    "os.environ['TF_CPP_MIN_LOG_LEVEL'] = '2'\n",
    "os.environ['TF_USE_LEGACY_KERAS'] = '1'\n",
    "IN_KAGGLE = IN_COLAB = False\n",
    "!export CUDA_LAUNCH_BLOCKING=1\n",
    "!export XLA_FLAGS=--xla_cpu_verbose=0\n",
    "\n",
    "MODEL_PATH = \"google-bert/bert-base-cased\"\n",
    "try:\n",
    "    # https://www.tensorflow.org/install/pip#windows-wsl2\n",
    "    import google.colab\n",
    "    from google.colab import drive\n",
    "    drive.mount('/content/drive')\n",
    "    DATA_PATH = \"/content/drive/MyDrive/EDT dataset\"\n",
    "    DATA_PATH = \"/content/drive/MyDrive/investopediaBERT\"\n",
    "    IN_COLAB = True\n",
    "    print('Colab!')\n",
    "except:\n",
    "  IN_COLAB = False\n",
    "if 'KAGGLE_KERNEL_RUN_TYPE' in os.environ and not IN_COLAB:\n",
    "    print('Running in Kaggle...')\n",
    "    for dirname, _, filenames in os.walk('/kaggle/input'):\n",
    "        for filename in filenames:\n",
    "            print(os.path.join(dirname, filename))\n",
    "    DATA_PATH = \"/kaggle/input/uscorpactionnews\"\n",
    "    MODEL_PATH = \"/kaggle/input/finbert/tensorflow2/bert-invest-conditioned/1\"\n",
    "    IN_KAGGLE = True\n",
    "    print('Kaggle!')\n",
    "elif not IN_COLAB and not IN_KAGGLE:\n",
    "    IN_KAGGLE = False\n",
    "    DATA_PATH = \"./data/\"\n",
    "    print('Localhost!')\n",
    "    MODEL_PATH = \"./models/bert-invest-conditioned\"\n"
   ]
  },
  {
   "cell_type": "markdown",
   "id": "210f151c",
   "metadata": {
    "id": "b-qBL7v5oY5T",
    "papermill": {
     "duration": 0.009421,
     "end_time": "2024-05-06T21:24:55.627882",
     "exception": false,
     "start_time": "2024-05-06T21:24:55.618461",
     "status": "completed"
    },
    "tags": []
   },
   "source": [
    "# Accelerators Configuration"
   ]
  },
  {
   "cell_type": "code",
   "execution_count": 3,
   "id": "b177220d",
   "metadata": {
    "execution": {
     "iopub.execute_input": "2024-05-06T21:24:55.649285Z",
     "iopub.status.busy": "2024-05-06T21:24:55.648992Z",
     "iopub.status.idle": "2024-05-06T21:25:09.083696Z",
     "shell.execute_reply": "2024-05-06T21:25:09.082744Z"
    },
    "id": "GJiIs_h-H0Ca",
    "outputId": "6c60aab2-ba24-4123-8f02-011e5776646b",
    "papermill": {
     "duration": 13.447346,
     "end_time": "2024-05-06T21:25:09.085610",
     "exception": false,
     "start_time": "2024-05-06T21:24:55.638264",
     "status": "completed"
    },
    "tags": []
   },
   "outputs": [
    {
     "name": "stderr",
     "output_type": "stream",
     "text": [
      "2024-05-06 21:24:58.261560: E external/local_xla/xla/stream_executor/cuda/cuda_dnn.cc:9261] Unable to register cuDNN factory: Attempting to register factory for plugin cuDNN when one has already been registered\n",
      "2024-05-06 21:24:58.261650: E external/local_xla/xla/stream_executor/cuda/cuda_fft.cc:607] Unable to register cuFFT factory: Attempting to register factory for plugin cuFFT when one has already been registered\n",
      "2024-05-06 21:24:58.405112: E external/local_xla/xla/stream_executor/cuda/cuda_blas.cc:1515] Unable to register cuBLAS factory: Attempting to register factory for plugin cuBLAS when one has already been registered\n"
     ]
    },
    {
     "name": "stdout",
     "output_type": "stream",
     "text": [
      "Tensorflow version: [2.15.0]\n",
      "Please provide a TPU Name to connect to.\n",
      "1 Physical GPUs, 1 Logical GPUs\n",
      "Running on 1 GPU(s)\n",
      "Number of accelerators: 1\n"
     ]
    },
    {
     "data": {
      "text/plain": [
       "'/kaggle/working'"
      ]
     },
     "execution_count": 3,
     "metadata": {},
     "output_type": "execute_result"
    }
   ],
   "source": [
    "import numpy as np\n",
    "import pandas as pd\n",
    "\n",
    "from pathlib import Path\n",
    "import re\n",
    "import pickle\n",
    "from copy import deepcopy\n",
    "\n",
    "from tqdm import tqdm\n",
    "import tensorflow as tf\n",
    "from tensorflow.keras import mixed_precision\n",
    "\n",
    "print(f'Tensorflow version: [{tf.__version__}]')\n",
    "\n",
    "tf.get_logger().setLevel('INFO')\n",
    "\n",
    "#tf.config.set_soft_device_placement(True)\n",
    "#tf.config.experimental.enable_op_determinism()\n",
    "#tf.random.set_seed(1)\n",
    "try:\n",
    "  tpu = tf.distribute.cluster_resolver.TPUClusterResolver()\n",
    "\n",
    "  tf.config.experimental_connect_to_cluster(tpu)\n",
    "  tf.tpu.experimental.initialize_tpu_system(tpu)\n",
    "  strategy = tf.distribute.TPUStrategy(tpu)\n",
    "except Exception as e:\n",
    "  # Not an exception, just no TPUs available, GPU is fallback\n",
    "  # https://www.tensorflow.org/guide/mixed_precision\n",
    "  print(e)\n",
    "  policy = mixed_precision.Policy('mixed_float16')\n",
    "  mixed_precision.set_global_policy(policy)\n",
    "  gpus = tf.config.experimental.list_physical_devices('GPU')\n",
    "  if len(gpus) > 0:\n",
    "    try:\n",
    "        for gpu in gpus:\n",
    "            tf.config.experimental.set_memory_growth(gpu, False)\n",
    "        tf.config.experimental.set_virtual_device_configuration(gpus[0], [tf.config.experimental.VirtualDeviceConfiguration(memory_limit=12288)])\n",
    "        logical_gpus = tf.config.experimental.list_logical_devices('GPU')\n",
    "        strategy = tf.distribute.MirroredStrategy()\n",
    "\n",
    "        print(len(gpus), \"Physical GPUs,\", len(logical_gpus), \"Logical GPUs\")\n",
    "    except RuntimeError as e:\n",
    "        print(e)\n",
    "    finally:\n",
    "        print(\"Running on\", len(tf.config.list_physical_devices('GPU')), \"GPU(s)\")\n",
    "  else:\n",
    "    # CPU is final fallback\n",
    "    strategy = tf.distribute.get_strategy()\n",
    "    print(\"Running on CPU\")\n",
    "\n",
    "def is_tpu_strategy(strategy):\n",
    "    return isinstance(strategy, tf.distribute.TPUStrategy)\n",
    "\n",
    "print(\"Number of accelerators:\", strategy.num_replicas_in_sync)\n",
    "os.getcwd()"
   ]
  },
  {
   "cell_type": "markdown",
   "id": "b6cd902e",
   "metadata": {
    "id": "qHqWsa3PMU-d",
    "papermill": {
     "duration": 0.009903,
     "end_time": "2024-05-06T21:25:09.106311",
     "exception": false,
     "start_time": "2024-05-06T21:25:09.096408",
     "status": "completed"
    },
    "tags": []
   },
   "source": [
    "# Tokens, Sequences, and NER\n",
    "\n",
    "Our corpus will be processed and labelled to 11 types of corporate events:\n",
    "1. Acquisition(A)\n",
    "1. Clinical Trial(CT)\n",
    "1. Regular Dividend(RD)\n",
    "1. Dividend Cut(DC)\n",
    "1. Dividend Increase(DI)\n",
    "1. Guidance Increase(GI)\n",
    "1. New Contract(NC)\n",
    "1. Reverse Stock Split(RSS)\n",
    "1. Special Dividend(SD)\n",
    "1. Stock Repurchase(SR)\n",
    "1. Stock Split(SS).\n",
    "1. No event (O)\n",
    "\n",
    "Articles are structured as follows:\n",
    "\n",
    "```json\n",
    "'title': 'Title',\n",
    "'text': 'Text Body',\n",
    "'pub_time': 'Published datetime',\n",
    "'labels': {\n",
    "    'ticker': 'Security symbol',\n",
    "    'start_time': 'First trade after article published',\n",
    "    'start_price_open': 'The \"Open\" price at start_time',\n",
    "    'start_price_close': 'The \"Close\" price at start_time',\n",
    "    'end_price_nday': 'The \"Close\" price at the last minute of the following 1-3 trading day. If early than 4pm ET its the same day. Otherwise, it refers to the next trading day.',\n",
    "    'end_time_1-3day': 'The time corresponds to end_price_1day',\n",
    "    'highest_price_nday': 'The highest price in the following 1-3 trading',\n",
    "    'highest_time_nday': 'The time corresponds to highest_price_1-3day',\n",
    "    'lowest_price_nday': 'The lowest price in the following 1-3 trading day',\n",
    "    'lowest_time_nday': 'The time corresponds to lowest_price_1-3day',\n",
    "}\n",
    "```"
   ]
  },
  {
   "cell_type": "code",
   "execution_count": 4,
   "id": "ae93d916",
   "metadata": {
    "execution": {
     "iopub.execute_input": "2024-05-06T21:25:09.128657Z",
     "iopub.status.busy": "2024-05-06T21:25:09.128069Z",
     "iopub.status.idle": "2024-05-06T21:25:09.132892Z",
     "shell.execute_reply": "2024-05-06T21:25:09.132012Z"
    },
    "id": "LC-uTYv3MU-d",
    "papermill": {
     "duration": 0.017775,
     "end_time": "2024-05-06T21:25:09.134723",
     "exception": false,
     "start_time": "2024-05-06T21:25:09.116948",
     "status": "completed"
    },
    "tags": []
   },
   "outputs": [],
   "source": [
    "NUM_LABELS = 12 # See Labels description above.\n",
    "SPECIAL_TOKEN = 'CLS' # Use for classification and hidden state placeholder.\n",
    "UNK_ID = -100 # Unknown token, ignored by loss\n",
    "UNK = 'UNK'\n",
    "OTHER_ID = 11\n",
    "OTHER = 'O'"
   ]
  },
  {
   "cell_type": "markdown",
   "id": "356c79d8",
   "metadata": {
    "id": "76ApkzW0MU-d",
    "papermill": {
     "duration": 0.011336,
     "end_time": "2024-05-06T21:25:09.160626",
     "exception": false,
     "start_time": "2024-05-06T21:25:09.149290",
     "status": "completed"
    },
    "tags": []
   },
   "source": [
    "### Tokenizing News Text"
   ]
  },
  {
   "cell_type": "code",
   "execution_count": 5,
   "id": "f687e67a",
   "metadata": {
    "execution": {
     "iopub.execute_input": "2024-05-06T21:25:09.182481Z",
     "iopub.status.busy": "2024-05-06T21:25:09.181916Z",
     "iopub.status.idle": "2024-05-06T21:25:19.709422Z",
     "shell.execute_reply": "2024-05-06T21:25:19.708492Z"
    },
    "id": "Tf7Hh9gJMU-d",
    "outputId": "a73ad504-0a1d-41be-fd27-667720096e15",
    "papermill": {
     "duration": 10.540511,
     "end_time": "2024-05-06T21:25:19.711366",
     "exception": false,
     "start_time": "2024-05-06T21:25:09.170855",
     "status": "completed"
    },
    "tags": []
   },
   "outputs": [
    {
     "name": "stderr",
     "output_type": "stream",
     "text": [
      "Some layers from the model checkpoint at /kaggle/input/finbert/tensorflow2/bert-invest-conditioned/1/model were not used when initializing TFBertModel: ['mlm___cls']\n",
      "- This IS expected if you are initializing TFBertModel from the checkpoint of a model trained on another task or with another architecture (e.g. initializing a BertForSequenceClassification model from a BertForPreTraining model).\n",
      "- This IS NOT expected if you are initializing TFBertModel from the checkpoint of a model that you expect to be exactly identical (initializing a BertForSequenceClassification model from a BertForSequenceClassification model).\n",
      "Some layers of TFBertModel were not initialized from the model checkpoint at /kaggle/input/finbert/tensorflow2/bert-invest-conditioned/1/model and are newly initialized: ['bert/pooler/dense/bias:0', 'bert/pooler/dense/kernel:0']\n",
      "You should probably TRAIN this model on a down-stream task to be able to use it for predictions and inference.\n"
     ]
    },
    {
     "name": "stdout",
     "output_type": "stream",
     "text": [
      "['When', 'taken', 'as', 'a', 'whole', ',', 'the', 'evidence', 'suggests', 'C', '##ram', '##er', 'recommend', '##s', '“', 'hot', '”', 'stocks', 'lending', 'c', '##red', '##ence', 'to', 'the', 'Hot', 'Hand', 'Fall', '##acy', 'in', 'this', 'context', '.']\n"
     ]
    }
   ],
   "source": [
    "from transformers import BertTokenizerFast, TFBertModel, BertConfig\n",
    "\n",
    "# https://huggingface.co/transformers/v3.0.2/model_doc/bert.html#berttokenizerfast\n",
    "tokenizer = BertTokenizerFast.from_pretrained(f'{MODEL_PATH}/tokenizer')\n",
    "model = TFBertModel.from_pretrained(f'{MODEL_PATH}/model')\n",
    "\n",
    "text = [\"When taken as a whole, the evidence suggests Cramer recommends “hot” stocks\", \"lending credence to the Hot Hand Fallacy in this context.\"]\n",
    "\n",
    "tokenized_sequence = tokenizer.tokenize(text)\n",
    "print(tokenized_sequence)"
   ]
  },
  {
   "cell_type": "code",
   "execution_count": 6,
   "id": "ceb1664d",
   "metadata": {
    "execution": {
     "iopub.execute_input": "2024-05-06T21:25:19.733609Z",
     "iopub.status.busy": "2024-05-06T21:25:19.733339Z",
     "iopub.status.idle": "2024-05-06T21:25:19.744026Z",
     "shell.execute_reply": "2024-05-06T21:25:19.743164Z"
    },
    "id": "j1nVg-G8MU-d",
    "outputId": "ed122664-fdad-43a8-864d-34588ec59eac",
    "papermill": {
     "duration": 0.024254,
     "end_time": "2024-05-06T21:25:19.746321",
     "exception": false,
     "start_time": "2024-05-06T21:25:19.722067",
     "status": "completed"
    },
    "tags": []
   },
   "outputs": [
    {
     "data": {
      "text/plain": [
       "{'input_ids': <tf.Tensor: shape=(1, 256), dtype=int32, numpy=\n",
       "array([[  101,  1332,  1678,  1112,   170,  2006,   117,  1103,  2554,\n",
       "         5401,   140,  4515,  1200, 18029,  1116,   789,  2633,   790,\n",
       "        17901,   102, 21363,   172,  4359,  7008,  1106,  1103,  4126,\n",
       "         9918,  6760, 15347,  1107,  1142,  5618,   119,   102,     0,\n",
       "            0,     0,     0,     0,     0,     0,     0,     0,     0,\n",
       "            0,     0,     0,     0,     0,     0,     0,     0,     0,\n",
       "            0,     0,     0,     0,     0,     0,     0,     0,     0,\n",
       "            0,     0,     0,     0,     0,     0,     0,     0,     0,\n",
       "            0,     0,     0,     0,     0,     0,     0,     0,     0,\n",
       "            0,     0,     0,     0,     0,     0,     0,     0,     0,\n",
       "            0,     0,     0,     0,     0,     0,     0,     0,     0,\n",
       "            0,     0,     0,     0,     0,     0,     0,     0,     0,\n",
       "            0,     0,     0,     0,     0,     0,     0,     0,     0,\n",
       "            0,     0,     0,     0,     0,     0,     0,     0,     0,\n",
       "            0,     0,     0,     0,     0,     0,     0,     0,     0,\n",
       "            0,     0,     0,     0,     0,     0,     0,     0,     0,\n",
       "            0,     0,     0,     0,     0,     0,     0,     0,     0,\n",
       "            0,     0,     0,     0,     0,     0,     0,     0,     0,\n",
       "            0,     0,     0,     0,     0,     0,     0,     0,     0,\n",
       "            0,     0,     0,     0,     0,     0,     0,     0,     0,\n",
       "            0,     0,     0,     0,     0,     0,     0,     0,     0,\n",
       "            0,     0,     0,     0,     0,     0,     0,     0,     0,\n",
       "            0,     0,     0,     0,     0,     0,     0,     0,     0,\n",
       "            0,     0,     0,     0,     0,     0,     0,     0,     0,\n",
       "            0,     0,     0,     0,     0,     0,     0,     0,     0,\n",
       "            0,     0,     0,     0,     0,     0,     0,     0,     0,\n",
       "            0,     0,     0,     0,     0,     0,     0,     0,     0,\n",
       "            0,     0,     0,     0,     0,     0,     0,     0,     0,\n",
       "            0,     0,     0,     0]], dtype=int32)>, 'token_type_ids': <tf.Tensor: shape=(1, 256), dtype=int32, numpy=\n",
       "array([[0, 0, 0, 0, 0, 0, 0, 0, 0, 0, 0, 0, 0, 0, 0, 0, 0, 0, 0, 0, 1, 1,\n",
       "        1, 1, 1, 1, 1, 1, 1, 1, 1, 1, 1, 1, 1, 0, 0, 0, 0, 0, 0, 0, 0, 0,\n",
       "        0, 0, 0, 0, 0, 0, 0, 0, 0, 0, 0, 0, 0, 0, 0, 0, 0, 0, 0, 0, 0, 0,\n",
       "        0, 0, 0, 0, 0, 0, 0, 0, 0, 0, 0, 0, 0, 0, 0, 0, 0, 0, 0, 0, 0, 0,\n",
       "        0, 0, 0, 0, 0, 0, 0, 0, 0, 0, 0, 0, 0, 0, 0, 0, 0, 0, 0, 0, 0, 0,\n",
       "        0, 0, 0, 0, 0, 0, 0, 0, 0, 0, 0, 0, 0, 0, 0, 0, 0, 0, 0, 0, 0, 0,\n",
       "        0, 0, 0, 0, 0, 0, 0, 0, 0, 0, 0, 0, 0, 0, 0, 0, 0, 0, 0, 0, 0, 0,\n",
       "        0, 0, 0, 0, 0, 0, 0, 0, 0, 0, 0, 0, 0, 0, 0, 0, 0, 0, 0, 0, 0, 0,\n",
       "        0, 0, 0, 0, 0, 0, 0, 0, 0, 0, 0, 0, 0, 0, 0, 0, 0, 0, 0, 0, 0, 0,\n",
       "        0, 0, 0, 0, 0, 0, 0, 0, 0, 0, 0, 0, 0, 0, 0, 0, 0, 0, 0, 0, 0, 0,\n",
       "        0, 0, 0, 0, 0, 0, 0, 0, 0, 0, 0, 0, 0, 0, 0, 0, 0, 0, 0, 0, 0, 0,\n",
       "        0, 0, 0, 0, 0, 0, 0, 0, 0, 0, 0, 0, 0, 0]], dtype=int32)>, 'attention_mask': <tf.Tensor: shape=(1, 256), dtype=int32, numpy=\n",
       "array([[1, 1, 1, 1, 1, 1, 1, 1, 1, 1, 1, 1, 1, 1, 1, 1, 1, 1, 1, 1, 1, 1,\n",
       "        1, 1, 1, 1, 1, 1, 1, 1, 1, 1, 1, 1, 1, 0, 0, 0, 0, 0, 0, 0, 0, 0,\n",
       "        0, 0, 0, 0, 0, 0, 0, 0, 0, 0, 0, 0, 0, 0, 0, 0, 0, 0, 0, 0, 0, 0,\n",
       "        0, 0, 0, 0, 0, 0, 0, 0, 0, 0, 0, 0, 0, 0, 0, 0, 0, 0, 0, 0, 0, 0,\n",
       "        0, 0, 0, 0, 0, 0, 0, 0, 0, 0, 0, 0, 0, 0, 0, 0, 0, 0, 0, 0, 0, 0,\n",
       "        0, 0, 0, 0, 0, 0, 0, 0, 0, 0, 0, 0, 0, 0, 0, 0, 0, 0, 0, 0, 0, 0,\n",
       "        0, 0, 0, 0, 0, 0, 0, 0, 0, 0, 0, 0, 0, 0, 0, 0, 0, 0, 0, 0, 0, 0,\n",
       "        0, 0, 0, 0, 0, 0, 0, 0, 0, 0, 0, 0, 0, 0, 0, 0, 0, 0, 0, 0, 0, 0,\n",
       "        0, 0, 0, 0, 0, 0, 0, 0, 0, 0, 0, 0, 0, 0, 0, 0, 0, 0, 0, 0, 0, 0,\n",
       "        0, 0, 0, 0, 0, 0, 0, 0, 0, 0, 0, 0, 0, 0, 0, 0, 0, 0, 0, 0, 0, 0,\n",
       "        0, 0, 0, 0, 0, 0, 0, 0, 0, 0, 0, 0, 0, 0, 0, 0, 0, 0, 0, 0, 0, 0,\n",
       "        0, 0, 0, 0, 0, 0, 0, 0, 0, 0, 0, 0, 0, 0]], dtype=int32)>}"
      ]
     },
     "execution_count": 6,
     "metadata": {},
     "output_type": "execute_result"
    }
   ],
   "source": [
    "MAX_LEN = 256 # Default 256, MAX 512\n",
    "sample_inputs = inputs = tokenizer.encode_plus(\n",
    "    text,\n",
    "    add_special_tokens=True,  # Add '[CLS]' and '[SEP]'\n",
    "    max_length=MAX_LEN,  # Maximum length for padding/truncation, adjust as needed\n",
    "    padding='max_length',\n",
    "    return_tensors='tf',\n",
    "    truncation=True\n",
    ")\n",
    "sample_inputs"
   ]
  },
  {
   "cell_type": "code",
   "execution_count": 7,
   "id": "a9d58ffa",
   "metadata": {
    "execution": {
     "iopub.execute_input": "2024-05-06T21:25:19.771296Z",
     "iopub.status.busy": "2024-05-06T21:25:19.770979Z",
     "iopub.status.idle": "2024-05-06T21:25:19.777603Z",
     "shell.execute_reply": "2024-05-06T21:25:19.776723Z"
    },
    "id": "Z3vW8jMsMU-e",
    "outputId": "256fe652-8d47-4c9e-d521-0f51395bb2cc",
    "papermill": {
     "duration": 0.021202,
     "end_time": "2024-05-06T21:25:19.779660",
     "exception": false,
     "start_time": "2024-05-06T21:25:19.758458",
     "status": "completed"
    },
    "tags": []
   },
   "outputs": [
    {
     "data": {
      "text/plain": [
       "'[CLS] When taken as a whole, the evidence suggests Cramer recommends “ hot ” stocks [SEP] lending credence to the Hot Hand Fallacy in this context. [SEP] [PAD] [PAD] [PAD] [PAD] [PAD] [PAD] [PAD] [PAD] [PAD] [PAD] [PAD] [PAD] [PAD] [PAD] [PAD] [PAD] [PAD] [PAD] [PAD] [PAD] [PAD] [PAD] [PAD] [PAD] [PAD] [PAD] [PAD] [PAD] [PAD] [PAD] [PAD] [PAD] [PAD] [PAD] [PAD] [PAD] [PAD] [PAD] [PAD] [PAD] [PAD] [PAD] [PAD] [PAD] [PAD] [PAD] [PAD] [PAD] [PAD] [PAD] [PAD] [PAD] [PAD] [PAD] [PAD] [PAD] [PAD] [PAD] [PAD] [PAD] [PAD] [PAD] [PAD] [PAD] [PAD] [PAD] [PAD] [PAD] [PAD] [PAD] [PAD] [PAD] [PAD] [PAD] [PAD] [PAD] [PAD] [PAD] [PAD] [PAD] [PAD] [PAD] [PAD] [PAD] [PAD] [PAD] [PAD] [PAD] [PAD] [PAD] [PAD] [PAD] [PAD] [PAD] [PAD] [PAD] [PAD] [PAD] [PAD] [PAD] [PAD] [PAD] [PAD] [PAD] [PAD] [PAD] [PAD] [PAD] [PAD] [PAD] [PAD] [PAD] [PAD] [PAD] [PAD] [PAD] [PAD] [PAD] [PAD] [PAD] [PAD] [PAD] [PAD] [PAD] [PAD] [PAD] [PAD] [PAD] [PAD] [PAD] [PAD] [PAD] [PAD] [PAD] [PAD] [PAD] [PAD] [PAD] [PAD] [PAD] [PAD] [PAD] [PAD] [PAD] [PAD] [PAD] [PAD] [PAD] [PAD] [PAD] [PAD] [PAD] [PAD] [PAD] [PAD] [PAD] [PAD] [PAD] [PAD] [PAD] [PAD] [PAD] [PAD] [PAD] [PAD] [PAD] [PAD] [PAD] [PAD] [PAD] [PAD] [PAD] [PAD] [PAD] [PAD] [PAD] [PAD] [PAD] [PAD] [PAD] [PAD] [PAD] [PAD] [PAD] [PAD] [PAD] [PAD] [PAD] [PAD] [PAD] [PAD] [PAD] [PAD] [PAD] [PAD] [PAD] [PAD] [PAD] [PAD] [PAD] [PAD] [PAD] [PAD] [PAD] [PAD] [PAD] [PAD] [PAD] [PAD] [PAD] [PAD] [PAD] [PAD] [PAD] [PAD] [PAD] [PAD] [PAD] [PAD] [PAD] [PAD]'"
      ]
     },
     "execution_count": 7,
     "metadata": {},
     "output_type": "execute_result"
    }
   ],
   "source": [
    "tokenizer.decode(sample_inputs[\"input_ids\"].numpy()[0])"
   ]
  },
  {
   "cell_type": "code",
   "execution_count": 8,
   "id": "28fe3f1d",
   "metadata": {
    "execution": {
     "iopub.execute_input": "2024-05-06T21:25:19.803385Z",
     "iopub.status.busy": "2024-05-06T21:25:19.803138Z",
     "iopub.status.idle": "2024-05-06T21:25:19.808804Z",
     "shell.execute_reply": "2024-05-06T21:25:19.807932Z"
    },
    "id": "G_r1ZX9zMU-e",
    "outputId": "02719548-11db-4d40-bbe1-b0d424e5450f",
    "papermill": {
     "duration": 0.019795,
     "end_time": "2024-05-06T21:25:19.810711",
     "exception": false,
     "start_time": "2024-05-06T21:25:19.790916",
     "status": "completed"
    },
    "tags": []
   },
   "outputs": [
    {
     "data": {
      "text/plain": [
       "TensorShape([1, 256])"
      ]
     },
     "execution_count": 8,
     "metadata": {},
     "output_type": "execute_result"
    }
   ],
   "source": [
    "sample_inputs[\"attention_mask\"].shape"
   ]
  },
  {
   "cell_type": "code",
   "execution_count": 9,
   "id": "38cf41ec",
   "metadata": {
    "execution": {
     "iopub.execute_input": "2024-05-06T21:25:19.834422Z",
     "iopub.status.busy": "2024-05-06T21:25:19.834159Z",
     "iopub.status.idle": "2024-05-06T21:25:19.840965Z",
     "shell.execute_reply": "2024-05-06T21:25:19.840121Z"
    },
    "id": "4ATd9pStMU-e",
    "outputId": "e85d7485-248b-40a5-e5b2-ba9302ac5e6f",
    "papermill": {
     "duration": 0.020927,
     "end_time": "2024-05-06T21:25:19.842924",
     "exception": false,
     "start_time": "2024-05-06T21:25:19.821997",
     "status": "completed"
    },
    "tags": []
   },
   "outputs": [
    {
     "data": {
      "text/plain": [
       "<tf.Tensor: shape=(1, 256), dtype=int32, numpy=\n",
       "array([[1, 1, 1, 1, 1, 1, 1, 1, 1, 1, 1, 1, 1, 1, 1, 1, 1, 1, 1, 1, 1, 1,\n",
       "        1, 1, 1, 1, 1, 1, 1, 1, 1, 1, 1, 1, 1, 0, 0, 0, 0, 0, 0, 0, 0, 0,\n",
       "        0, 0, 0, 0, 0, 0, 0, 0, 0, 0, 0, 0, 0, 0, 0, 0, 0, 0, 0, 0, 0, 0,\n",
       "        0, 0, 0, 0, 0, 0, 0, 0, 0, 0, 0, 0, 0, 0, 0, 0, 0, 0, 0, 0, 0, 0,\n",
       "        0, 0, 0, 0, 0, 0, 0, 0, 0, 0, 0, 0, 0, 0, 0, 0, 0, 0, 0, 0, 0, 0,\n",
       "        0, 0, 0, 0, 0, 0, 0, 0, 0, 0, 0, 0, 0, 0, 0, 0, 0, 0, 0, 0, 0, 0,\n",
       "        0, 0, 0, 0, 0, 0, 0, 0, 0, 0, 0, 0, 0, 0, 0, 0, 0, 0, 0, 0, 0, 0,\n",
       "        0, 0, 0, 0, 0, 0, 0, 0, 0, 0, 0, 0, 0, 0, 0, 0, 0, 0, 0, 0, 0, 0,\n",
       "        0, 0, 0, 0, 0, 0, 0, 0, 0, 0, 0, 0, 0, 0, 0, 0, 0, 0, 0, 0, 0, 0,\n",
       "        0, 0, 0, 0, 0, 0, 0, 0, 0, 0, 0, 0, 0, 0, 0, 0, 0, 0, 0, 0, 0, 0,\n",
       "        0, 0, 0, 0, 0, 0, 0, 0, 0, 0, 0, 0, 0, 0, 0, 0, 0, 0, 0, 0, 0, 0,\n",
       "        0, 0, 0, 0, 0, 0, 0, 0, 0, 0, 0, 0, 0, 0]], dtype=int32)>"
      ]
     },
     "execution_count": 9,
     "metadata": {},
     "output_type": "execute_result"
    }
   ],
   "source": [
    "sample_inputs[\"attention_mask\"]"
   ]
  },
  {
   "cell_type": "code",
   "execution_count": 10,
   "id": "0027b325",
   "metadata": {
    "execution": {
     "iopub.execute_input": "2024-05-06T21:25:19.867476Z",
     "iopub.status.busy": "2024-05-06T21:25:19.867024Z",
     "iopub.status.idle": "2024-05-06T21:25:19.873714Z",
     "shell.execute_reply": "2024-05-06T21:25:19.872751Z"
    },
    "id": "KEgnm_KzMU-e",
    "outputId": "85b51cd6-6b1f-475e-ce1d-f4274ea7dd03",
    "papermill": {
     "duration": 0.021426,
     "end_time": "2024-05-06T21:25:19.876048",
     "exception": false,
     "start_time": "2024-05-06T21:25:19.854622",
     "status": "completed"
    },
    "tags": []
   },
   "outputs": [
    {
     "data": {
      "text/plain": [
       "<tf.Tensor: shape=(1, 256), dtype=int32, numpy=\n",
       "array([[0, 0, 0, 0, 0, 0, 0, 0, 0, 0, 0, 0, 0, 0, 0, 0, 0, 0, 0, 0, 1, 1,\n",
       "        1, 1, 1, 1, 1, 1, 1, 1, 1, 1, 1, 1, 1, 0, 0, 0, 0, 0, 0, 0, 0, 0,\n",
       "        0, 0, 0, 0, 0, 0, 0, 0, 0, 0, 0, 0, 0, 0, 0, 0, 0, 0, 0, 0, 0, 0,\n",
       "        0, 0, 0, 0, 0, 0, 0, 0, 0, 0, 0, 0, 0, 0, 0, 0, 0, 0, 0, 0, 0, 0,\n",
       "        0, 0, 0, 0, 0, 0, 0, 0, 0, 0, 0, 0, 0, 0, 0, 0, 0, 0, 0, 0, 0, 0,\n",
       "        0, 0, 0, 0, 0, 0, 0, 0, 0, 0, 0, 0, 0, 0, 0, 0, 0, 0, 0, 0, 0, 0,\n",
       "        0, 0, 0, 0, 0, 0, 0, 0, 0, 0, 0, 0, 0, 0, 0, 0, 0, 0, 0, 0, 0, 0,\n",
       "        0, 0, 0, 0, 0, 0, 0, 0, 0, 0, 0, 0, 0, 0, 0, 0, 0, 0, 0, 0, 0, 0,\n",
       "        0, 0, 0, 0, 0, 0, 0, 0, 0, 0, 0, 0, 0, 0, 0, 0, 0, 0, 0, 0, 0, 0,\n",
       "        0, 0, 0, 0, 0, 0, 0, 0, 0, 0, 0, 0, 0, 0, 0, 0, 0, 0, 0, 0, 0, 0,\n",
       "        0, 0, 0, 0, 0, 0, 0, 0, 0, 0, 0, 0, 0, 0, 0, 0, 0, 0, 0, 0, 0, 0,\n",
       "        0, 0, 0, 0, 0, 0, 0, 0, 0, 0, 0, 0, 0, 0]], dtype=int32)>"
      ]
     },
     "execution_count": 10,
     "metadata": {},
     "output_type": "execute_result"
    }
   ],
   "source": [
    "sample_inputs['token_type_ids']"
   ]
  },
  {
   "cell_type": "code",
   "execution_count": 11,
   "id": "d25a9c3d",
   "metadata": {
    "execution": {
     "iopub.execute_input": "2024-05-06T21:25:19.902208Z",
     "iopub.status.busy": "2024-05-06T21:25:19.901944Z",
     "iopub.status.idle": "2024-05-06T21:25:21.387985Z",
     "shell.execute_reply": "2024-05-06T21:25:21.387082Z"
    },
    "id": "BvxOyuDFMU-e",
    "papermill": {
     "duration": 1.500827,
     "end_time": "2024-05-06T21:25:21.390135",
     "exception": false,
     "start_time": "2024-05-06T21:25:19.889308",
     "status": "completed"
    },
    "tags": []
   },
   "outputs": [
    {
     "data": {
      "text/plain": [
       "<tf.Tensor: shape=(1, 768), dtype=float16, numpy=\n",
       "array([[ 7.3291e-01, -1.9946e-01, -2.5854e-01, -6.7932e-02,  1.4465e-01,\n",
       "         3.3960e-01,  2.6782e-01,  6.3904e-02, -1.7822e-01, -6.2549e-01,\n",
       "        -2.5269e-01,  8.0908e-01,  3.9398e-02, -6.0254e-01, -7.6123e-01,\n",
       "         3.6133e-01,  2.2339e-01, -3.9819e-01,  6.1188e-02, -8.4082e-01,\n",
       "         1.7792e-02, -6.2402e-01,  8.6230e-01, -2.3096e-01,  5.1855e-01,\n",
       "         2.0093e-01, -2.7466e-01,  1.8042e-01, -5.0488e-01, -4.9377e-02,\n",
       "        -3.7646e-01,  3.1689e-01, -2.9248e-01,  4.3652e-01, -2.3462e-01,\n",
       "         9.6207e-03, -7.4219e-02, -9.0869e-01, -4.7778e-01,  5.5504e-03,\n",
       "        -1.4038e-01,  4.2017e-01,  4.1650e-01, -6.9287e-01,  4.9365e-01,\n",
       "        -6.3660e-02, -4.8730e-01, -7.2876e-02, -5.6543e-01,  4.7925e-01,\n",
       "        -5.3986e-02, -6.1615e-02, -2.7466e-01,  7.6477e-02,  5.8984e-01,\n",
       "        -1.5491e-01, -2.6535e-02, -1.3062e-01, -2.7319e-01, -3.7158e-01,\n",
       "        -4.1357e-01,  1.5869e-01,  2.1790e-01, -4.5959e-02,  3.5986e-01,\n",
       "         9.8572e-02,  5.1544e-02,  5.7080e-01, -7.1924e-01,  1.1429e-02,\n",
       "         2.9468e-01, -1.8726e-01,  4.3237e-01,  5.8936e-01,  7.1973e-01,\n",
       "         2.6660e-01,  3.6621e-02,  9.4421e-02, -1.9812e-01, -1.0803e-01,\n",
       "        -2.8101e-01,  9.2285e-02, -2.7295e-01, -4.3365e-02, -9.7961e-03,\n",
       "        -3.3618e-01,  7.4829e-02, -1.2225e-01,  3.6896e-02,  4.1846e-01,\n",
       "         7.5488e-01, -1.0321e-01, -4.2139e-01, -1.0663e-01, -2.6904e-01,\n",
       "         4.7412e-01,  7.3425e-02, -1.4783e-01,  3.1816e+00,  1.5076e-01,\n",
       "        -3.0786e-01, -5.9326e-01,  3.2288e-02,  2.9395e-01,  1.8604e-01,\n",
       "        -3.9941e-01, -3.5913e-01, -4.0869e-01,  2.0996e-01,  7.0752e-01,\n",
       "         3.0615e-01,  7.6477e-02,  4.0039e-01, -6.2500e-01,  2.6904e-01,\n",
       "        -4.2139e-01, -2.0972e-01,  4.9347e-02,  2.2217e-01,  3.1934e-01,\n",
       "         4.0356e-01,  1.4575e-01,  8.9014e-01,  1.8005e-02, -5.4492e-01,\n",
       "        -2.1265e-01,  1.0718e-01, -5.6592e-01,  4.7632e-01, -6.3672e-01,\n",
       "        -6.8994e-01, -3.0908e-01, -8.3313e-02, -4.3457e-01, -1.0339e-01,\n",
       "        -8.0762e-01, -1.5015e-01, -3.4692e-01, -1.2646e+00,  4.4971e-01,\n",
       "        -1.5356e-01, -2.3962e-01,  1.2444e-02, -1.6199e-01,  9.4604e-03,\n",
       "         1.3633e+00, -1.7603e-01,  8.5999e-02, -2.6147e-01,  1.4807e-01,\n",
       "         3.1934e-01, -1.6931e-01, -6.0425e-02, -1.1060e-01, -3.3398e-01,\n",
       "        -2.3730e-01,  1.9849e-01,  3.6304e-01, -1.5747e-01, -6.6650e-02,\n",
       "        -4.6362e-01,  9.7803e-01, -4.6045e-01,  2.3352e-01,  7.7588e-01,\n",
       "        -6.0742e-01,  2.5781e-01, -2.4878e-01,  1.7761e-01,  1.6980e-01,\n",
       "         4.2529e-01,  9.0698e-02, -1.3564e+00,  4.4556e-01, -2.3730e-01,\n",
       "        -1.6541e-01,  6.6589e-02,  1.8640e-01,  9.0942e-02, -2.7881e-01,\n",
       "        -9.4421e-02,  3.2227e-01,  2.2302e-01, -1.6687e-01, -4.7217e-01,\n",
       "        -2.3460e-03,  2.4792e-01, -1.2866e-01, -5.9357e-02,  3.0493e-01,\n",
       "         2.1252e-01, -7.5977e-01, -2.6685e-01, -9.3201e-02,  1.6937e-02,\n",
       "         7.4268e-01,  2.8027e-01, -1.1475e-01, -2.9199e-01,  3.7785e-03,\n",
       "        -3.9331e-01,  5.5389e-02, -2.8906e-01,  4.8584e-01,  3.1860e-02,\n",
       "         1.8359e-01, -8.3191e-02,  9.7168e-02,  2.9932e-01,  2.1948e-01,\n",
       "        -3.5840e-01,  3.5962e-01,  2.6855e-01,  4.6289e-01,  6.5771e-01,\n",
       "        -2.9297e-01, -1.7249e-01,  3.2935e-01,  1.5723e-01, -1.8762e-01,\n",
       "         1.5552e-01,  3.8818e-01,  9.6191e-02, -1.1658e-01,  4.7882e-02,\n",
       "        -1.1011e-01,  3.9697e-01,  3.1396e-01,  5.3772e-02, -6.1963e-01,\n",
       "         2.1057e-01,  6.3086e-01, -6.1963e-01, -6.8481e-02, -2.8418e-01,\n",
       "         1.0736e-01, -5.9424e-01,  2.0837e-01,  6.7969e-01, -3.3325e-01,\n",
       "         2.7246e-01, -2.9858e-01,  3.9941e-01,  4.4060e-03, -4.6460e-01,\n",
       "         5.4395e-01,  6.1133e-01,  2.8076e-01, -1.8762e-01,  1.6113e-01,\n",
       "         6.2061e-01,  2.2778e-01,  2.3230e-01, -1.0938e-01, -5.2539e-01,\n",
       "        -3.8013e-03,  3.8306e-01, -6.4160e-01, -1.9849e-01, -4.2188e-01,\n",
       "         4.2383e-01, -1.7852e+00,  4.1992e-01, -1.3123e-01, -6.8652e-01,\n",
       "        -4.8975e-01, -1.0986e-01,  1.1285e-01, -2.8467e-01, -3.7598e-01,\n",
       "        -2.4670e-01, -7.8186e-02, -3.8696e-01, -1.6711e-01, -4.3628e-01,\n",
       "         4.6509e-01,  1.3171e-01,  4.1931e-02, -6.4990e-01, -4.3488e-02,\n",
       "        -3.4375e-01,  3.2593e-01, -5.6836e-01,  3.4644e-01, -6.6943e-01,\n",
       "         7.1875e-01,  1.8811e-01,  1.4343e-01,  1.6394e-01,  1.9258e+00,\n",
       "         1.0126e-01, -4.2358e-01, -9.6191e-02, -6.6650e-01,  3.4497e-01,\n",
       "         5.0293e-01, -3.8940e-01,  4.4409e-01, -3.4277e-01,  2.3254e-01,\n",
       "         1.2830e-01,  1.9739e-01, -5.6348e-01,  2.9370e-01, -5.8301e-01,\n",
       "        -5.0018e-02, -8.7097e-02, -1.8396e-01, -3.0957e-01,  3.4619e-01,\n",
       "         3.7994e-02,  7.2217e-01,  1.5894e-01,  4.4067e-02, -2.8711e-01,\n",
       "        -4.8804e-01,  9.6924e-02,  6.0742e-01, -4.7314e-01, -3.9459e-02,\n",
       "         4.2798e-01,  4.6362e-01, -7.7295e-01, -2.9736e-01, -6.4746e-01,\n",
       "        -1.3989e-01, -1.9421e-01, -1.9446e-01, -5.4596e-02,  4.6143e-01,\n",
       "        -6.6338e-03,  5.6091e-02,  1.8115e-01, -3.3813e-01, -1.3989e-01,\n",
       "         3.2129e-01, -1.0339e-01,  2.3206e-01,  5.7520e-01, -5.8984e-01,\n",
       "         2.7856e-01, -5.8545e-01, -4.0820e-01,  5.3174e-01,  3.8306e-01,\n",
       "         3.8574e-01,  4.3262e-01,  3.4088e-02,  2.9761e-01,  9.8648e-03,\n",
       "        -3.7866e-01,  1.6248e-01,  1.2042e-01,  2.5314e-02,  3.9526e-01,\n",
       "         3.4961e-01, -4.4312e-01, -5.4346e-01, -2.7661e-01,  7.5000e-01,\n",
       "        -1.3977e-01, -1.1787e+00,  1.0264e+00,  3.1982e-02, -4.7699e-02,\n",
       "         2.3865e-01,  1.3269e-01, -4.5190e-01,  4.3018e-01,  6.2988e-01,\n",
       "         3.5010e-01, -3.7793e-01,  4.3213e-01, -2.6245e-01,  2.8149e-01,\n",
       "        -1.6260e-01,  2.3291e-01,  4.4043e-01,  4.2944e-01,  1.1133e-01,\n",
       "        -1.8567e-01, -4.8950e-01,  5.5322e-01,  4.3884e-02,  2.7295e-01,\n",
       "        -1.0046e-01,  7.4280e-02, -5.2881e-01, -4.0454e-01,  2.5177e-02,\n",
       "         3.1885e-01, -1.0291e-01,  6.2561e-03,  6.3782e-02, -2.8198e-01,\n",
       "        -2.0544e-01,  1.5099e-02,  4.0356e-01,  6.3477e-01,  4.6051e-02,\n",
       "         3.5400e-01,  4.1431e-01, -2.7344e-01,  5.6934e-01, -2.2205e-01,\n",
       "        -3.6230e-01,  1.7273e-01, -1.2482e-01, -1.3203e+00,  3.9478e-01,\n",
       "        -2.9321e-01,  2.9199e-01, -4.0283e-01,  6.6113e-01,  7.2461e-01,\n",
       "        -5.2197e-01,  3.3521e-01, -6.0107e-01,  4.6265e-01,  5.1318e-01,\n",
       "         4.5502e-02,  1.0309e-01, -6.5491e-02, -1.2598e-01,  1.0779e-01,\n",
       "        -1.7188e-01, -1.7029e-01, -4.8779e-01, -3.2837e-01,  3.7891e-01,\n",
       "        -2.2919e-02, -4.4531e-01,  2.8711e-01,  3.3765e-01,  1.2842e-01,\n",
       "        -4.5337e-01,  3.2544e-01,  3.7134e-01,  9.9426e-02,  2.5762e+00,\n",
       "        -2.0642e-01, -6.9727e-01,  2.8534e-02, -3.1226e-01, -3.0542e-01,\n",
       "        -7.3059e-02, -1.4758e-01,  6.8018e-01, -6.5771e-01,  1.4404e-01,\n",
       "        -4.8633e-01, -2.6343e-01,  1.2494e-01, -3.1372e-01,  1.2268e-01,\n",
       "        -2.3499e-01, -3.6206e-01, -3.5034e-01,  5.5771e-03,  4.3994e-01,\n",
       "         1.6760e-01,  3.3203e-01,  1.7969e-01, -2.4121e-01,  3.0054e-01,\n",
       "         7.0923e-02,  2.8003e-01,  4.2188e-01,  1.9495e-01, -6.7188e-01,\n",
       "         6.9141e-01,  8.4570e-01, -1.6272e-01,  4.2700e-01, -3.2959e-01,\n",
       "         4.0601e-01,  4.6167e-01, -2.6196e-01, -2.9028e-01,  4.7168e-01,\n",
       "         4.0796e-01,  6.4307e-01, -3.5950e-02,  4.6021e-01,  6.0156e-01,\n",
       "        -3.2275e-01,  3.5797e-02,  1.4392e-01, -4.2920e-01, -1.0657e-01,\n",
       "         5.5518e-01,  5.0830e-01, -8.1787e-02, -1.5210e-01,  7.2632e-02,\n",
       "        -2.2412e-01, -5.8936e-01,  8.2092e-02,  2.9590e-01, -9.5581e-02,\n",
       "        -3.9429e-02,  1.4587e-01, -3.6108e-01,  1.6467e-01, -3.6792e-01,\n",
       "         5.7471e-01, -3.3594e-01, -1.7053e-01,  2.5708e-01, -5.5762e-01,\n",
       "         2.6831e-01, -1.8884e-01,  8.1299e-01, -4.1260e-01,  3.4302e-02,\n",
       "        -5.5273e-01,  1.1694e-01,  3.4741e-01, -7.1143e-01,  5.0098e-01,\n",
       "         3.7323e-02, -1.9458e-01, -3.0957e-01,  3.3350e-01,  1.4824e-02,\n",
       "        -7.9785e-01, -3.0884e-01, -1.0742e-01,  1.9470e-01,  1.8127e-02,\n",
       "         1.4099e-01, -6.1768e-02, -5.0977e-01, -5.6976e-02,  6.3184e-01,\n",
       "         8.4290e-02, -3.5815e-01, -3.1323e-01,  1.0999e-01, -9.3933e-02,\n",
       "         4.7974e-02,  4.6484e-01, -1.1597e-01, -1.0852e-01,  3.9093e-02,\n",
       "        -6.3086e-01,  2.7539e-01, -5.3192e-02,  2.2388e-01,  1.2622e-01,\n",
       "        -1.0022e-01,  4.0723e-01, -2.1033e-01,  1.3708e-01,  3.6035e-01,\n",
       "         1.8616e-01, -6.6895e-01, -8.1016e+00, -1.8890e-02, -9.5520e-02,\n",
       "        -7.3303e-02, -3.2373e-01, -1.9910e-01,  1.7883e-01, -2.0508e-01,\n",
       "        -1.7859e-01,  3.2666e-01, -3.6597e-01,  4.0039e-01, -1.4521e+00,\n",
       "        -2.6807e-01, -1.7688e-01, -3.3020e-02,  3.9160e-01, -6.8164e-01,\n",
       "         1.1322e-01,  5.4150e-01, -6.0645e-01, -1.8726e-01,  4.3433e-01,\n",
       "         1.3745e-01,  5.1904e-01, -5.7983e-02, -4.2798e-01, -1.9592e-02,\n",
       "        -2.3743e-02,  4.3848e-01, -3.4326e-01, -2.1570e-01,  8.3838e-01,\n",
       "        -1.8585e-02,  1.1943e+00, -4.2700e-01,  1.7126e-01, -3.2776e-02,\n",
       "         6.2451e-01, -7.0923e-02, -2.8397e-02,  3.5791e-01,  8.3398e-01,\n",
       "         2.2620e-01, -2.5781e-01, -3.6133e-02, -2.0886e-01, -1.5449e+00,\n",
       "        -3.5449e-01,  3.6407e-02,  1.8298e-01, -6.7920e-01, -1.6711e-01,\n",
       "         2.5244e-01, -4.9805e-01,  2.7881e-01,  1.9983e-01,  2.1076e-04,\n",
       "        -2.8305e-02, -5.2832e-01, -2.6978e-01,  2.1008e-01,  2.2202e-02,\n",
       "        -2.3718e-01, -2.7881e-01,  6.3538e-02, -2.8052e-01, -3.2568e-01,\n",
       "        -1.0345e-01,  1.4612e-01, -6.6016e-01, -1.9775e-01,  2.0508e-02,\n",
       "        -4.2023e-02,  3.5376e-01,  3.8745e-01,  3.4082e-01, -6.3232e-01,\n",
       "         1.7419e-01,  4.6924e-01, -6.7334e-01, -5.7800e-02,  1.5356e-01,\n",
       "         3.2764e-01, -1.1670e-01,  3.1104e-01, -4.0308e-01,  3.0908e-01,\n",
       "        -1.3232e-01,  3.8989e-01,  8.0762e-01, -4.7144e-01,  2.6660e-01,\n",
       "         1.6159e-02,  3.8110e-01,  4.1846e-01, -6.5576e-01,  2.4036e-01,\n",
       "        -7.5684e-02, -3.6719e-01, -4.0308e-01, -1.8433e-01, -3.2074e-02,\n",
       "        -8.9172e-02,  2.8662e-01, -6.3477e-03,  1.7607e+00, -1.7761e-01,\n",
       "        -1.2708e-01,  3.2135e-02,  2.8662e-01,  1.2378e-01,  3.7109e-01,\n",
       "         2.7124e-01,  7.0605e-01, -2.8564e-01, -3.7018e-02, -1.8616e-01,\n",
       "         4.1821e-01, -1.9629e-01, -1.3867e-01, -5.8716e-02,  1.4648e-01,\n",
       "         4.1943e-01, -5.6152e-01,  3.1177e-01,  2.8784e-01, -6.6956e-02,\n",
       "         2.3511e-01, -8.7036e-02,  5.5225e-01, -1.8784e-02, -3.4131e-01,\n",
       "        -2.4634e-01,  8.8379e-02, -2.5558e-02,  2.4768e-01,  4.8920e-02,\n",
       "        -9.6741e-02,  3.7744e-01,  1.0399e-02, -2.1533e-01,  1.9629e-01,\n",
       "        -2.7710e-01, -4.0625e-01, -1.1738e+00,  3.5156e-01, -6.3525e-01,\n",
       "        -3.5596e-01,  1.0732e+00,  1.9394e-02,  1.3135e-01,  2.3901e-01,\n",
       "        -4.9390e-01, -2.9175e-01,  4.3115e-01,  1.9623e-02, -7.4609e-01,\n",
       "         2.1411e-01,  7.0508e-01, -3.3643e-01, -2.0947e-01, -2.1704e-01,\n",
       "        -2.9004e-01, -2.2205e-01, -4.0015e-01, -3.6084e-01, -6.2927e-02,\n",
       "         6.6016e-01,  1.3046e-03,  2.8540e-01,  8.9307e-01,  3.3496e-01,\n",
       "         7.9834e-02,  1.5479e-01, -2.1118e-01, -5.4932e-01, -3.9368e-02,\n",
       "        -6.3232e-01, -5.6152e-01,  4.6875e-01,  3.1738e-01, -1.5332e-01,\n",
       "         5.0415e-02,  3.6865e-02, -2.9346e-01, -6.4819e-02,  3.1567e-01,\n",
       "         1.4941e-01,  9.0283e-01, -2.9639e-01, -4.1553e-01, -8.1543e-02,\n",
       "        -5.4639e-01, -2.6221e-01,  5.2930e-01, -3.8696e-02, -1.8311e-01,\n",
       "        -5.0391e-01,  1.2256e+00, -2.4634e-01,  3.1372e-01, -4.3945e-01,\n",
       "        -3.9215e-02,  4.6924e-01,  1.9824e-01,  2.5421e-02,  2.8491e-01,\n",
       "        -5.2148e-01,  1.5100e-01, -3.3667e-01]], dtype=float16)>"
      ]
     },
     "execution_count": 11,
     "metadata": {},
     "output_type": "execute_result"
    }
   ],
   "source": [
    "outputs = model(sample_inputs['input_ids'])\n",
    "hidden_state = outputs.last_hidden_state\n",
    "embedding = hidden_state[:, 0, :]\n",
    "embedding"
   ]
  },
  {
   "cell_type": "markdown",
   "id": "f5e1783c",
   "metadata": {
    "id": "ig6j_j5RMU-e",
    "papermill": {
     "duration": 0.011651,
     "end_time": "2024-05-06T21:25:21.413932",
     "exception": false,
     "start_time": "2024-05-06T21:25:21.402281",
     "status": "completed"
    },
    "tags": []
   },
   "source": [
    "## Create Datasets for Training"
   ]
  },
  {
   "cell_type": "code",
   "execution_count": 12,
   "id": "fe014762",
   "metadata": {
    "execution": {
     "iopub.execute_input": "2024-05-06T21:25:21.439345Z",
     "iopub.status.busy": "2024-05-06T21:25:21.438505Z",
     "iopub.status.idle": "2024-05-06T21:25:24.748634Z",
     "shell.execute_reply": "2024-05-06T21:25:24.747741Z"
    },
    "id": "xJM1Pyd-o1VF",
    "outputId": "84f550b1-4e3f-4d18-f421-6e38c53df908",
    "papermill": {
     "duration": 3.325203,
     "end_time": "2024-05-06T21:25:24.751060",
     "exception": false,
     "start_time": "2024-05-06T21:25:21.425857",
     "status": "completed"
    },
    "tags": []
   },
   "outputs": [
    {
     "name": "stdout",
     "output_type": "stream",
     "text": [
      "event found at index: 5963\n",
      "FDA Approves EYLEA ( aflibercept ) Injection sBLA in Wet Age-related Macular Degeneration TARRYTOWN , N.Y. , Aug . 17 , 2018 / / Regeneron Pharmaceuticals , Inc . ( NASDAQ: REGN ) today announced that the U.S . Food and Drug Administration ( FDA ) has approved a supplemental Biologics License Application ( sBLA ) for EYLEA ( aflibercept ) Injection in patients with wet age-related macular degeneration ( wet AMD ) . The sBLA was based on second-year data from the Phase 3 VIEW 1 and 2 trials in which patients with wet AMD were treated with a modified 12-week dosing schedule ( doses given at least every 12 weeks , and additional doses as needed ) . These data are now included in the updated EYLEA label . \"We are pleased that the FDA has approved an updated label for EYLEA,\" said George D . Yancopoulos , M.D. , Ph.D. , President and Chief Scientific Officer of Regeneron . \"Providing information to retinal physicians about the visual outcomes with a modified 12-week dosing schedule will help physicans make the most informed choices in treating patients suffering from wet age-related macular degeneration.\" EYLEA is also approved in wet AMD for every four- or eight-week dosing intervals after three initial monthly doses . About EYLEA ( aflibercept ) InjectionEYLEA ( aflibercept ) Injection is a vascular endothelial growth factor ( VEGF ) inhibitor formulated as an injection for the eye . It is designed to block the growth of new blood vessels and decrease the ability of fluid to pass through blood vessels ( vascular permeability ) in the eye by blocking VEGF-A and placental growth factor ( PLGF ) , two growth factors involved in angiogenesis . In the U.S. , EYLEA is the market-leading , FDA-approved anti-VEGF treatment for its approved indications and is supported by a robust body of research that includes seven pivotal Phase 3 trials . IMPORTANT SAFETY INFORMATION FOR EYLEA ( aflibercept ) INJECTION EYLEA ( aflibercept ) Injection is contraindicated in patients with ocular or periocular infections , active intraocular inflammation , or known hypersensitivity to aflibercept or to any of the excipients in EYLEA . Intravitreal injections , including those with EYLEA , have been associated with endophthalmitis and retinal detachments . Proper aseptic injection technique must always be used when administering EYLEA . Patients should be instructed to report any symptoms suggestive of endophthalmitis or retinal detachment without delay and should be managed appropriately . Intraocular inflammation has been reported with the use of EYLEA . Acute increases in intraocular pressure have been seen within 60 minutes of intravitreal injection , including with EYLEA . Sustained increases in intraocular pressure have also been reported after repeated intravitreal dosing with VEGF inhibitors . Intraocular pressure and the perfusion of the optic nerve head should be monitored and managed appropriately . There is a potential risk of arterial thromboembolic events ( ATEs ) following intravitreal use of VEGF inhibitors , including EYLEA . ATEs are defined as nonfatal stroke , nonfatal myocardial infarction ,\n",
      "I-CT I-CT I-CT I-CT I-CT I-CT I-CT I-CT I-CT I-CT I-CT I-CT I-CT O O O O O O O O O O O I-CT I-CT I-CT I-CT I-CT I-CT I-CT I-CT I-CT I-CT I-CT I-CT I-CT I-CT I-CT I-CT I-CT I-CT I-CT I-CT I-CT I-CT I-CT I-CT I-CT I-CT I-CT I-CT I-CT I-CT I-CT I-CT I-CT I-CT I-CT I-CT I-CT I-CT I-CT I-CT I-CT I-CT I-CT I-CT I-CT I-CT I-CT I-CT I-CT O O O O O O O O O O O O O O O O O O O O O O O O O O O O O O O O O O O O O O O O O O O O O O O O O O O O O O O O O O O O O O O O O O O O O O O O O O O O O O O O O O O O O O O O O O O O O O O O O O O O O O O O O O O O O O O O O O O O O O O O O O O O O O O O O O O O O O O O O O O O O O O O O O O O O O O O O O O O O O O O O O O O O O O O O O O O O O O O O O O O O O O O O O O O O O O O O O O O O O O O O O O O O O O O O O O O O O O O O O O O O O O O O O O O O O O O O O O O O O O O O O O O O O O O O O O O O O O O O O O O O O O O O O O O O O O O O O O O O O O O O O O O O O O O O O O O O O O O O O O O O O O O O O O O O O O O O O O O O O O O O O O O O O O O O O O O O O O O O O O O O O O O O O O O O O O O O O O O O O O O O O O O O O O O O O O O O O O O O O O O O O O O O O O O O O O O O O O O O O O O O O O O O O O O O O O O O O O O O O O O O O O O O O O O O O O O O O O O O O O\n"
     ]
    }
   ],
   "source": [
    "def read_wnut(file_path):\n",
    "    file_path = Path(file_path)\n",
    "\n",
    "    raw_text = file_path.read_text().strip()\n",
    "    raw_docs = re.split(r'\\n\\t?\\n', raw_text)\n",
    "    token_docs = []\n",
    "    tag_docs = []\n",
    "    for doc in raw_docs:\n",
    "        tokens = []\n",
    "        tags = []\n",
    "        for line in doc.split('\\n'):\n",
    "            token, tag = line.split('\\t')\n",
    "            tokens.append(token)\n",
    "            tags.append(tag)\n",
    "        token_docs.append(tokens)\n",
    "        tag_docs.append(tags)\n",
    "\n",
    "    return token_docs, tag_docs\n",
    "\n",
    "train_ner_texts, train_ner_tags = read_wnut(os.path.join(DATA_PATH, 'Event_detection/train.txt'))\n",
    "test_ner_texts, test_ner_tags = read_wnut(os.path.join(DATA_PATH, 'Event_detection/dev.txt'))\n",
    "\n",
    "event_index = 0\n",
    "for event_index, tags in enumerate(train_ner_tags):\n",
    "    if any(tag != 'O' for tag in tags):\n",
    "        break\n",
    "print(f\"event found at index: {event_index}\")\n",
    "print(*train_ner_texts[event_index])\n",
    "print(*train_ner_tags[event_index])"
   ]
  },
  {
   "cell_type": "code",
   "execution_count": 13,
   "id": "4692fcb9",
   "metadata": {
    "execution": {
     "iopub.execute_input": "2024-05-06T21:25:24.778188Z",
     "iopub.status.busy": "2024-05-06T21:25:24.777682Z",
     "iopub.status.idle": "2024-05-06T21:25:45.192702Z",
     "shell.execute_reply": "2024-05-06T21:25:45.191470Z"
    },
    "id": "LJoRDcCSMU-e",
    "outputId": "8d9e3299-aba8-45bf-90d8-068b50a13df3",
    "papermill": {
     "duration": 20.430501,
     "end_time": "2024-05-06T21:25:45.194706",
     "exception": false,
     "start_time": "2024-05-06T21:25:24.764205",
     "status": "completed"
    },
    "tags": []
   },
   "outputs": [
    {
     "name": "stderr",
     "output_type": "stream",
     "text": [
      "encode_tags: 7770it [00:01, 5093.50it/s]\n",
      "encode_tags: 1948it [00:00, 5360.25it/s]\n"
     ]
    },
    {
     "name": "stdout",
     "output_type": "stream",
     "text": [
      "input_ids shape: (1948, 256)\n",
      "attention_mask shape: (1948, 256)\n",
      "token_type_ids shape: (1948, 256)\n",
      "ner_labels shape: (1948, 256)\n",
      "train_seq_labels shape: (1948, 12)\n"
     ]
    }
   ],
   "source": [
    "from transformers import BertTokenizerFast\n",
    "\n",
    "def encode_tags(tags, encodings, tag2id, unk=UNK_ID):\n",
    "    labels = [[tag2id[tag] for tag in doc] for doc in tags]\n",
    "    encoded_labels = []\n",
    "    for doc_labels, doc_offset in tqdm(zip(labels, encodings.offset_mapping), desc=\"encode_tags\"):\n",
    "        # create an empty array of -100\n",
    "        doc_enc_labels = np.ones(len(doc_offset), dtype=int) * unk\n",
    "        arr_offset = np.array(doc_offset)\n",
    "\n",
    "        # set labels whose first offset position is 0 and the second is not 0\n",
    "        max_len = len(doc_enc_labels[(arr_offset[:, 0] == 0) & (arr_offset[:, 1] != 0)])\n",
    "        doc_enc_labels[(arr_offset[:, 0] == 0) & (arr_offset[:, 1] != 0)] = doc_labels[:max_len]\n",
    "        encoded_labels.append(doc_enc_labels.tolist())\n",
    "\n",
    "    return encoded_labels\n",
    "\n",
    "def encode_sequence_labels(ner_tags, tag2id, num_labels=MAX_LEN):\n",
    "    seq_labels = []\n",
    "\n",
    "    for tag in ner_tags:\n",
    "        tag_set = set(tag)\n",
    "        current_label = np.zeros([num_labels])\n",
    "        if len(tag_set) == 1:\n",
    "            current_label[tag2id[OTHER]] = 1\n",
    "        else:\n",
    "            # here is a bias, if a seq has another event, drop all others?\n",
    "            # This is 'OHE' label\n",
    "            tag_set.remove(OTHER)\n",
    "            for tag in tag_set:\n",
    "                current_label[tag2id[tag]] = 1\n",
    "        seq_labels.append(list(current_label))\n",
    "\n",
    "    return seq_labels\n",
    "\n",
    "def load_and_cache_dataset(train_ner_texts, train_ner_tags,\n",
    "                           test_ner_texts, test_ner_tags,\n",
    "                           bert_model_tok=f'{MODEL_PATH}/tokenizer',\n",
    "                           max_len=MAX_LEN,\n",
    "                           num_labels=NUM_LABELS):\n",
    "    tokenizer = BertTokenizerFast.from_pretrained(bert_model_tok)\n",
    "\n",
    "    tags = deepcopy(train_ner_tags)\n",
    "    tags.extend(test_ner_tags)\n",
    "    unique_tags = list(set(tag for doc in tags for tag in doc))\n",
    "    tag2id = {tag: id for id, tag in enumerate(sorted(unique_tags))}\n",
    "    id2tag = {id: tag for tag, id in tag2id.items()}\n",
    "\n",
    "    # Tokenize and encode labels for training and testing data\n",
    "    train_encodings = tokenizer(train_ner_texts,\n",
    "                                is_split_into_words=True,\n",
    "                                return_offsets_mapping=True,\n",
    "                                padding='max_length',\n",
    "                                truncation=True,\n",
    "                                max_length=max_len)\n",
    "    train_ner_labels = encode_tags(train_ner_tags, train_encodings, tag2id, UNK_ID)\n",
    "    train_seq_labels = encode_sequence_labels(train_ner_tags, tag2id, num_labels=num_labels)\n",
    "\n",
    "    test_encodings = tokenizer(test_ner_texts,\n",
    "                               is_split_into_words=True,\n",
    "                               return_offsets_mapping=True,\n",
    "                               padding='max_length',\n",
    "                               truncation=True,\n",
    "                               max_length=max_len)\n",
    "    test_ner_labels = encode_tags(test_ner_tags, test_encodings, tag2id, UNK_ID)\n",
    "    test_seq_labels = encode_sequence_labels(test_ner_tags, tag2id, num_labels=num_labels)\n",
    "\n",
    "    # offset_mapping no longer needed\n",
    "    train_encodings.pop(\"offset_mapping\")\n",
    "    test_encodings.pop(\"offset_mapping\")\n",
    "\n",
    "    return (train_encodings, train_ner_labels,\n",
    "            test_encodings, test_ner_labels,\n",
    "            train_seq_labels, test_seq_labels,\n",
    "            tag2id, id2tag)\n",
    "\n",
    "(train_encodings, train_ner_labels,\n",
    " test_encodings, test_ner_labels,\n",
    " train_seq_labels, test_seq_labels,\n",
    " tag2id, id2tag) = load_and_cache_dataset(train_ner_texts,\n",
    "                                            train_ner_tags,\n",
    "                                            test_ner_texts,\n",
    "                                            test_ner_tags)\n",
    "input_ids = np.array(test_encodings['input_ids'])\n",
    "attention_mask = np.array(test_encodings['attention_mask'])\n",
    "token_type_ids = np.array(test_encodings['token_type_ids']) if 'token_type_ids' in train_encodings else None\n",
    "ner = np.array(test_ner_labels)\n",
    "seq_label = np.array(test_seq_labels)\n",
    "print(\"input_ids shape:\", input_ids.shape)\n",
    "print(\"attention_mask shape:\", attention_mask.shape)\n",
    "if token_type_ids is not None:\n",
    "    print(\"token_type_ids shape:\", token_type_ids.shape)\n",
    "\n",
    "print(\"ner_labels shape:\", ner.shape)\n",
    "print(\"train_seq_labels shape:\", seq_label.shape)"
   ]
  },
  {
   "cell_type": "code",
   "execution_count": 14,
   "id": "b0c9a607",
   "metadata": {
    "execution": {
     "iopub.execute_input": "2024-05-06T21:25:45.224460Z",
     "iopub.status.busy": "2024-05-06T21:25:45.224157Z",
     "iopub.status.idle": "2024-05-06T21:25:45.229988Z",
     "shell.execute_reply": "2024-05-06T21:25:45.229141Z"
    },
    "id": "0Z2EKQuWMU-f",
    "outputId": "f8ce5637-dcfa-4a6e-a0d2-b5268e7a50b0",
    "papermill": {
     "duration": 0.022619,
     "end_time": "2024-05-06T21:25:45.231872",
     "exception": false,
     "start_time": "2024-05-06T21:25:45.209253",
     "status": "completed"
    },
    "tags": []
   },
   "outputs": [
    {
     "data": {
      "text/plain": [
       "{0: 'I-A',\n",
       " 1: 'I-CT',\n",
       " 2: 'I-DC',\n",
       " 3: 'I-DI',\n",
       " 4: 'I-GC',\n",
       " 5: 'I-NC',\n",
       " 6: 'I-RD',\n",
       " 7: 'I-RSS',\n",
       " 8: 'I-SD',\n",
       " 9: 'I-SR',\n",
       " 10: 'I-SS',\n",
       " 11: 'O'}"
      ]
     },
     "execution_count": 14,
     "metadata": {},
     "output_type": "execute_result"
    }
   ],
   "source": [
    "id2tag"
   ]
  },
  {
   "cell_type": "code",
   "execution_count": 15,
   "id": "6b69732c",
   "metadata": {
    "execution": {
     "iopub.execute_input": "2024-05-06T21:25:45.260940Z",
     "iopub.status.busy": "2024-05-06T21:25:45.260657Z",
     "iopub.status.idle": "2024-05-06T21:25:45.267169Z",
     "shell.execute_reply": "2024-05-06T21:25:45.266188Z"
    },
    "id": "U-O7hM6lMU-f",
    "outputId": "38a43822-f2f9-4eaa-96b6-35c1dc683b03",
    "papermill": {
     "duration": 0.023071,
     "end_time": "2024-05-06T21:25:45.269001",
     "exception": false,
     "start_time": "2024-05-06T21:25:45.245930",
     "status": "completed"
    },
    "tags": []
   },
   "outputs": [
    {
     "name": "stdout",
     "output_type": "stream",
     "text": [
      "(10, 256)\n"
     ]
    },
    {
     "data": {
      "text/plain": [
       "array([[  101, 13359, 16253, ..., 20315,   119,   102],\n",
       "       [  101,  5386,  4522, ...,  3113,  4604,   102],\n",
       "       [  101,   160,   119, ..., 27719,  1162,   102],\n",
       "       ...,\n",
       "       [  101, 24664, 18056, ...,  6178,  1104,   102],\n",
       "       [  101, 10983,  1391, ...,   189,  4043,   102],\n",
       "       [  101,   156,  5730, ...,  5777,   118,   102]])"
      ]
     },
     "execution_count": 15,
     "metadata": {},
     "output_type": "execute_result"
    }
   ],
   "source": [
    "print(input_ids[:10].shape)\n",
    "input_ids[:10]"
   ]
  },
  {
   "cell_type": "code",
   "execution_count": 16,
   "id": "75c1697e",
   "metadata": {
    "execution": {
     "iopub.execute_input": "2024-05-06T21:25:45.300447Z",
     "iopub.status.busy": "2024-05-06T21:25:45.300186Z",
     "iopub.status.idle": "2024-05-06T21:25:45.306599Z",
     "shell.execute_reply": "2024-05-06T21:25:45.305708Z"
    },
    "id": "RhUn-4alMU-f",
    "outputId": "b7a8af51-a9bc-4dcc-daf8-f64a150c347e",
    "papermill": {
     "duration": 0.023225,
     "end_time": "2024-05-06T21:25:45.308451",
     "exception": false,
     "start_time": "2024-05-06T21:25:45.285226",
     "status": "completed"
    },
    "tags": []
   },
   "outputs": [
    {
     "name": "stdout",
     "output_type": "stream",
     "text": [
      "(10, 256)\n"
     ]
    },
    {
     "data": {
      "text/plain": [
       "array([[-100,    8, -100, ...,   11,   11, -100],\n",
       "       [-100,   11,   11, ..., -100,   11, -100],\n",
       "       [-100,    8,    8, ..., -100, -100, -100],\n",
       "       ...,\n",
       "       [-100,    0, -100, ...,   11,   11, -100],\n",
       "       [-100,   10,   10, ..., -100, -100, -100],\n",
       "       [-100,    0, -100, ...,   11, -100, -100]])"
      ]
     },
     "execution_count": 16,
     "metadata": {},
     "output_type": "execute_result"
    }
   ],
   "source": [
    "print(ner[:10].shape)\n",
    "ner[:10]"
   ]
  },
  {
   "cell_type": "code",
   "execution_count": 17,
   "id": "ccc5f23e",
   "metadata": {
    "execution": {
     "iopub.execute_input": "2024-05-06T21:25:45.338648Z",
     "iopub.status.busy": "2024-05-06T21:25:45.338381Z",
     "iopub.status.idle": "2024-05-06T21:25:45.343017Z",
     "shell.execute_reply": "2024-05-06T21:25:45.342180Z"
    },
    "id": "LjVOvmqOMU-f",
    "papermill": {
     "duration": 0.021907,
     "end_time": "2024-05-06T21:25:45.344990",
     "exception": false,
     "start_time": "2024-05-06T21:25:45.323083",
     "status": "completed"
    },
    "tags": []
   },
   "outputs": [],
   "source": [
    "assert not np.isnan(input_ids).any()"
   ]
  },
  {
   "cell_type": "markdown",
   "id": "91cda895",
   "metadata": {
    "id": "GoGQA7cMMU-f",
    "papermill": {
     "duration": 0.014922,
     "end_time": "2024-05-06T21:25:45.376721",
     "exception": false,
     "start_time": "2024-05-06T21:25:45.361799",
     "status": "completed"
    },
    "tags": []
   },
   "source": [
    "## Imbalanced Dataset"
   ]
  },
  {
   "cell_type": "code",
   "execution_count": 18,
   "id": "803de0b6",
   "metadata": {
    "execution": {
     "iopub.execute_input": "2024-05-06T21:25:45.408234Z",
     "iopub.status.busy": "2024-05-06T21:25:45.407471Z",
     "iopub.status.idle": "2024-05-06T21:25:45.574702Z",
     "shell.execute_reply": "2024-05-06T21:25:45.573737Z"
    },
    "id": "C4a-xx5TMU-f",
    "outputId": "e6c5e709-680e-4e65-a572-b7193d70bed7",
    "papermill": {
     "duration": 0.185028,
     "end_time": "2024-05-06T21:25:45.576724",
     "exception": false,
     "start_time": "2024-05-06T21:25:45.391696",
     "status": "completed"
    },
    "tags": []
   },
   "outputs": [
    {
     "data": {
      "text/html": [
       "<div>\n",
       "<style scoped>\n",
       "    .dataframe tbody tr th:only-of-type {\n",
       "        vertical-align: middle;\n",
       "    }\n",
       "\n",
       "    .dataframe tbody tr th {\n",
       "        vertical-align: top;\n",
       "    }\n",
       "\n",
       "    .dataframe thead th {\n",
       "        text-align: right;\n",
       "    }\n",
       "</style>\n",
       "<table border=\"1\" class=\"dataframe\">\n",
       "  <thead>\n",
       "    <tr style=\"text-align: right;\">\n",
       "      <th></th>\n",
       "      <th>Tag ID</th>\n",
       "      <th>Tag</th>\n",
       "      <th>Count</th>\n",
       "      <th>Weight</th>\n",
       "    </tr>\n",
       "  </thead>\n",
       "  <tbody>\n",
       "    <tr>\n",
       "      <th>0</th>\n",
       "      <td>-100</td>\n",
       "      <td>UNK</td>\n",
       "      <td>131438</td>\n",
       "      <td>0.000000</td>\n",
       "    </tr>\n",
       "    <tr>\n",
       "      <th>1</th>\n",
       "      <td>0</td>\n",
       "      <td>I-A</td>\n",
       "      <td>1998</td>\n",
       "      <td>0.291853</td>\n",
       "    </tr>\n",
       "    <tr>\n",
       "      <th>2</th>\n",
       "      <td>1</td>\n",
       "      <td>I-CT</td>\n",
       "      <td>3349</td>\n",
       "      <td>19.199507</td>\n",
       "    </tr>\n",
       "    <tr>\n",
       "      <th>3</th>\n",
       "      <td>2</td>\n",
       "      <td>I-DC</td>\n",
       "      <td>710</td>\n",
       "      <td>11.454349</td>\n",
       "    </tr>\n",
       "    <tr>\n",
       "      <th>4</th>\n",
       "      <td>3</td>\n",
       "      <td>I-DI</td>\n",
       "      <td>1764</td>\n",
       "      <td>54.029036</td>\n",
       "    </tr>\n",
       "    <tr>\n",
       "      <th>5</th>\n",
       "      <td>4</td>\n",
       "      <td>I-GC</td>\n",
       "      <td>569</td>\n",
       "      <td>21.746381</td>\n",
       "    </tr>\n",
       "    <tr>\n",
       "      <th>6</th>\n",
       "      <td>5</td>\n",
       "      <td>I-NC</td>\n",
       "      <td>5094</td>\n",
       "      <td>67.417602</td>\n",
       "    </tr>\n",
       "    <tr>\n",
       "      <th>7</th>\n",
       "      <td>6</td>\n",
       "      <td>I-RD</td>\n",
       "      <td>1945</td>\n",
       "      <td>7.530549</td>\n",
       "    </tr>\n",
       "    <tr>\n",
       "      <th>8</th>\n",
       "      <td>7</td>\n",
       "      <td>I-RSS</td>\n",
       "      <td>441</td>\n",
       "      <td>19.722681</td>\n",
       "    </tr>\n",
       "    <tr>\n",
       "      <th>9</th>\n",
       "      <td>8</td>\n",
       "      <td>I-SD</td>\n",
       "      <td>474</td>\n",
       "      <td>86.985522</td>\n",
       "    </tr>\n",
       "    <tr>\n",
       "      <th>10</th>\n",
       "      <td>9</td>\n",
       "      <td>I-SR</td>\n",
       "      <td>3164</td>\n",
       "      <td>80.929568</td>\n",
       "    </tr>\n",
       "    <tr>\n",
       "      <th>11</th>\n",
       "      <td>10</td>\n",
       "      <td>I-SS</td>\n",
       "      <td>458</td>\n",
       "      <td>12.124088</td>\n",
       "    </tr>\n",
       "    <tr>\n",
       "      <th>12</th>\n",
       "      <td>11</td>\n",
       "      <td>O</td>\n",
       "      <td>347284</td>\n",
       "      <td>0.050000</td>\n",
       "    </tr>\n",
       "  </tbody>\n",
       "</table>\n",
       "</div>"
      ],
      "text/plain": [
       "    Tag ID    Tag   Count     Weight\n",
       "0     -100    UNK  131438   0.000000\n",
       "1        0    I-A    1998   0.291853\n",
       "2        1   I-CT    3349  19.199507\n",
       "3        2   I-DC     710  11.454349\n",
       "4        3   I-DI    1764  54.029036\n",
       "5        4   I-GC     569  21.746381\n",
       "6        5   I-NC    5094  67.417602\n",
       "7        6   I-RD    1945   7.530549\n",
       "8        7  I-RSS     441  19.722681\n",
       "9        8   I-SD     474  86.985522\n",
       "10       9   I-SR    3164  80.929568\n",
       "11      10   I-SS     458  12.124088\n",
       "12      11      O  347284   0.050000"
      ]
     },
     "execution_count": 18,
     "metadata": {},
     "output_type": "execute_result"
    }
   ],
   "source": [
    "from sklearn.utils.class_weight import compute_class_weight\n",
    "\n",
    "unique, counts = np.unique(ner, return_counts=True)\n",
    "\n",
    "# https://www.tensorflow.org/tutorials/structured_data/imbalanced_data\n",
    "# https://scikit-learn.org/stable/modules/generated/sklearn.utils.class_weight.compute_class_weight.html\n",
    "weights = compute_class_weight(class_weight=\"balanced\", classes=np.unique(ner), y=ner.flatten())\n",
    "weights_dict = {i: weights[i] for i in range(len(weights))}\n",
    "\n",
    "df_tags = pd.DataFrame({'Tag ID': unique, 'Tag': (id2tag[id] if id in id2tag else UNK for id in unique),'Count': counts})\n",
    "df_tags['Weight'] = df_tags['Tag ID'].map(lambda i: weights_dict.get(i, 0.))\n",
    "\n",
    "df_ner_weights = df_tags.sort_values(by='Tag ID', ascending=True)\n",
    "df_ner_weights.loc[df_ner_weights['Tag ID'] == UNK_ID, 'Weight'] = 0. # Unkown tokens should be ignored totally.\n",
    "df_ner_weights.loc[df_ner_weights['Tag ID'] == OTHER_ID, 'Weight'] = 0.05 # 'O' is over 75%! Need to reduce it within limits.\n",
    "\n",
    "ner_weights = df_ner_weights[['Tag ID', 'Weight']].set_index('Tag ID').to_dict()['Weight']\n",
    "\n",
    "df_ner_weights"
   ]
  },
  {
   "cell_type": "code",
   "execution_count": 19,
   "id": "cd7d17d6",
   "metadata": {
    "execution": {
     "iopub.execute_input": "2024-05-06T21:25:45.608341Z",
     "iopub.status.busy": "2024-05-06T21:25:45.608036Z",
     "iopub.status.idle": "2024-05-06T21:25:45.626156Z",
     "shell.execute_reply": "2024-05-06T21:25:45.625366Z"
    },
    "papermill": {
     "duration": 0.036012,
     "end_time": "2024-05-06T21:25:45.628092",
     "exception": false,
     "start_time": "2024-05-06T21:25:45.592080",
     "status": "completed"
    },
    "tags": []
   },
   "outputs": [
    {
     "data": {
      "text/html": [
       "<div>\n",
       "<style scoped>\n",
       "    .dataframe tbody tr th:only-of-type {\n",
       "        vertical-align: middle;\n",
       "    }\n",
       "\n",
       "    .dataframe tbody tr th {\n",
       "        vertical-align: top;\n",
       "    }\n",
       "\n",
       "    .dataframe thead th {\n",
       "        text-align: right;\n",
       "    }\n",
       "</style>\n",
       "<table border=\"1\" class=\"dataframe\">\n",
       "  <thead>\n",
       "    <tr style=\"text-align: right;\">\n",
       "      <th></th>\n",
       "      <th>Tag ID</th>\n",
       "      <th>Tag</th>\n",
       "      <th>Count</th>\n",
       "      <th>Weight</th>\n",
       "    </tr>\n",
       "  </thead>\n",
       "  <tbody>\n",
       "    <tr>\n",
       "      <th>0</th>\n",
       "      <td>0</td>\n",
       "      <td>I-A</td>\n",
       "      <td>46.0</td>\n",
       "      <td>3.528986</td>\n",
       "    </tr>\n",
       "    <tr>\n",
       "      <th>1</th>\n",
       "      <td>1</td>\n",
       "      <td>I-CT</td>\n",
       "      <td>63.0</td>\n",
       "      <td>2.576720</td>\n",
       "    </tr>\n",
       "    <tr>\n",
       "      <th>2</th>\n",
       "      <td>2</td>\n",
       "      <td>I-DC</td>\n",
       "      <td>22.0</td>\n",
       "      <td>7.378788</td>\n",
       "    </tr>\n",
       "    <tr>\n",
       "      <th>3</th>\n",
       "      <td>3</td>\n",
       "      <td>I-DI</td>\n",
       "      <td>43.0</td>\n",
       "      <td>3.775194</td>\n",
       "    </tr>\n",
       "    <tr>\n",
       "      <th>4</th>\n",
       "      <td>4</td>\n",
       "      <td>I-GC</td>\n",
       "      <td>21.0</td>\n",
       "      <td>7.730159</td>\n",
       "    </tr>\n",
       "    <tr>\n",
       "      <th>5</th>\n",
       "      <td>5</td>\n",
       "      <td>I-NC</td>\n",
       "      <td>104.0</td>\n",
       "      <td>1.560897</td>\n",
       "    </tr>\n",
       "    <tr>\n",
       "      <th>6</th>\n",
       "      <td>6</td>\n",
       "      <td>I-RD</td>\n",
       "      <td>59.0</td>\n",
       "      <td>2.751412</td>\n",
       "    </tr>\n",
       "    <tr>\n",
       "      <th>7</th>\n",
       "      <td>7</td>\n",
       "      <td>I-RSS</td>\n",
       "      <td>11.0</td>\n",
       "      <td>14.757576</td>\n",
       "    </tr>\n",
       "    <tr>\n",
       "      <th>8</th>\n",
       "      <td>8</td>\n",
       "      <td>I-SD</td>\n",
       "      <td>16.0</td>\n",
       "      <td>10.145833</td>\n",
       "    </tr>\n",
       "    <tr>\n",
       "      <th>9</th>\n",
       "      <td>9</td>\n",
       "      <td>I-SR</td>\n",
       "      <td>73.0</td>\n",
       "      <td>2.223744</td>\n",
       "    </tr>\n",
       "    <tr>\n",
       "      <th>10</th>\n",
       "      <td>10</td>\n",
       "      <td>I-SS</td>\n",
       "      <td>14.0</td>\n",
       "      <td>11.595238</td>\n",
       "    </tr>\n",
       "    <tr>\n",
       "      <th>11</th>\n",
       "      <td>11</td>\n",
       "      <td>O</td>\n",
       "      <td>1492.0</td>\n",
       "      <td>0.108803</td>\n",
       "    </tr>\n",
       "  </tbody>\n",
       "</table>\n",
       "</div>"
      ],
      "text/plain": [
       "    Tag ID    Tag   Count     Weight\n",
       "0        0    I-A    46.0   3.528986\n",
       "1        1   I-CT    63.0   2.576720\n",
       "2        2   I-DC    22.0   7.378788\n",
       "3        3   I-DI    43.0   3.775194\n",
       "4        4   I-GC    21.0   7.730159\n",
       "5        5   I-NC   104.0   1.560897\n",
       "6        6   I-RD    59.0   2.751412\n",
       "7        7  I-RSS    11.0  14.757576\n",
       "8        8   I-SD    16.0  10.145833\n",
       "9        9   I-SR    73.0   2.223744\n",
       "10      10   I-SS    14.0  11.595238\n",
       "11      11      O  1492.0   0.108803"
      ]
     },
     "execution_count": 19,
     "metadata": {},
     "output_type": "execute_result"
    }
   ],
   "source": [
    "class_sums = np.sum(seq_label, axis=0)\n",
    "total_samples = seq_label.shape[0]\n",
    "unique = np.arange(seq_label.shape[1])\n",
    "\n",
    "class_weights = {}\n",
    "for i, class_sum in enumerate(class_sums):\n",
    "    if class_sum == 0:\n",
    "        class_weights[i] = 0\n",
    "    else:\n",
    "        class_weights[i] = (total_samples / (12 * class_sum))\n",
    "\n",
    "df_seq_weights = pd.DataFrame({\n",
    "    'Tag ID': unique,\n",
    "    'Tag': (id2tag[id] if id in id2tag else UNK for id in unique),\n",
    "    'Count': class_sums,\n",
    "    'Weight': [class_weights[i] for i in unique]\n",
    "})\n",
    "\n",
    "df_seq_weights.loc[df_seq_weights['Count'] == 0, 'Weight'] = 0\n",
    "seq_weights = df_seq_weights[['Tag ID', 'Weight']].set_index('Tag ID').to_dict()['Weight']\n",
    "\n",
    "df_seq_weights"
   ]
  },
  {
   "cell_type": "markdown",
   "id": "854672ba",
   "metadata": {
    "id": "xAbKlLI7Na4A",
    "papermill": {
     "duration": 0.015123,
     "end_time": "2024-05-06T21:25:45.658513",
     "exception": false,
     "start_time": "2024-05-06T21:25:45.643390",
     "status": "completed"
    },
    "tags": []
   },
   "source": [
    "# Model Build and Training Loop"
   ]
  },
  {
   "cell_type": "code",
   "execution_count": 20,
   "id": "a5a11bf5",
   "metadata": {
    "execution": {
     "iopub.execute_input": "2024-05-06T21:25:45.690151Z",
     "iopub.status.busy": "2024-05-06T21:25:45.689875Z",
     "iopub.status.idle": "2024-05-06T21:25:45.694347Z",
     "shell.execute_reply": "2024-05-06T21:25:45.693532Z"
    },
    "papermill": {
     "duration": 0.022459,
     "end_time": "2024-05-06T21:25:45.696237",
     "exception": false,
     "start_time": "2024-05-06T21:25:45.673778",
     "status": "completed"
    },
    "tags": []
   },
   "outputs": [],
   "source": [
    "LEARN_RATE=5e-5 # 5e-5\n",
    "LR_FACTOR=0.1\n",
    "LR_MINDELTA=1e-4\n",
    "EPOCHS=100\n",
    "PATIENCE=10\n",
    "# TPU see: https://github.com/tensorflow/tensorflow/issues/41635\n",
    "BATCH_SIZE = (8 * 1 if not is_tpu_strategy(strategy) else 4) * strategy.num_replicas_in_sync # Default 8"
   ]
  },
  {
   "cell_type": "code",
   "execution_count": 21,
   "id": "4824be77",
   "metadata": {
    "execution": {
     "iopub.execute_input": "2024-05-06T21:25:45.728276Z",
     "iopub.status.busy": "2024-05-06T21:25:45.728032Z",
     "iopub.status.idle": "2024-05-06T21:25:45.769643Z",
     "shell.execute_reply": "2024-05-06T21:25:45.768831Z"
    },
    "id": "wjuSPNTkMU-o",
    "papermill": {
     "duration": 0.059798,
     "end_time": "2024-05-06T21:25:45.771481",
     "exception": false,
     "start_time": "2024-05-06T21:25:45.711683",
     "status": "completed"
    },
    "tags": []
   },
   "outputs": [],
   "source": [
    "from tensorflow.keras import Model\n",
    "from tensorflow.keras.optimizers import AdamW, Adam\n",
    "from tensorflow.keras.layers import Input, Dense, Dropout\n",
    "from tensorflow.keras.losses import Loss, SparseCategoricalCrossentropy, CategoricalFocalCrossentropy, CategoricalCrossentropy, BinaryCrossentropy\n",
    "from tensorflow.keras.metrics import Metric, SparseCategoricalAccuracy, Precision, Recall, BinaryAccuracy\n",
    "from tensorflow.keras.callbacks import EarlyStopping, TensorBoard, Callback, ReduceLROnPlateau, TerminateOnNaN\n",
    "from tensorflow.keras.initializers import GlorotUniform\n",
    "from tensorflow.keras.mixed_precision import LossScaleOptimizer\n",
    "from tensorflow.keras.utils import register_keras_serializable\n",
    "\n",
    "from transformers import TFBertModel, BertConfig\n",
    "\n",
    "@register_keras_serializable(package='Custom', name='MaskedWeightedMultiClassBCE')\n",
    "class MaskedWeightedMultiClassBCE(Loss):\n",
    "    def __init__(self,\n",
    "                 from_logits=False,\n",
    "                 name='masked_weighted_multi_bce',\n",
    "                 class_weight=None,\n",
    "                 labels_len=MAX_LEN,\n",
    "                 null_class=UNK_ID,\n",
    "                 focal_gamma=None, **kwargs):\n",
    "        super().__init__(name=name, **kwargs)\n",
    "        self.from_logits = from_logits\n",
    "        self.null_class = tf.cast(null_class, tf.float32)\n",
    "        self.class_weight = class_weight\n",
    "        self.labels_len = labels_len\n",
    "        if class_weight is not None:\n",
    "            class_weights_list = [class_weight[i] for i in sorted(class_weight)]\n",
    "            self.class_weight = tf.convert_to_tensor(class_weights_list, dtype=tf.dtypes.float32)\n",
    "        self.focal_gamma = focal_gamma\n",
    "\n",
    "        # https://github.com/tensorflow/tensorflow/issues/27190 still does reduction internally!\n",
    "        # self.loss_fn = BinaryCrossentropy(from_logits=self.from_logits,\n",
    "        #                                   reduction=tf.keras.losses.Reduction.NONE)\n",
    "\n",
    "    def call(self, y_true, y_pred):\n",
    "        y_true = tf.cast(y_true, tf.float32)\n",
    "        mask = tf.logical_and(tf.greater_equal(y_true, 0), tf.less(y_true, self.labels_len - 2))\n",
    "        y_true_masked = tf.where(mask, y_true, tf.zeros_like(y_true))\n",
    "        y_true_masked = tf.cast(y_true_masked, tf.float32)\n",
    "        # https://github.com/tensorflow/tensorflow/issues/27190 still does reduction internally!\n",
    "        # loss = self.loss_fn(y_true_masked, y_pred)\n",
    "\n",
    "        loss = tf.nn.sigmoid_cross_entropy_with_logits(labels=y_true_masked, logits=y_pred)\n",
    "        if self.focal_gamma is not None:\n",
    "            # inspired by: https://github.com/artemmavrin/focal-loss/blob/master/src/focal_loss/_categorical_focal_loss.py\n",
    "            y_pred = tf.clip_by_value(y_pred, clip_value_min=-100., clip_value_max=100.)\n",
    "            proba = tf.nn.softmax(y_pred)\n",
    "            if tf.executing_eagerly():\n",
    "                tf.print(\"y_pred proba:\", tf.shape(proba))\n",
    "                tf.print(\"y_true_masked shape:\", tf.shape(y_true_masked))\n",
    "                tf.print(\"y_true_masked:\", y_true_masked)\n",
    "                tf.print(\"proba:\", proba)\n",
    "\n",
    "\n",
    "            p_t = tf.gather(proba, tf.cast(y_true_masked, tf.int32), axis=1, batch_dims=1)\n",
    "            focal_modulation = tf.cast((1. - tf.clip_by_value(p_t, 0.01, 0.99)) ** self.focal_gamma, tf.float32)\n",
    "            loss *= focal_modulation\n",
    "            if tf.executing_eagerly():\n",
    "                tf.debugging.assert_all_finite(focal_modulation, \"Focal contains NaN or Inf\")\n",
    "\n",
    "        loss = tf.cast(loss, tf.float32)\n",
    "\n",
    "        if tf.executing_eagerly():\n",
    "            tf.print(\"y_true shape:\", tf.shape(y_true_masked))\n",
    "            tf.print(\"y_pred shape:\", tf.shape(y_pred))\n",
    "            tf.print(\"mask shape:\", tf.shape(mask))\n",
    "            tf.print(\"loss shape:\", tf.shape(loss))\n",
    "            tf.print(\"loss:\", loss)\n",
    "            tf.debugging.assert_greater(tf.reduce_sum(tf.cast(mask, tf.int32)),\n",
    "                                        0, message=\"All data are masked!\")\n",
    "\n",
    "        if self.class_weight is not None:\n",
    "            loss *=  self.class_weight\n",
    "            if tf.executing_eagerly():\n",
    "                tf.print(\"class_weight shape:\", tf.shape(self.class_weight))\n",
    "                tf.print(\"class_weight [aprox 3.2,2.5,..0.1]:\\n\", self.class_weight)\n",
    "                tf.print(\"loss after weights:\", loss)\n",
    "\n",
    "        mask = tf.cast(mask, tf.float32)\n",
    "        loss *= mask\n",
    "\n",
    "        sum_mask = tf.reduce_sum(mask, axis=-1)\n",
    "        loss = tf.reduce_mean(loss)\n",
    "        if tf.executing_eagerly():\n",
    "            tf.print(\"sum_mask:\", sum_mask)\n",
    "            tf.print(\"loss after mask and reduc:\", loss)\n",
    "            tf.debugging.assert_positive(loss, message=\"Loss masked to zero.\")\n",
    "\n",
    "        return tf.where(tf.math.is_finite(loss),\n",
    "                        loss,\n",
    "                        tf.constant(0., dtype=tf.float32))\n",
    "\n",
    "# https://www.tensorflow.org/api_docs/python/tf/keras/losses/CategoricalFocalCrossentropy\n",
    "@register_keras_serializable(package='Custom', name='MaskedWeightedSCCE')\n",
    "class MaskedWeightedSCCE(Loss):\n",
    "    def __init__(self,\n",
    "                 from_logits=False,\n",
    "                 name='masked_weighted_scce',\n",
    "                 class_weight=None,\n",
    "                 labels_len=MAX_LEN,\n",
    "                 null_class=UNK_ID,\n",
    "                 focal_gamma=None,\n",
    "                 **kwargs):\n",
    "        super().__init__(name=name, **kwargs)\n",
    "        self.from_logits = from_logits\n",
    "        self.null_class = tf.cast(null_class, tf.float32)\n",
    "        self.class_weight = class_weight\n",
    "        self.labels_len = labels_len\n",
    "        if class_weight is not None:\n",
    "            class_weights_list = [class_weight[i] for i in sorted(class_weight)]\n",
    "            self.class_weight = tf.convert_to_tensor(class_weights_list, dtype=tf.dtypes.float32)\n",
    "        self.focal_gamma = focal_gamma\n",
    "\n",
    "        # https://www.tensorflow.org/api_docs/python/tf/keras/losses/SparseCategoricalCrossentropy\n",
    "        self.loss_fn = SparseCategoricalCrossentropy(from_logits=self.from_logits,\n",
    "                                                reduction=tf.keras.losses.Reduction.NONE)\n",
    "\n",
    "    def call(self, y_true, y_pred):\n",
    "        y_true = tf.cast(y_true, tf.float32)\n",
    "        # -2 drops UNK and OTHERS\n",
    "        mask = tf.logical_and(tf.greater_equal(y_true, 0), tf.less(y_true, self.labels_len - 2))\n",
    "        y_true_masked = tf.where(mask, y_true, tf.zeros_like(y_true))\n",
    "        y_true_masked = tf.cast(y_true_masked, tf.float32)\n",
    "        if tf.executing_eagerly():\n",
    "            tf.debugging.assert_greater(tf.reduce_sum(tf.cast(mask, tf.int32)),\n",
    "                                        0, message=\"All data are masked!\")\n",
    "\n",
    "        if self.focal_gamma is not None:\n",
    "            # inspired by: https://github.com/artemmavrin/focal-loss/blob/master/src/focal_loss/_categorical_focal_loss.py\n",
    "            loss = self.loss_fn(y_true_masked, y_pred)\n",
    "            if tf.executing_eagerly():\n",
    "                # I'd like to see the indexing and wieghting is correct\n",
    "                tf.print(\"PreFocal Loss\", loss)\n",
    "                tf.print(\"Weights [aprox 0, 0.29..0.05]:\\n\", self.class_weight)\n",
    "                tf.debugging.assert_greater(loss, 0.,  message=\"Loss is ZERO?!\")\n",
    "            y_pred = tf.clip_by_value(y_pred, clip_value_min=-100., clip_value_max=100.)\n",
    "            proba = tf.nn.softmax(y_pred)\n",
    "            y_true_rank = y_true_masked.shape.rank\n",
    "\n",
    "            p_t = tf.gather(proba, tf.cast(y_true_masked, tf.int32),\n",
    "                            axis=-1, batch_dims=y_true_rank)\n",
    "            focal_modulation = tf.cast((1. - tf.clip_by_value(p_t, 0.01, 0.99)) ** self.focal_gamma, tf.float32)\n",
    "            loss *= focal_modulation\n",
    "            if self.class_weight is not None:\n",
    "                loss *= tf.gather(self.class_weight, tf.cast(y_true_masked, tf.int32))\n",
    "            if tf.executing_eagerly():\n",
    "                tf.debugging.assert_all_finite(focal_modulation, \"Focal contains NaN or Inf\")\n",
    "        else:\n",
    "          # We remove wieghts from focal loss as we zero the UNK class (ln(0)).\n",
    "          loss = self.loss_fn(y_true_masked, y_pred,\n",
    "                             sample_weight=tf.gather(self.class_weight,\n",
    "                                                 tf.cast(y_true_masked, tf.int32)) if self.class_weight is not None\n",
    "                                                 else None)\n",
    "        loss = tf.cast(loss, tf.float32)\n",
    "        loss *=  tf.cast(mask, tf.float32)\n",
    "        # Avoid div by 0.\n",
    "        sum_mask = tf.reduce_sum(tf.cast(mask, tf.float32))\n",
    "        if tf.executing_eagerly():\n",
    "            tf.debugging.assert_positive(sum_mask, message=\"sum_mask zeroed.\")\n",
    "        loss = (tf.reduce_sum(loss) / sum_mask\n",
    "                      if sum_mask > 0.\n",
    "                      else tf.constant(0., dtype=tf.float32))\n",
    "        if tf.executing_eagerly():\n",
    "            tf.debugging.assert_positive(loss, message=\"Loss masked to zero.\")\n",
    "\n",
    "        return loss"
   ]
  },
  {
   "cell_type": "code",
   "execution_count": 22,
   "id": "582f39c1",
   "metadata": {
    "execution": {
     "iopub.execute_input": "2024-05-06T21:25:45.803964Z",
     "iopub.status.busy": "2024-05-06T21:25:45.803696Z",
     "iopub.status.idle": "2024-05-06T22:45:28.805985Z",
     "shell.execute_reply": "2024-05-06T22:45:28.805010Z"
    },
    "id": "wjuSPNTkMU-o",
    "papermill": {
     "duration": 4784.153524,
     "end_time": "2024-05-06T22:45:29.940589",
     "exception": false,
     "start_time": "2024-05-06T21:25:45.787065",
     "status": "completed"
    },
    "tags": []
   },
   "outputs": [
    {
     "name": "stderr",
     "output_type": "stream",
     "text": [
      "Some layers from the model checkpoint at /kaggle/input/finbert/tensorflow2/bert-invest-conditioned/1/model were not used when initializing TFBertModel: ['mlm___cls']\n",
      "- This IS expected if you are initializing TFBertModel from the checkpoint of a model trained on another task or with another architecture (e.g. initializing a BertForSequenceClassification model from a BertForPreTraining model).\n",
      "- This IS NOT expected if you are initializing TFBertModel from the checkpoint of a model that you expect to be exactly identical (initializing a BertForSequenceClassification model from a BertForSequenceClassification model).\n",
      "Some layers of TFBertModel were not initialized from the model checkpoint at /kaggle/input/finbert/tensorflow2/bert-invest-conditioned/1/model and are newly initialized: ['bert/pooler/dense/bias:0', 'bert/pooler/dense/kernel:0']\n",
      "You should probably TRAIN this model on a down-stream task to be able to use it for predictions and inference.\n"
     ]
    },
    {
     "name": "stdout",
     "output_type": "stream",
     "text": [
      "labels: 12\n",
      "Epoch 1/100\n",
      "WARNING: AutoGraph could not transform <function create_autocast_variable at 0x7d04aefe4310> and will run it as-is.\n",
      "Please report this to the TensorFlow team. When filing the bug, set the verbosity to 10 (on Linux, `export AUTOGRAPH_VERBOSITY=10`) and attach the full output.\n",
      "Cause: <gast.gast.Expr object at 0x7d0030ab5960>\n",
      "To silence this warning, decorate the function with @tf.autograph.experimental.do_not_convert\n"
     ]
    },
    {
     "name": "stderr",
     "output_type": "stream",
     "text": [
      "WARNING: All log messages before absl::InitializeLog() is called are written to STDERR\n",
      "I0000 00:00:1715030854.922649      68 device_compiler.h:186] Compiled cluster using XLA!  This line is logged at most once for the lifetime of the process.\n"
     ]
    },
    {
     "name": "stdout",
     "output_type": "stream",
     "text": [
      "972/972 [==============================] - 449s 370ms/step - loss: 0.2025 - ner_output_loss: 0.1158 - seq_output_loss: 0.0867 - ner_output_sparse_categorical_accuracy: 0.7130 - seq_output_binary_accuracy: 0.9823 - val_loss: 0.1217 - val_ner_output_loss: 0.0620 - val_seq_output_loss: 0.0597 - val_ner_output_sparse_categorical_accuracy: 0.7220 - val_seq_output_binary_accuracy: 0.9912\n",
      "Epoch 2/100\n",
      "972/972 [==============================] - 331s 341ms/step - loss: 0.1000 - ner_output_loss: 0.0601 - seq_output_loss: 0.0399 - ner_output_sparse_categorical_accuracy: 0.7227 - seq_output_binary_accuracy: 0.9940 - val_loss: 0.1183 - val_ner_output_loss: 0.0566 - val_seq_output_loss: 0.0618 - val_ner_output_sparse_categorical_accuracy: 0.7230 - val_seq_output_binary_accuracy: 0.9926\n",
      "Epoch 3/100\n",
      "972/972 [==============================] - 331s 341ms/step - loss: 0.0825 - ner_output_loss: 0.0491 - seq_output_loss: 0.0334 - ner_output_sparse_categorical_accuracy: 0.7251 - seq_output_binary_accuracy: 0.9954 - val_loss: 0.1296 - val_ner_output_loss: 0.0646 - val_seq_output_loss: 0.0650 - val_ner_output_sparse_categorical_accuracy: 0.7254 - val_seq_output_binary_accuracy: 0.9956\n",
      "Epoch 4/100\n",
      "972/972 [==============================] - 332s 341ms/step - loss: 0.0681 - ner_output_loss: 0.0414 - seq_output_loss: 0.0267 - ner_output_sparse_categorical_accuracy: 0.7266 - seq_output_binary_accuracy: 0.9966 - val_loss: 0.1109 - val_ner_output_loss: 0.0629 - val_seq_output_loss: 0.0480 - val_ner_output_sparse_categorical_accuracy: 0.7241 - val_seq_output_binary_accuracy: 0.9958\n",
      "Epoch 5/100\n",
      "972/972 [==============================] - 332s 341ms/step - loss: 0.0601 - ner_output_loss: 0.0360 - seq_output_loss: 0.0241 - ner_output_sparse_categorical_accuracy: 0.7281 - seq_output_binary_accuracy: 0.9970 - val_loss: 0.1248 - val_ner_output_loss: 0.0592 - val_seq_output_loss: 0.0656 - val_ner_output_sparse_categorical_accuracy: 0.7253 - val_seq_output_binary_accuracy: 0.9956\n",
      "Epoch 6/100\n",
      "972/972 [==============================] - 331s 341ms/step - loss: 0.0511 - ner_output_loss: 0.0318 - seq_output_loss: 0.0193 - ner_output_sparse_categorical_accuracy: 0.7287 - seq_output_binary_accuracy: 0.9976 - val_loss: 0.1154 - val_ner_output_loss: 0.0620 - val_seq_output_loss: 0.0534 - val_ner_output_sparse_categorical_accuracy: 0.7245 - val_seq_output_binary_accuracy: 0.9965\n",
      "Epoch 7/100\n",
      "972/972 [==============================] - 331s 341ms/step - loss: 0.0483 - ner_output_loss: 0.0285 - seq_output_loss: 0.0198 - ner_output_sparse_categorical_accuracy: 0.7294 - seq_output_binary_accuracy: 0.9979 - val_loss: 0.1212 - val_ner_output_loss: 0.0628 - val_seq_output_loss: 0.0584 - val_ner_output_sparse_categorical_accuracy: 0.7256 - val_seq_output_binary_accuracy: 0.9958\n",
      "Epoch 8/100\n",
      "972/972 [==============================] - 332s 341ms/step - loss: 0.0460 - ner_output_loss: 0.0265 - seq_output_loss: 0.0196 - ner_output_sparse_categorical_accuracy: 0.7300 - seq_output_binary_accuracy: 0.9981 - val_loss: 0.1744 - val_ner_output_loss: 0.0690 - val_seq_output_loss: 0.1054 - val_ner_output_sparse_categorical_accuracy: 0.7259 - val_seq_output_binary_accuracy: 0.9963\n",
      "Epoch 9/100\n",
      "972/972 [==============================] - 331s 341ms/step - loss: 0.0463 - ner_output_loss: 0.0269 - seq_output_loss: 0.0194 - ner_output_sparse_categorical_accuracy: 0.7299 - seq_output_binary_accuracy: 0.9981 - val_loss: 0.1216 - val_ner_output_loss: 0.0588 - val_seq_output_loss: 0.0628 - val_ner_output_sparse_categorical_accuracy: 0.7250 - val_seq_output_binary_accuracy: 0.9970\n",
      "Epoch 10/100\n",
      "972/972 [==============================] - 331s 340ms/step - loss: 0.0397 - ner_output_loss: 0.0232 - seq_output_loss: 0.0165 - ner_output_sparse_categorical_accuracy: 0.7307 - seq_output_binary_accuracy: 0.9985 - val_loss: 0.2014 - val_ner_output_loss: 0.0775 - val_seq_output_loss: 0.1240 - val_ner_output_sparse_categorical_accuracy: 0.7254 - val_seq_output_binary_accuracy: 0.9956\n",
      "Epoch 11/100\n",
      "972/972 [==============================] - 331s 340ms/step - loss: 0.0367 - ner_output_loss: 0.0214 - seq_output_loss: 0.0154 - ner_output_sparse_categorical_accuracy: 0.7311 - seq_output_binary_accuracy: 0.9984 - val_loss: 0.1763 - val_ner_output_loss: 0.0767 - val_seq_output_loss: 0.0995 - val_ner_output_sparse_categorical_accuracy: 0.7226 - val_seq_output_binary_accuracy: 0.9908\n",
      "Epoch 12/100\n",
      "972/972 [==============================] - 331s 340ms/step - loss: 0.0369 - ner_output_loss: 0.0227 - seq_output_loss: 0.0142 - ner_output_sparse_categorical_accuracy: 0.7308 - seq_output_binary_accuracy: 0.9986 - val_loss: 0.1746 - val_ner_output_loss: 0.0767 - val_seq_output_loss: 0.0979 - val_ner_output_sparse_categorical_accuracy: 0.7234 - val_seq_output_binary_accuracy: 0.9959\n",
      "Epoch 13/100\n",
      "972/972 [==============================] - 331s 341ms/step - loss: 0.0457 - ner_output_loss: 0.0257 - seq_output_loss: 0.0200 - ner_output_sparse_categorical_accuracy: 0.7304 - seq_output_binary_accuracy: 0.9983 - val_loss: 0.1598 - val_ner_output_loss: 0.0679 - val_seq_output_loss: 0.0919 - val_ner_output_sparse_categorical_accuracy: 0.7269 - val_seq_output_binary_accuracy: 0.9970\n",
      "Epoch 14/100\n",
      "972/972 [==============================] - 331s 340ms/step - loss: 0.0384 - ner_output_loss: 0.0224 - seq_output_loss: 0.0160 - ner_output_sparse_categorical_accuracy: 0.7312 - seq_output_binary_accuracy: 0.9986 - val_loss: 0.2321 - val_ner_output_loss: 0.0793 - val_seq_output_loss: 0.1528 - val_ner_output_sparse_categorical_accuracy: 0.7259 - val_seq_output_binary_accuracy: 0.9954\n"
     ]
    }
   ],
   "source": [
    "# https://www.tensorflow.org/text/tutorials/bert_glue\n",
    "def create_model(bert_model,\n",
    "                 config,\n",
    "                 num_labels=NUM_LABELS,\n",
    "                 max_len=MAX_LEN,\n",
    "                 unk=UNK_ID,\n",
    "                 class_weight=None,\n",
    "                 strategy=strategy):\n",
    "    print(f'labels: {NUM_LABELS}')\n",
    "    input_ids = Input(shape=(max_len,), dtype=tf.int32, name='input_ids')\n",
    "    attention_mask = Input(shape=(max_len,), dtype=tf.int32, name='attention_mask')\n",
    "    token_type_ids = Input(shape=(max_len,), dtype=tf.int32, name='token_type_ids')\n",
    "\n",
    "    bert_outputs = bert_model({\"input_ids\": input_ids,\n",
    "                                \"attention_mask\": attention_mask,\n",
    "                                \"token_type_ids\": token_type_ids},\n",
    "                            return_dict=True)\n",
    "    bert_sequence_output = tf.cast(bert_outputs.last_hidden_state, tf.float32)\n",
    "    bert_pooled_output = tf.cast(bert_outputs.pooler_output, tf.float32)\n",
    "\n",
    "    # Zero Logits that are paddings or special characters.\n",
    "    mask = tf.cast(attention_mask, tf.float32 )\n",
    "    mask = tf.expand_dims(mask, -1)\n",
    "    masked_output = bert_sequence_output * mask\n",
    "\n",
    "    ner_logits = Dropout(config.hidden_dropout_prob, name='Dropout_ner_1')(masked_output)\n",
    "    ner_logits = Dense(2048, name='Dense_ner_1', kernel_initializer=GlorotUniform())(ner_logits)\n",
    "    ner_logits = Dropout(config.hidden_dropout_prob, name='Dropout_ner_2')(ner_logits)\n",
    "    ner_output = Dense(num_labels, name='ner_output', dtype='float32')(ner_logits)\n",
    "\n",
    "    # combine NER predictions with entire sequence\n",
    "    # NER shape is [batch_size, sequence_length, num_classes (12)].\n",
    "    seq_input = tf.reshape(ner_output,\n",
    "                           [tf.shape(ner_output)[0], tf.shape(ner_output)[1] * tf.shape(ner_output)[2]])\n",
    "    seq_input = tf.concat([bert_pooled_output, seq_input], axis=1)\n",
    "\n",
    "    seq_logits = Dropout(config.hidden_dropout_prob, name='Dropout_seq_1')(seq_input)\n",
    "    seq_logits = Dense(2048, name='Dense_seq_1', kernel_initializer=GlorotUniform())(seq_logits)\n",
    "    seq_logits = Dropout(config.hidden_dropout_prob, name='Dropout_seq_2')(seq_logits)\n",
    "    seq_output = Dense(num_labels, name='seq_output', dtype='float32')(seq_logits)\n",
    "\n",
    "    model = Model(inputs=[input_ids, attention_mask, token_type_ids],\n",
    "                  outputs=[ner_output, seq_output])\n",
    "\n",
    "    # https://www.tensorflow.org/api_docs/python/tf/keras/metrics/SparseCategoricalAccuracy\n",
    "    optimizer = AdamW(learning_rate=LEARN_RATE, clipnorm=1.0)\n",
    "    if not is_tpu_strategy(strategy):\n",
    "      # TPUs already use bfloat16\n",
    "      optimizer = LossScaleOptimizer(optimizer, dynamic=True)\n",
    "    model.compile(optimizer=optimizer,\n",
    "            loss={\"ner_output\": MaskedWeightedSCCE(from_logits=True, class_weight=None, focal_gamma=None),\n",
    "                  \"seq_output\": MaskedWeightedMultiClassBCE(from_logits=True, class_weight=None, focal_gamma=None)},\n",
    "            metrics={\"ner_output\": ['sparse_categorical_accuracy'],\n",
    "                     \"seq_output\": [BinaryAccuracy(threshold=0.5)]})\n",
    "    return model\n",
    "\n",
    "def get_tf_datasets(train_encodings, test_encodings, buffer_size=10000, batch_size=BATCH_SIZE):\n",
    "    def create_dataset(encodings, ner_labels, seq_labels):\n",
    "        input_ids = np.array(encodings['input_ids'])\n",
    "        attention_mask = np.array(encodings['attention_mask'])\n",
    "        token_type_ids = np.array(encodings['token_type_ids']) if 'token_type_ids' in train_encodings else None\n",
    "        ner_labels = np.array(ner_labels)\n",
    "        seq_labels = np.array(seq_labels)\n",
    "        return tf.data.Dataset.from_tensor_slices((\n",
    "            {\n",
    "                'input_ids': input_ids,\n",
    "                'attention_mask': attention_mask,\n",
    "                'token_type_ids': token_type_ids,\n",
    "            },\n",
    "            {\n",
    "                'seq_output': seq_labels,\n",
    "                'ner_output': ner_labels,\n",
    "            },\n",
    "        ))\n",
    "    # TODD: revert to train\n",
    "    train_dataset = create_dataset(train_encodings, train_ner_labels, train_seq_labels)\n",
    "    train_dataset = (train_dataset.shuffle(buffer_size=buffer_size)\n",
    "                                    .batch(batch_size)\n",
    "                                    .cache()\n",
    "                                    .prefetch(tf.data.experimental.AUTOTUNE))\n",
    "    test_dataset = create_dataset(test_encodings, test_ner_labels, test_seq_labels)\n",
    "    test_dataset = (test_dataset.shuffle(buffer_size=buffer_size)\n",
    "                                .batch(batch_size)\n",
    "                                .cache()\n",
    "                                .prefetch(tf.data.experimental.AUTOTUNE))\n",
    "\n",
    "    return train_dataset, test_dataset\n",
    "\n",
    "with strategy.scope():\n",
    "    train_dataset, test_dataset = get_tf_datasets(train_encodings, test_encodings)\n",
    "\n",
    "    config = BertConfig.from_pretrained(MODEL_PATH)\n",
    "    config.num_labels = NUM_LABELS\n",
    "    bert_model = TFBertModel.from_pretrained(f'{MODEL_PATH}/model', config=config)\n",
    "\n",
    "    model = create_model(bert_model,\n",
    "                         config,\n",
    "                         num_labels=len(id2tag), class_weight=class_weights)\n",
    "    # https://www.tensorflow.org/api_docs/python/tf/keras/callbacks/TensorBoard\n",
    "    # tensorboard_callback = TensorBoard(log_dir='./logs',\n",
    "    #                                     histogram_freq=2,\n",
    "    #                                     embeddings_freq=2)\n",
    "    # https://www.tensorflow.org/api_docs/python/tf/keras/callbacks/EarlyStopping\n",
    "    early_stopping = EarlyStopping(mode='min', patience=PATIENCE, start_from_epoch=1)\n",
    "\n",
    "    # tf.debugging.enable_check_numerics() # - Assert if no Infs or NaNs go through. not for TPU!\n",
    "    # tf.config.run_functions_eagerly(not is_tpu_strategy(strategy)) # - Easy debugging\n",
    "    # https://www.tensorflow.org/api_docs/python/tf/keras/Model#fit\n",
    "    history = model.fit(train_dataset,\n",
    "                        epochs=EPOCHS,\n",
    "                        callbacks=[early_stopping, TerminateOnNaN()],\n",
    "                        verbose=\"auto\",\n",
    "                        validation_data=test_dataset)"
   ]
  },
  {
   "cell_type": "markdown",
   "id": "3e3cc7cc",
   "metadata": {
    "papermill": {
     "duration": 1.142216,
     "end_time": "2024-05-06T22:45:32.288062",
     "exception": false,
     "start_time": "2024-05-06T22:45:31.145846",
     "status": "completed"
    },
    "tags": []
   },
   "source": [
    "## Save Model"
   ]
  },
  {
   "cell_type": "code",
   "execution_count": 23,
   "id": "9f72abd9",
   "metadata": {
    "execution": {
     "iopub.execute_input": "2024-05-06T22:45:34.603222Z",
     "iopub.status.busy": "2024-05-06T22:45:34.602796Z",
     "iopub.status.idle": "2024-05-06T22:48:59.730283Z",
     "shell.execute_reply": "2024-05-06T22:48:59.729291Z"
    },
    "papermill": {
     "duration": 207.419851,
     "end_time": "2024-05-06T22:49:00.890277",
     "exception": false,
     "start_time": "2024-05-06T22:45:33.470426",
     "status": "completed"
    },
    "tags": []
   },
   "outputs": [
    {
     "name": "stdout",
     "output_type": "stream",
     "text": [
      "Model: \"model\"\n",
      "__________________________________________________________________________________________________\n",
      " Layer (type)                Output Shape                 Param #   Connected to                  \n",
      "==================================================================================================\n",
      " attention_mask (InputLayer  [(None, 256)]                0         []                            \n",
      " )                                                                                                \n",
      "                                                                                                  \n",
      " input_ids (InputLayer)      [(None, 256)]                0         []                            \n",
      "                                                                                                  \n",
      " token_type_ids (InputLayer  [(None, 256)]                0         []                            \n",
      " )                                                                                                \n",
      "                                                                                                  \n",
      " tf_bert_model_1 (TFBertMod  {'pooler_output': (None, 7   1083102   ['attention_mask[0][0]',      \n",
      " el)                         68),                         72         'input_ids[0][0]',           \n",
      "                              'last_hidden_state': (Non              'token_type_ids[0][0]']      \n",
      "                             e, 256, 768)}                                                        \n",
      "                                                                                                  \n",
      " tf.cast_2 (TFOpLambda)      (None, 256)                  0         ['attention_mask[0][0]']      \n",
      "                                                                                                  \n",
      " tf.cast (TFOpLambda)        (None, 256, 768)             0         ['tf_bert_model_1[0][0]']     \n",
      "                                                                                                  \n",
      " tf.expand_dims (TFOpLambda  (None, 256, 1)               0         ['tf.cast_2[0][0]']           \n",
      " )                                                                                                \n",
      "                                                                                                  \n",
      " tf.math.multiply (TFOpLamb  (None, 256, 768)             0         ['tf.cast[0][0]',             \n",
      " da)                                                                 'tf.expand_dims[0][0]']      \n",
      "                                                                                                  \n",
      " Dropout_ner_1 (Dropout)     (None, 256, 768)             0         ['tf.math.multiply[0][0]']    \n",
      "                                                                                                  \n",
      " Dense_ner_1 (Dense)         (None, 256, 2048)            1574912   ['Dropout_ner_1[0][0]']       \n",
      "                                                                                                  \n",
      " Dropout_ner_2 (Dropout)     (None, 256, 2048)            0         ['Dense_ner_1[0][0]']         \n",
      "                                                                                                  \n",
      " ner_output (Dense)          (None, 256, 12)              24588     ['Dropout_ner_2[0][0]']       \n",
      "                                                                                                  \n",
      " tf.compat.v1.shape_1 (TFOp  (3,)                         0         ['ner_output[0][0]']          \n",
      " Lambda)                                                                                          \n",
      "                                                                                                  \n",
      " tf.compat.v1.shape_2 (TFOp  (3,)                         0         ['ner_output[0][0]']          \n",
      " Lambda)                                                                                          \n",
      "                                                                                                  \n",
      " tf.compat.v1.shape (TFOpLa  (3,)                         0         ['ner_output[0][0]']          \n",
      " mbda)                                                                                            \n",
      "                                                                                                  \n",
      " tf.__operators__.getitem_1  ()                           0         ['tf.compat.v1.shape_1[0][0]']\n",
      "  (SlicingOpLambda)                                                                               \n",
      "                                                                                                  \n",
      " tf.__operators__.getitem_2  ()                           0         ['tf.compat.v1.shape_2[0][0]']\n",
      "  (SlicingOpLambda)                                                                               \n",
      "                                                                                                  \n",
      " tf.__operators__.getitem (  ()                           0         ['tf.compat.v1.shape[0][0]']  \n",
      " SlicingOpLambda)                                                                                 \n",
      "                                                                                                  \n",
      " tf.math.multiply_1 (TFOpLa  ()                           0         ['tf.__operators__.getitem_1[0\n",
      " mbda)                                                              ][0]',                        \n",
      "                                                                     'tf.__operators__.getitem_2[0\n",
      "                                                                    ][0]']                        \n",
      "                                                                                                  \n",
      " tf.cast_1 (TFOpLambda)      (None, 768)                  0         ['tf_bert_model_1[0][1]']     \n",
      "                                                                                                  \n",
      " tf.reshape (TFOpLambda)     (None, 3072)                 0         ['ner_output[0][0]',          \n",
      "                                                                     'tf.__operators__.getitem[0][\n",
      "                                                                    0]',                          \n",
      "                                                                     'tf.math.multiply_1[0][0]']  \n",
      "                                                                                                  \n",
      " tf.concat (TFOpLambda)      (None, 3840)                 0         ['tf.cast_1[0][0]',           \n",
      "                                                                     'tf.reshape[0][0]']          \n",
      "                                                                                                  \n",
      " Dropout_seq_1 (Dropout)     (None, 3840)                 0         ['tf.concat[0][0]']           \n",
      "                                                                                                  \n",
      " Dense_seq_1 (Dense)         (None, 2048)                 7866368   ['Dropout_seq_1[0][0]']       \n",
      "                                                                                                  \n",
      " Dropout_seq_2 (Dropout)     (None, 2048)                 0         ['Dense_seq_1[0][0]']         \n",
      "                                                                                                  \n",
      " seq_output (Dense)          (None, 12)                   24588     ['Dropout_seq_2[0][0]']       \n",
      "                                                                                                  \n",
      "==================================================================================================\n",
      "Total params: 117800728 (449.37 MB)\n",
      "Trainable params: 117800728 (449.37 MB)\n",
      "Non-trainable params: 0 (0.00 Byte)\n",
      "__________________________________________________________________________________________________\n"
     ]
    }
   ],
   "source": [
    "from tensorflow.keras.models import load_model\n",
    "from tensorflow.keras.models import save_model\n",
    "\n",
    "import zipfile\n",
    "\n",
    "def zip_models(directory, output_filename):\n",
    "    with zipfile.ZipFile(output_filename, 'w', zipfile.ZIP_DEFLATED) as zipf:\n",
    "        for root, dirs, files in os.walk(directory):\n",
    "            for file in files:\n",
    "                zipf.write(os.path.join(root, file), os.path.relpath(os.path.join(root, file), os.path.join(directory, '..')))\n",
    "\n",
    "MODEL_SAVE_PATH = './models/bert_news'\n",
    "model.save(MODEL_SAVE_PATH, save_format='tf')\n",
    "custom_objects = {\n",
    "    'MaskedWeightedMultiClassBCE': MaskedWeightedMultiClassBCE,\n",
    "    'MaskedWeightedSCCE': MaskedWeightedSCCE\n",
    "}\n",
    "\n",
    "ZIP_MODEL=True # May be very large!\n",
    "if ZIP_MODEL:\n",
    "    zip_models('./models', 'models.zip')\n",
    "\n",
    "loaded_model = load_model(MODEL_SAVE_PATH, custom_objects=custom_objects)\n",
    "loaded_model.summary()"
   ]
  },
  {
   "cell_type": "markdown",
   "id": "f4627f8c",
   "metadata": {
    "id": "1wyz3xUKo1VP",
    "papermill": {
     "duration": 1.211756,
     "end_time": "2024-05-06T22:49:03.236304",
     "exception": false,
     "start_time": "2024-05-06T22:49:02.024548",
     "status": "completed"
    },
    "tags": []
   },
   "source": [
    "## Evaluate NER Classifier"
   ]
  },
  {
   "cell_type": "code",
   "execution_count": 24,
   "id": "4f89af59",
   "metadata": {
    "execution": {
     "iopub.execute_input": "2024-05-06T22:49:05.601860Z",
     "iopub.status.busy": "2024-05-06T22:49:05.601129Z",
     "iopub.status.idle": "2024-05-06T22:49:07.859017Z",
     "shell.execute_reply": "2024-05-06T22:49:07.858068Z"
    },
    "id": "KDIsD5-iMU-o",
    "outputId": "251d65fa-80b6-4175-ab22-a8adb509d3eb",
    "papermill": {
     "duration": 3.467054,
     "end_time": "2024-05-06T22:49:07.860957",
     "exception": false,
     "start_time": "2024-05-06T22:49:04.393903",
     "status": "completed"
    },
    "tags": []
   },
   "outputs": [
    {
     "name": "stdout",
     "output_type": "stream",
     "text": [
      "1/1 [==============================] - 2s 2s/step\n",
      "NER labels shape: (1, 256, 12)\n",
      "Sequence labels shape: (1, 12)\n"
     ]
    }
   ],
   "source": [
    "traindata = train_dataset.unbatch().batch(1).take(1)\n",
    "\n",
    "y1 = loaded_model.predict(traindata)\n",
    "print(f\"NER labels shape: {y1[0].shape}\")\n",
    "print(f\"Sequence labels shape: {y1[1].shape}\")"
   ]
  },
  {
   "cell_type": "code",
   "execution_count": 25,
   "id": "c6d59799",
   "metadata": {
    "execution": {
     "iopub.execute_input": "2024-05-06T22:49:10.232907Z",
     "iopub.status.busy": "2024-05-06T22:49:10.232267Z",
     "iopub.status.idle": "2024-05-06T22:49:10.241454Z",
     "shell.execute_reply": "2024-05-06T22:49:10.240548Z"
    },
    "id": "12CGfK0QMU-o",
    "outputId": "592b96bb-cb8c-4bb8-81a1-9d85edb5182c",
    "papermill": {
     "duration": 1.140732,
     "end_time": "2024-05-06T22:49:10.243700",
     "exception": false,
     "start_time": "2024-05-06T22:49:09.102968",
     "status": "completed"
    },
    "tags": []
   },
   "outputs": [
    {
     "name": "stdout",
     "output_type": "stream",
     "text": [
      "Logits (NEW): [[[-2.1208272   1.9356549   0.78535485 ... -2.6937354  -1.9824574\n",
      "   11.3866205 ]\n",
      "  [-2.8238716   1.7113774  -1.0179338  ... -4.8813457  -2.8853276\n",
      "   24.540678  ]\n",
      "  [-2.779941    1.7244678  -0.97020817 ... -4.820261   -2.8125954\n",
      "   24.485565  ]\n",
      "  ...\n",
      "  [-2.1693888   1.644106   -0.03743315 ... -2.0928986  -1.3324405\n",
      "   21.804731  ]\n",
      "  [-2.3419397   1.7740585  -0.20581967 ... -2.7282374  -1.4938276\n",
      "   22.189573  ]\n",
      "  [ 3.024881    4.0689545  -0.816995   ...  0.42728683 -1.8241929\n",
      "   11.421137  ]]]\n",
      "Predicted classes: [[11 11 11 11 11 11 11 11 11 11 11 11 11 11 11 11 11 11 11 11 11 11 11 11\n",
      "  11 11 11 11 11 11 11 11 11 11 11 11 11 11 11 11 11 11 11 11 11 11 11 11\n",
      "  11 11 11 11 11 11 11 11 11 11 11 11 11 11 11 11 11 11 11 11 11 11 11 11\n",
      "  11 11 11 11 11 11 11 11 11 11 11 11 11 11 11 11 11 11 11 11 11 11 11 11\n",
      "  11 11 11 11 11 11 11 11 11 11 11 11 11 11 11 11 11 11 11 11 11 11 11 11\n",
      "  11 11 11 11 11 11 11 11 11 11 11 11 11 11 11 11 11 11 11 11 11 11 11 11\n",
      "  11 11 11 11 11 11 11 11 11 11 11 11 11 11 11 11 11 11 11 11 11 11 11 11\n",
      "  11 11 11 11 11 11 11 11 11 11 11 11 11 11 11 11 11 11 11 11 11 11 11 11\n",
      "  11 11 11 11 11 11 11 11 11 11 11 11 11 11 11 11 11 11 11 11 11 11 11 11\n",
      "  11 11 11 11 11 11 11 11 11 11 11 11 11 11 11 11 11 11 11 11 11 11 11 11\n",
      "  11 11 11 11 11 11 11 11 11 11 11 11 11 11 11 11]]\n",
      "Logits (SEQ): [[-190.70963   -98.66928   -95.10362   -71.674164  -87.69577   -97.71784\n",
      "  -138.18886  -109.194824  -54.48459   -85.44198  -159.95158    91.92032 ]]\n",
      "Predicted (1) Event(s) in article: (O)\n"
     ]
    }
   ],
   "source": [
    "predicted_classes = np.argmax(y1[0], axis=-1)\n",
    "\n",
    "print(\"Logits (NEW):\", y1[0])\n",
    "print(\"Predicted classes:\", predicted_classes)\n",
    "\n",
    "predicted_events = (y1[1] > 0.5).astype(int)\n",
    "\n",
    "print(\"Logits (SEQ):\", y1[1])\n",
    "predicted_event_names = [[id2tag[i] for i, present in enumerate(article) if present == 1] for article in predicted_events]\n",
    "print(f\"Predicted ({len(predicted_event_names[0])}) Event(s) in article: ({', '.join(predicted_event_names[0])})\")"
   ]
  },
  {
   "cell_type": "code",
   "execution_count": 26,
   "id": "13ffd198",
   "metadata": {
    "execution": {
     "iopub.execute_input": "2024-05-06T22:49:12.571519Z",
     "iopub.status.busy": "2024-05-06T22:49:12.571144Z",
     "iopub.status.idle": "2024-05-06T22:49:12.586012Z",
     "shell.execute_reply": "2024-05-06T22:49:12.585060Z"
    },
    "id": "UJ16MRFSMU-o",
    "outputId": "f90131f4-de22-4f53-fda6-629ef5607c7d",
    "papermill": {
     "duration": 1.201086,
     "end_time": "2024-05-06T22:49:12.587964",
     "exception": false,
     "start_time": "2024-05-06T22:49:11.386878",
     "status": "completed"
    },
    "tags": []
   },
   "outputs": [
    {
     "name": "stdout",
     "output_type": "stream",
     "text": [
      "NER Labels found: [[-100   11   11 -100 -100   11 -100 -100 -100 -100   11   11   11   11\n",
      "  -100 -100 -100 -100 -100   11 -100   11 -100   11   11 -100   11   11\n",
      "    11   11   11   11   11   11   11   11   11 -100 -100   11   11 -100\n",
      "  -100 -100   11 -100   11   11 -100 -100   11   11   11 -100 -100   11\n",
      "  -100 -100   11 -100 -100   11   11   11   11   11   11   11   11   11\n",
      "    11   11 -100 -100 -100   11   11   11   11   11   11   11   11   11\n",
      "  -100 -100 -100   11   11   11   11   11   11   11   11 -100 -100   11\n",
      "    11   11 -100 -100 -100 -100 -100   11   11   11   11 -100 -100   11\n",
      "  -100   11   11 -100   11   11   11   11   11   11   11   11   11   11\n",
      "    11   11   11   11   11   11   11   11   11   11   11   11 -100   11\n",
      "    11   11   11   11   11   11   11   11   11   11   11   11   11   11\n",
      "    11   11   11   11   11   11   11   11   11   11   11   11   11 -100\n",
      "  -100   11   11   11 -100 -100 -100 -100 -100   11   11 -100 -100 -100\n",
      "  -100 -100   11   11   11   11   11   11   11   11   11 -100   11   11\n",
      "    11 -100 -100   11   11   11   11   11   11   11   11   11   11 -100\n",
      "  -100   11 -100   11   11   11 -100 -100 -100   11 -100   11   11 -100\n",
      "  -100   11   11   11 -100 -100 -100   11   11   11   11   11   11   11\n",
      "  -100   11   11   11   11   11   11   11   11   11   11   11   11   11\n",
      "    11   11 -100 -100]]\n",
      "Article NER sequence: [[0. 0. 0. 0. 0. 0. 0. 0. 0. 0. 0. 1.]]\n",
      "Article Events: [['O']]\n"
     ]
    }
   ],
   "source": [
    "inputs, labels = next(iter(traindata))\n",
    "print(f\"NER Labels found: {labels['ner_output']}\")\n",
    "print(f\"Article NER sequence: {labels['seq_output']}\")\n",
    "\n",
    "article_events_tags = [\n",
    "    [id2tag[idx] if event == 1 else None for idx, event in enumerate(label.numpy())]\n",
    "    for label in labels['seq_output']\n",
    "]\n",
    "article_events_tags = [\n",
    "    [tag for tag in event_tags if tag is not None]\n",
    "    for event_tags in article_events_tags\n",
    "]\n",
    "print(f\"Article Events: {article_events_tags}\")"
   ]
  },
  {
   "cell_type": "code",
   "execution_count": 27,
   "id": "6ba24f5c",
   "metadata": {
    "execution": {
     "iopub.execute_input": "2024-05-06T22:49:14.990406Z",
     "iopub.status.busy": "2024-05-06T22:49:14.990053Z",
     "iopub.status.idle": "2024-05-06T22:49:15.116719Z",
     "shell.execute_reply": "2024-05-06T22:49:15.115714Z"
    },
    "id": "7zt5l0hmMU-o",
    "outputId": "b05183b0-8194-4bf3-a85a-675a6c9e533e",
    "papermill": {
     "duration": 1.338507,
     "end_time": "2024-05-06T22:49:15.118764",
     "exception": false,
     "start_time": "2024-05-06T22:49:13.780257",
     "status": "completed"
    },
    "tags": []
   },
   "outputs": [
    {
     "name": "stdout",
     "output_type": "stream",
     "text": [
      "Mask: [[0. 1. 1. 0. 0. 1. 0. 0. 0. 0. 1. 1. 1. 1. 0. 0. 0. 0. 0. 1. 0. 1. 0. 1.\n",
      "  1. 0. 1. 1. 1. 1. 1. 1. 1. 1. 1. 1. 1. 0. 0. 1. 1. 0. 0. 0. 1. 0. 1. 1.\n",
      "  0. 0. 1. 1. 1. 0. 0. 1. 0. 0. 1. 0. 0. 1. 1. 1. 1. 1. 1. 1. 1. 1. 1. 1.\n",
      "  0. 0. 0. 1. 1. 1. 1. 1. 1. 1. 1. 1. 0. 0. 0. 1. 1. 1. 1. 1. 1. 1. 1. 0.\n",
      "  0. 1. 1. 1. 0. 0. 0. 0. 0. 1. 1. 1. 1. 0. 0. 1. 0. 1. 1. 0. 1. 1. 1. 1.\n",
      "  1. 1. 1. 1. 1. 1. 1. 1. 1. 1. 1. 1. 1. 1. 1. 1. 1. 1. 0. 1. 1. 1. 1. 1.\n",
      "  1. 1. 1. 1. 1. 1. 1. 1. 1. 1. 1. 1. 1. 1. 1. 1. 1. 1. 1. 1. 1. 1. 1. 0.\n",
      "  0. 1. 1. 1. 0. 0. 0. 0. 0. 1. 1. 0. 0. 0. 0. 0. 1. 1. 1. 1. 1. 1. 1. 1.\n",
      "  1. 0. 1. 1. 1. 0. 0. 1. 1. 1. 1. 1. 1. 1. 1. 1. 1. 0. 0. 1. 0. 1. 1. 1.\n",
      "  0. 0. 0. 1. 0. 1. 1. 0. 0. 1. 1. 1. 0. 0. 0. 1. 1. 1. 1. 1. 1. 1. 0. 1.\n",
      "  1. 1. 1. 1. 1. 1. 1. 1. 1. 1. 1. 1. 1. 1. 0. 0.]]\n",
      "Masked Losses: [[0. 0. 0. 0. 0. 0. 0. 0. 0. 0. 0. 0. 0. 0. 0. 0. 0. 0. 0. 0. 0. 0. 0. 0.\n",
      "  0. 0. 0. 0. 0. 0. 0. 0. 0. 0. 0. 0. 0. 0. 0. 0. 0. 0. 0. 0. 0. 0. 0. 0.\n",
      "  0. 0. 0. 0. 0. 0. 0. 0. 0. 0. 0. 0. 0. 0. 0. 0. 0. 0. 0. 0. 0. 0. 0. 0.\n",
      "  0. 0. 0. 0. 0. 0. 0. 0. 0. 0. 0. 0. 0. 0. 0. 0. 0. 0. 0. 0. 0. 0. 0. 0.\n",
      "  0. 0. 0. 0. 0. 0. 0. 0. 0. 0. 0. 0. 0. 0. 0. 0. 0. 0. 0. 0. 0. 0. 0. 0.\n",
      "  0. 0. 0. 0. 0. 0. 0. 0. 0. 0. 0. 0. 0. 0. 0. 0. 0. 0. 0. 0. 0. 0. 0. 0.\n",
      "  0. 0. 0. 0. 0. 0. 0. 0. 0. 0. 0. 0. 0. 0. 0. 0. 0. 0. 0. 0. 0. 0. 0. 0.\n",
      "  0. 0. 0. 0. 0. 0. 0. 0. 0. 0. 0. 0. 0. 0. 0. 0. 0. 0. 0. 0. 0. 0. 0. 0.\n",
      "  0. 0. 0. 0. 0. 0. 0. 0. 0. 0. 0. 0. 0. 0. 0. 0. 0. 0. 0. 0. 0. 0. 0. 0.\n",
      "  0. 0. 0. 0. 0. 0. 0. 0. 0. 0. 0. 0. 0. 0. 0. 0. 0. 0. 0. 0. 0. 0. 0. 0.\n",
      "  0. 0. 0. 0. 0. 0. 0. 0. 0. 0. 0. 0. 0. 0. 0. 0.]]\n",
      "Mean Loss: 0.0\n",
      "Bin Losses: [1.8132704e-25]\n",
      "Mean Binary Loss: 1.8132703765818108e-25\n"
     ]
    }
   ],
   "source": [
    "mask = tf.logical_and(tf.greater_equal(labels['ner_output'], 0), tf.less(labels['ner_output'], MAX_LEN))\n",
    "mask = tf.cast(mask, tf.float32)\n",
    "losses = tf.keras.losses.sparse_categorical_crossentropy(labels['ner_output'], y1[0], from_logits=True, ignore_class=UNK_ID)\n",
    "losses *= mask\n",
    "mean_loss = tf.reduce_sum(losses) / tf.reduce_sum(tf.cast(mask, tf.float32))\n",
    "\n",
    "print(f\"Mask: {mask}\")\n",
    "print(f\"Masked Losses: {losses.numpy()}\")\n",
    "print(f\"Mean Loss: {mean_loss.numpy()}\")\n",
    "\n",
    "binary_losses = tf.keras.losses.binary_crossentropy(labels['seq_output'] , y1[1], from_logits=True)\n",
    "mean_binary_loss = tf.reduce_mean(binary_losses)\n",
    "print(f\"Bin Losses: {binary_losses.numpy()}\")\n",
    "print(f\"Mean Binary Loss: {mean_binary_loss.numpy()}\")"
   ]
  },
  {
   "cell_type": "code",
   "execution_count": 28,
   "id": "c4bc6e60",
   "metadata": {
    "execution": {
     "iopub.execute_input": "2024-05-06T22:49:17.525510Z",
     "iopub.status.busy": "2024-05-06T22:49:17.525167Z",
     "iopub.status.idle": "2024-05-06T22:49:18.426128Z",
     "shell.execute_reply": "2024-05-06T22:49:18.425287Z"
    },
    "id": "S1seJsBYMU-p",
    "outputId": "f04d0d3e-f62c-4035-d54a-b98769686fd3",
    "papermill": {
     "duration": 2.134205,
     "end_time": "2024-05-06T22:49:18.428936",
     "exception": false,
     "start_time": "2024-05-06T22:49:16.294731",
     "status": "completed"
    },
    "tags": []
   },
   "outputs": [
    {
     "data": {
      "image/png": "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",
      "text/plain": [
       "<Figure size 1200x600 with 2 Axes>"
      ]
     },
     "metadata": {},
     "output_type": "display_data"
    }
   ],
   "source": [
    "import matplotlib.pyplot as plt\n",
    "from sklearn.metrics import confusion_matrix\n",
    "import seaborn as sns\n",
    "\n",
    "def plot_classification(history):\n",
    "    plt.figure(figsize=(12, 6))\n",
    "    plt.subplot(1, 2, 1)\n",
    "    plt.plot(history.history['loss'], label='Training Loss')\n",
    "    plt.plot(history.history['val_loss'], label='Validation Loss')\n",
    "    plt.plot(history.history['ner_output_loss'], label='Training NER')\n",
    "    plt.plot(history.history['val_ner_output_loss'], label='Validation NER')\n",
    "    plt.plot(history.history['seq_output_loss'], label='Training SEQ')\n",
    "    plt.plot(history.history['val_seq_output_loss'], label='Validation SEQ')\n",
    "    plt.title('Training vs. Validation Loss')\n",
    "    plt.xlabel('Epochs')\n",
    "    plt.ylabel('Loss')\n",
    "    plt.legend()\n",
    "    plt.subplot(1, 2, 2)\n",
    "    plt.plot(history.history['ner_output_sparse_categorical_accuracy'], label='Training NER Accuracy')\n",
    "    plt.plot(history.history['val_ner_output_sparse_categorical_accuracy'], label='Validation NER Accuracy')\n",
    "    plt.plot(history.history['seq_output_binary_accuracy'], label='Training SEQ Accuracy')\n",
    "    plt.plot(history.history['val_seq_output_binary_accuracy'], label='Validation SEQ Accuracy')\n",
    "\n",
    "    plt.title('Training vs. Validation Accuracy')\n",
    "    plt.xlabel('Epochs')\n",
    "    plt.ylabel('Accuracy')\n",
    "    plt.legend()\n",
    "    plt.tight_layout()\n",
    "    plt.show()\n",
    "\n",
    "plot_classification(history)"
   ]
  },
  {
   "cell_type": "code",
   "execution_count": 29,
   "id": "44ce3756",
   "metadata": {
    "execution": {
     "iopub.execute_input": "2024-05-06T22:49:20.770683Z",
     "iopub.status.busy": "2024-05-06T22:49:20.770312Z",
     "iopub.status.idle": "2024-05-06T22:49:56.553665Z",
     "shell.execute_reply": "2024-05-06T22:49:56.552679Z"
    },
    "id": "dPbhpJv2MU-p",
    "outputId": "d8090836-9415-4314-8f2a-9f3bf7c1dcd8",
    "papermill": {
     "duration": 36.973871,
     "end_time": "2024-05-06T22:49:56.555746",
     "exception": false,
     "start_time": "2024-05-06T22:49:19.581875",
     "status": "completed"
    },
    "tags": []
   },
   "outputs": [
    {
     "name": "stdout",
     "output_type": "stream",
     "text": [
      "244/244 [==============================] - 35s 98ms/step\n",
      "Shapes: (498688,) and (498688,)\n",
      "              precision    recall  f1-score   support\n",
      "\n",
      "         I-A       0.00      0.00      0.00      1998\n",
      "        I-CT       0.01      0.02      0.01      3349\n",
      "        I-DC       0.00      0.00      0.00       710\n",
      "        I-DI       0.02      0.03      0.02      1764\n",
      "        I-GC       0.00      0.00      0.00       569\n",
      "        I-NC       0.03      0.03      0.03      5094\n",
      "        I-RD       0.00      0.00      0.00      1945\n",
      "       I-RSS       0.00      0.00      0.00       441\n",
      "        I-SD       0.00      0.00      0.00       474\n",
      "        I-SR       0.02      0.02      0.02      3164\n",
      "        I-SS       0.00      0.00      0.00       458\n",
      "           O       0.70      0.94      0.80    347284\n",
      "\n",
      "   micro avg       0.65      0.89      0.75    367250\n",
      "   macro avg       0.06      0.09      0.07    367250\n",
      "weighted avg       0.66      0.89      0.76    367250\n",
      "\n",
      "Accuracy: 65.27%\n",
      "Hamming: 0.35%\n",
      "Precision: 48.88%, Recall: 65.27%,, F1-Score: 55.90%\n"
     ]
    }
   ],
   "source": [
    "from sklearn.metrics import precision_recall_fscore_support, classification_report, hamming_loss\n",
    "\n",
    "def print_classification_performanca(predictions, true_labels, id2tag, max_len = MAX_LEN, binary=False):\n",
    "    if true_labels.ndim > 2:\n",
    "        true_labels = true_labels.reshape(true_labels.shape[0], -1)\n",
    "    if predictions.ndim > 2:\n",
    "        predictions = predictions.reshape(predictions.shape[0], -1)\n",
    "\n",
    "    true_labels = true_labels.flatten()\n",
    "    predictions = predictions.flatten()\n",
    "    print(f\"Shapes: {true_labels.shape} and {predictions.shape}\")\n",
    "    assert true_labels.shape == predictions.shape, \"Shape mismatch between labels and predictions\"\n",
    "\n",
    "    print(classification_report(true_labels, predictions,\n",
    "                                labels=range(len(id2tag)),\n",
    "                                target_names=list(id2tag.values()), zero_division=0))\n",
    "\n",
    "    weighted_precision, weighted_recall, weighted_f1, _ = precision_recall_fscore_support(\n",
    "                                                                        true_labels, predictions,\n",
    "                                                                        average='weighted')\n",
    "\n",
    "    ner_correct = np.sum(predictions == true_labels)\n",
    "    ner_total = len(true_labels)\n",
    "\n",
    "    h_loss = hamming_loss(true_labels, predictions)\n",
    "\n",
    "    print('Accuracy: {:.2f}%'.format(100. * ner_correct / ner_total))\n",
    "    print('Hamming: {:.2f}%'.format(h_loss))\n",
    "    print(f\"Precision: {100. * weighted_precision:.2f}%, Recall: {100. * weighted_recall:.2f}%,, F1-Score: {100. * weighted_f1:.2f}%\")\n",
    "\n",
    "predictions = model.predict(test_dataset)\n",
    "predicted_label_indices = np.argmax(predictions[0], axis=-1)\n",
    "filtered_indices = predicted_label_indices[predicted_label_indices != UNK]\n",
    "test_ner_labels = np.array(test_ner_labels)\n",
    "filtered_labels = test_ner_labels[test_ner_labels != UNK]\n",
    "\n",
    "print_classification_performanca(filtered_indices, filtered_labels, id2tag)"
   ]
  },
  {
   "cell_type": "markdown",
   "id": "48e87dfb",
   "metadata": {
    "papermill": {
     "duration": 1.222231,
     "end_time": "2024-05-06T22:49:58.986922",
     "exception": false,
     "start_time": "2024-05-06T22:49:57.764691",
     "status": "completed"
    },
    "tags": []
   },
   "source": [
    "## Evaluate Sequence Classifier"
   ]
  },
  {
   "cell_type": "code",
   "execution_count": 30,
   "id": "76a556c9",
   "metadata": {
    "execution": {
     "iopub.execute_input": "2024-05-06T22:50:01.290004Z",
     "iopub.status.busy": "2024-05-06T22:50:01.289626Z",
     "iopub.status.idle": "2024-05-06T22:50:02.394837Z",
     "shell.execute_reply": "2024-05-06T22:50:02.393518Z"
    },
    "papermill": {
     "duration": 2.254771,
     "end_time": "2024-05-06T22:50:02.396975",
     "exception": false,
     "start_time": "2024-05-06T22:50:00.142204",
     "status": "completed"
    },
    "tags": []
   },
   "outputs": [
    {
     "name": "stdout",
     "output_type": "stream",
     "text": [
      "Accuracy Ratio: 0.60, correct predictions (1162 out of 1948)\n"
     ]
    }
   ],
   "source": [
    "seq_pred = predictions[1]\n",
    "seq_labels = np.array(test_seq_labels)\n",
    "seq_correct = 0\n",
    "for pred, label in zip(seq_pred, seq_labels):\n",
    "    pred = tf.nn.sigmoid(pred)\n",
    "    pred_tags = set(np.where(pred > 0.5)[0])\n",
    "    label_tags = set(np.where(label == 1)[0])\n",
    "    if pred_tags == label_tags:\n",
    "        seq_correct += 1\n",
    "\n",
    "event_accuracy_ratio = seq_correct / len(seq_labels) if len(seq_labels) > 0 else 0\n",
    "print(f\"Accuracy Ratio: {event_accuracy_ratio:.2f}, correct predictions ({seq_correct} out of {len(seq_labels)})\")"
   ]
  }
 ],
 "metadata": {
  "accelerator": "TPU",
  "colab": {
   "gpuType": "V28",
   "provenance": []
  },
  "kaggle": {
   "accelerator": "gpu",
   "dataSources": [
    {
     "datasetId": 4755137,
     "isSourceIdPinned": true,
     "sourceId": 8061237,
     "sourceType": "datasetVersion"
    },
    {
     "modelInstanceId": 37197,
     "sourceId": 44285,
     "sourceType": "modelInstanceVersion"
    }
   ],
   "isGpuEnabled": true,
   "isInternetEnabled": true,
   "language": "python",
   "sourceType": "notebook"
  },
  "kernelspec": {
   "display_name": "Python 3",
   "language": "python",
   "name": "python3"
  },
  "language_info": {
   "codemirror_mode": {
    "name": "ipython",
    "version": 3
   },
   "file_extension": ".py",
   "mimetype": "text/x-python",
   "name": "python",
   "nbconvert_exporter": "python",
   "pygments_lexer": "ipython3",
   "version": "3.10.13"
  },
  "papermill": {
   "default_parameters": {},
   "duration": 5116.753498,
   "end_time": "2024-05-06T22:50:06.673712",
   "environment_variables": {},
   "exception": null,
   "input_path": "__notebook__.ipynb",
   "output_path": "__notebook__.ipynb",
   "parameters": {},
   "start_time": "2024-05-06T21:24:49.920214",
   "version": "2.5.0"
  }
 },
 "nbformat": 4,
 "nbformat_minor": 5
}
>>>>>>> dbb50f21e97ffe0395bad18cd2919dd93d7535ca
