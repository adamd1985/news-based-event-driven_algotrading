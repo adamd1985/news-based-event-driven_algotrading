{
 "cells": [
  {
   "cell_type": "markdown",
   "id": "6cdd3ad6",
   "metadata": {
    "id": "oaDoHbxVH0CW",
    "papermill": {
     "duration": 0.013572,
     "end_time": "2024-03-18T15:59:39.156056",
     "exception": false,
     "start_time": "2024-03-18T15:59:39.142484",
     "status": "completed"
    },
    "tags": []
   },
   "source": [
    "# Trading News and Corporate Actions with BERT\n",
    "\n",
    "<a href=\"\" target=\"_blank\"><img align=\"left\" alt=\"Kaggle\" title=\"Open in Kaggle\" src=\"https://kaggle.com/static/images/open-in-kaggle.svg\"></a>\n",
    "\n",
    "\n",
    "<a href=\"\" target=\"_parent\"><img src=\"https://colab.research.google.com/assets/colab-badge.svg\" alt=\"Open In Colab\"/></a>\n"
   ]
  },
  {
   "cell_type": "markdown",
   "id": "4cfdfc9d",
   "metadata": {
    "id": "xqvaSLkfsxr-",
    "papermill": {
     "duration": 0.012777,
     "end_time": "2024-03-18T15:59:39.208962",
     "exception": false,
     "start_time": "2024-03-18T15:59:39.196185",
     "status": "completed"
    },
    "tags": []
   },
   "source": [
    "Algo-trading on corporate actions by leveraging NLP. A replicationa and enhancement of the paper: *Trade the Event: Corporate Events Detection for News-Based Event-Driven Trading (Zhou et al., Findings 2021)*.\n",
    "\n",
    "We will perform the following steps:\n",
    "1. Domain adaptation for financial articles by finetuning a BERT model with Masked Language Model (MLM) training on financial news and encyclopedia data. *Zhou et al.* utilized human annotators to label news articles with an event. \n",
    "1. Bi-Level Event Detection: At Token-Level we detect events using a sequence labeling approach. At the higher Article-Level we will augment the corpus with 'CLS' token embedding which contains the the aggregate of all the article's embeddings, and concatenate it with the lower level tokens.\n",
    "1. Recognize security Ticker, using string matching algorithm to recognize tickers within articles.\n",
    "1. Create trading signals on the identified tickers."
   ]
  },
  {
   "cell_type": "markdown",
   "id": "68c65327",
   "metadata": {
    "id": "aM59cTClH0CZ",
    "papermill": {
     "duration": 0.012705,
     "end_time": "2024-03-18T15:59:39.234847",
     "exception": false,
     "start_time": "2024-03-18T15:59:39.222142",
     "status": "completed"
    },
    "tags": []
   },
   "source": [
    "```bibtex\n",
    "@inproceedings{zhou-etal-2021-trade,\n",
    "    title = \"Trade the Event: Corporate Events Detection for News-Based Event-Driven Trading\",\n",
    "    author = \"Zhou, Zhihan  and\n",
    "      Ma, Liqian  and\n",
    "      Liu, Han\",\n",
    "    editor = \"Zong, Chengqing  and\n",
    "      Xia, Fei  and\n",
    "      Li, Wenjie  and\n",
    "      Navigli, Roberto\",\n",
    "    booktitle = \"Findings of the Association for Computational Linguistics: ACL-IJCNLP 2021\",\n",
    "    month = aug,\n",
    "    year = \"2021\",\n",
    "    address = \"Online\",\n",
    "    publisher = \"Association for Computational Linguistics\",\n",
    "    url = \"https://aclanthology.org/2021.findings-acl.186\",\n",
    "    doi = \"10.18653/v1/2021.findings-acl.186\",\n",
    "    pages = \"2114--2124\",\n",
    "}\n",
    "```"
   ]
  },
  {
   "cell_type": "code",
   "execution_count": 1,
   "id": "7cae6fcf",
   "metadata": {},
   "outputs": [
    {
     "data": {
      "text/plain": [
       "'\\n%pip install matplotlib\\n%pip install tensorflow\\n%pip install shutil\\n%pip install yfinance\\n%pip install pyarrow\\n%pip install tqdm\\n%pip install pip install transformers\\n'"
      ]
     },
     "execution_count": 1,
     "metadata": {},
     "output_type": "execute_result"
    }
   ],
   "source": [
    "\"\"\"\n",
    "%pip install matplotlib\n",
    "%pip install tensorflow\n",
    "%pip install shutil\n",
    "%pip install yfinance\n",
    "%pip install pyarrow\n",
    "%pip install tqdm\n",
    "%pip install pip install transformers\n",
    "\"\"\""
   ]
  },
  {
   "cell_type": "code",
   "execution_count": 2,
   "id": "6e1a7dc0",
   "metadata": {
    "execution": {
     "iopub.execute_input": "2024-03-18T15:59:39.263519Z",
     "iopub.status.busy": "2024-03-18T15:59:39.263143Z",
     "iopub.status.idle": "2024-03-18T15:59:39.302131Z",
     "shell.execute_reply": "2024-03-18T15:59:39.300496Z"
    },
    "executionInfo": {
     "elapsed": 703809,
     "status": "ok",
     "timestamp": 1710410570017,
     "user": {
      "displayName": "Adam Darmanin",
      "userId": "00262451996831505471"
     },
     "user_tz": -60
    },
    "id": "Q4-GoceIIfT_",
    "outputId": "008e6278-a966-4e09-e848-d830d601d29f",
    "papermill": {
     "duration": 0.056294,
     "end_time": "2024-03-18T15:59:39.304970",
     "exception": false,
     "start_time": "2024-03-18T15:59:39.248676",
     "status": "completed"
    },
    "tags": []
   },
   "outputs": [],
   "source": [
    "import os\n",
    "import warnings\n",
    "warnings.filterwarnings(\"ignore\")\n",
    "\n",
    "try:\n",
    "  import google.colab\n",
    "  IN_COLAB = True\n",
    "except:\n",
    "  IN_COLAB = False\n",
    "if 'KAGGLE_KERNEL_RUN_TYPE' in os.environ:\n",
    "    print('Running in Kaggle...')\n",
    "    for dirname, _, filenames in os.walk('/kaggle/input'):\n",
    "        for filename in filenames:\n",
    "            print(os.path.join(dirname, filename))\n",
    "\n",
    "    DATA_PATH = \"/kaggle/input/USCorpActionNews\"\n",
    "    IN_KAGGLE = True\n",
    "else:\n",
    "    IN_KAGGLE = False\n",
    "    DATA_PATH = \"./data/\""
   ]
  },
  {
   "cell_type": "code",
   "execution_count": 3,
   "id": "1015516d",
   "metadata": {
    "execution": {
     "iopub.execute_input": "2024-03-18T16:02:59.455768Z",
     "iopub.status.busy": "2024-03-18T16:02:59.455342Z",
     "iopub.status.idle": "2024-03-18T16:03:18.044099Z",
     "shell.execute_reply": "2024-03-18T16:03:18.043161Z"
    },
    "executionInfo": {
     "elapsed": 6369,
     "status": "ok",
     "timestamp": 1710410576375,
     "user": {
      "displayName": "Adam Darmanin",
      "userId": "00262451996831505471"
     },
     "user_tz": -60
    },
    "id": "GJiIs_h-H0Ca",
    "outputId": "e639a0a2-0f32-4741-916b-afb9f8f8202d",
    "papermill": {
     "duration": 18.619178,
     "end_time": "2024-03-18T16:03:18.046273",
     "exception": false,
     "start_time": "2024-03-18T16:02:59.427095",
     "status": "completed"
    },
    "tags": []
   },
   "outputs": [
    {
     "name": "stderr",
     "output_type": "stream",
     "text": [
      "2024-04-08 09:29:46.852679: I tensorflow/core/platform/cpu_feature_guard.cc:210] This TensorFlow binary is optimized to use available CPU instructions in performance-critical operations.\n",
      "To enable the following instructions: AVX2 FMA, in other operations, rebuild TensorFlow with the appropriate compiler flags.\n",
      "2024-04-08 09:29:48.373853: W tensorflow/compiler/tf2tensorrt/utils/py_utils.cc:38] TF-TRT Warning: Could not find TensorRT\n"
     ]
    },
    {
     "name": "stdout",
     "output_type": "stream",
     "text": [
      "Running on CPU\n",
      "Number of accelerators: 1\n"
     ]
    },
    {
     "name": "stderr",
     "output_type": "stream",
     "text": [
      "2024-04-08 09:29:49.884544: I external/local_xla/xla/stream_executor/cuda/cuda_executor.cc:984] could not open file to read NUMA node: /sys/bus/pci/devices/0000:01:00.0/numa_node\n",
      "Your kernel may have been built without NUMA support.\n",
      "2024-04-08 09:29:50.001688: W tensorflow/core/common_runtime/gpu/gpu_device.cc:2251] Cannot dlopen some GPU libraries. Please make sure the missing libraries mentioned above are installed properly if you would like to use GPU. Follow the guide at https://www.tensorflow.org/install/gpu for how to download and setup the required libraries for your platform.\n",
      "Skipping registering GPU devices...\n"
     ]
    },
    {
     "data": {
      "text/plain": [
       "'/mnt/c/Users/adamd/workspace/news-based-event-driven_algotrading'"
      ]
     },
     "execution_count": 3,
     "metadata": {},
     "output_type": "execute_result"
    }
   ],
   "source": [
    "import numpy as np\n",
    "import math\n",
    "import shutil\n",
    "import yfinance as yf\n",
    "import pandas as pd\n",
    "\n",
    "from pathlib import Path\n",
    "import re\n",
    "import pickle\n",
    "from copy import deepcopy\n",
    "\n",
    "from tqdm import tqdm\n",
    "\n",
    "import tensorflow as tf\n",
    "\n",
    "if ('COLAB_TPU_ADDR' in os.environ and IN_COLAB) or (IN_KAGGLE and 'TPU_ACCELERATOR_TYPE' in os.environ):\n",
    "    tpu = tf.distribute.cluster_resolver.TPUClusterResolver()\n",
    "    tf.config.experimental_connect_to_cluster(tpu)\n",
    "    tf.tpu.experimental.initialize_tpu_system(tpu)\n",
    "    strategy = tf.distribute.TPUStrategy(tpu)\n",
    "elif len(tf.config.list_physical_devices('GPU')) > 0:\n",
    "    strategy = tf.distribute.MirroredStrategy()\n",
    "    gpus = tf.config.experimental.list_physical_devices('GPU')\n",
    "    try:\n",
    "        for gpu in gpus:\n",
    "            tf.config.experimental.set_memory_growth(gpu, True)\n",
    "    except RuntimeError as e:\n",
    "        print(e)\n",
    "    finally:\n",
    "        print(\"Running on\", len(tf.config.list_physical_devices('GPU')), \"GPU(s)\")\n",
    "else:\n",
    "    strategy = tf.distribute.get_strategy()\n",
    "    print(\"Running on CPU\")\n",
    "\n",
    "print(\"Number of accelerators:\", strategy.num_replicas_in_sync)\n",
    "os.getcwd()"
   ]
  },
  {
   "cell_type": "markdown",
   "id": "a8bb610c",
   "metadata": {},
   "source": [
    "# Wrangling the Data\n",
    "\n",
    "Our corpus will be processed and labelled to 11 types of corporate events: \n",
    "1. Acquisition(A)\n",
    "1. Clinical Trial(CT)\n",
    "1. Regular Dividend(RD)\n",
    "1. Dividend Cut(DC)\n",
    "1. Dividend Increase(DI)\n",
    "1. Guidance Increase(GI)\n",
    "1. New Contract(NC)\n",
    "1. Reverse Stock Split(RSS)\n",
    "1. Special Dividend(SD)\n",
    "1. Stock Repurchase(SR)\n",
    "1. Stock Split(SS).\n",
    "1. No event (O)\n",
    "\n",
    "Articles are structured as follows:\n",
    "\n",
    "```json\n",
    "'title': 'Title',\n",
    "'text': 'Text Body',\n",
    "'pub_time': 'Published datetime',\n",
    "'labels': {\n",
    "    'ticker': 'Security symbol',\n",
    "    'start_time': 'First trade after article published',\n",
    "    'start_price_open': 'The \"Open\" price at start_time',\n",
    "    'start_price_close': 'The \"Close\" price at start_time',\n",
    "    'end_price_nday': 'The \"Close\" price at the last minute of the following 1-3 trading day. If early than 4pm ET its the same day. Otherwise, it refers to the next trading day.', \n",
    "    'end_time_1-3day': 'The time corresponds to end_price_1day',\n",
    "    'highest_price_nday': 'The highest price in the following 1-3 trading', \n",
    "    'highest_time_nday': 'The time corresponds to highest_price_1-3day',\n",
    "    'lowest_price_nday': 'The lowest price in the following 1-3 trading day',\n",
    "    'lowest_time_nday': 'The time corresponds to lowest_price_1-3day',\n",
    "}\n",
    "```"
   ]
  },
  {
   "cell_type": "code",
   "execution_count": 4,
   "id": "ee8c05e7",
   "metadata": {},
   "outputs": [],
   "source": [
    "import tensorflow as tf\n",
    "from tensorflow.keras.losses import SparseCategoricalCrossentropy, BinaryCrossentropy\n",
    "from tensorflow.keras.layers import Input, Dense, Dropout\n",
    "from tensorflow.keras.optimizers import Adam\n",
    "from transformers import TFBertModel, BertConfig, BertTokenizerFast, TFBertModel, BertTokenizer, TFBertForTokenClassification, BertConfig, create_optimizer\n",
    "from sklearn.metrics import classification_report, precision_recall_fscore_support\n",
    "\n",
    "MODEL_DIR = 'google-bert/bert-base-cased'\n",
    "MAX_LEN = 256\n",
    "SPECIAL_TOKEN = '[CLS]'\n",
    "NUM_LABELS = 12 # See Labels description above."
   ]
  },
  {
   "cell_type": "markdown",
   "id": "e86a7a2f",
   "metadata": {},
   "source": [
    "### Tokenizing News Text\n",
    "\n",
    "The text body is tokenized, a simple example is shown below, including how the '[CLS]' token is leveraged. BERT's transformer inputs expect of shape [batch_size, seq_length] the following inputs:\n",
    "- \"input_ids\": token ids of the input sequences.\n",
    "- \"attention_mask\": has value 1 at the position of all input tokens present before padding and value 0 for the padding tokens.\n",
    "- \"token_type_ids\": the index of the input that created the input token. The first input segment (index 0) includes the start-of-sequence token and its end-of-segment token. The second segment (index 1, if present) includes its end-of-segment token. Padding tokens get index 0.\n",
    "\n",
    "Transformers use self-attention mechanisms represent interactions amongst tokens and their contextual information in the input sequence as a weighted-sum. With this mechanism higher layers of the network will aggregate information from all other tokens in the sequence, in our case '[CLS]' will have such information. \n"
   ]
  },
  {
   "cell_type": "code",
   "execution_count": 5,
   "id": "5e6810a9",
   "metadata": {},
   "outputs": [
    {
     "name": "stderr",
     "output_type": "stream",
     "text": [
      "Some weights of the PyTorch model were not used when initializing the TF 2.0 model TFBertModel: ['cls.predictions.transform.LayerNorm.bias', 'cls.predictions.bias', 'cls.predictions.transform.dense.bias', 'cls.seq_relationship.weight', 'cls.predictions.transform.dense.weight', 'cls.predictions.transform.LayerNorm.weight', 'cls.seq_relationship.bias']\n",
      "- This IS expected if you are initializing TFBertModel from a PyTorch model trained on another task or with another architecture (e.g. initializing a TFBertForSequenceClassification model from a BertForPreTraining model).\n",
      "- This IS NOT expected if you are initializing TFBertModel from a PyTorch model that you expect to be exactly identical (e.g. initializing a TFBertForSequenceClassification model from a BertForSequenceClassification model).\n",
      "All the weights of TFBertModel were initialized from the PyTorch model.\n",
      "If your task is similar to the task the model of the checkpoint was trained on, you can already use TFBertModel for predictions without further training.\n"
     ]
    },
    {
     "data": {
      "text/plain": [
       "{'input_ids': <tf.Tensor: shape=(1, 60), dtype=int32, numpy=\n",
       "array([[  101,   101,   164,   112,  6940,  1142,  6593,  1110,  1103,\n",
       "         1864,  1115, 27574,  7158,  5166,  2773,  1105, 13908,  1103,\n",
       "         2319,  1166,  1103,  1269,  1669,   119,  1332,  1678,  1112,\n",
       "          170,  2006,   117,  1103,  2554,  5401,   140,  4515,  1200,\n",
       "        18029,  1116,   789,  2633,   790, 17901,   117, 21363,   172,\n",
       "         4359,  7008,  1106,  1103,  4126,  9918,  6760, 15347,  1107,\n",
       "         1142,  5618,   119,   112,   166,   102]], dtype=int32)>, 'token_type_ids': <tf.Tensor: shape=(1, 60), dtype=int32, numpy=\n",
       "array([[0, 0, 0, 0, 0, 0, 0, 0, 0, 0, 0, 0, 0, 0, 0, 0, 0, 0, 0, 0, 0, 0,\n",
       "        0, 0, 0, 0, 0, 0, 0, 0, 0, 0, 0, 0, 0, 0, 0, 0, 0, 0, 0, 0, 0, 0,\n",
       "        0, 0, 0, 0, 0, 0, 0, 0, 0, 0, 0, 0, 0, 0, 0, 0]], dtype=int32)>, 'attention_mask': <tf.Tensor: shape=(1, 60), dtype=int32, numpy=\n",
       "array([[1, 1, 1, 1, 1, 1, 1, 1, 1, 1, 1, 1, 1, 1, 1, 1, 1, 1, 1, 1, 1, 1,\n",
       "        1, 1, 1, 1, 1, 1, 1, 1, 1, 1, 1, 1, 1, 1, 1, 1, 1, 1, 1, 1, 1, 1,\n",
       "        1, 1, 1, 1, 1, 1, 1, 1, 1, 1, 1, 1, 1, 1, 1, 1]], dtype=int32)>}"
      ]
     },
     "execution_count": 5,
     "metadata": {},
     "output_type": "execute_result"
    }
   ],
   "source": [
    "tokenizer = BertTokenizer.from_pretrained(MODEL_DIR)\n",
    "model = TFBertModel.from_pretrained(MODEL_DIR)\n",
    "\n",
    "text = [\"Further this conclusion is the fact that cumulative raw returns increase and exceed the market over the same period. When taken as a whole, the evidence suggests Cramer recommends “hot” stocks, lending credence to the Hot Hand Fallacy in this context. \"]\n",
    "\n",
    "inputs = tokenizer.encode_plus(f\"{SPECIAL_TOKEN} {text}\", return_tensors=\"tf\")\n",
    "outputs = model(inputs['input_ids'])\n",
    "hidden_state = outputs.last_hidden_state\n",
    "embedding = hidden_state[:, 0, :] # Get the hidden state with all info.\n",
    "\n",
    "inputs"
   ]
  },
  {
   "cell_type": "code",
   "execution_count": 6,
   "metadata": {},
   "outputs": [
    {
     "name": "stdout",
     "output_type": "stream",
     "text": [
      "Loading dataset from cache\n",
      "input_ids shape: (7770, 256)\n",
      "attention_mask shape: (7770, 256)\n",
      "token_type_ids shape: (7770, 256)\n",
      "seq_labels shape: (7770, 12)\n",
      "ner_labels shape: (7770, 256)\n"
     ]
    }
   ],
   "source": [
    "def read_wnut(file_path):\n",
    "    \"\"\"\n",
    "    Reads a WNUT-format file to extract and separate tokens and their NER tags.\n",
    "    The WNUT-format expects each token and its corresponding tag to be separated by a tab ('\\t'),\n",
    "    with each token-tag pair on a new line. Different documents or sentences are separated by\n",
    "    a blank line.\n",
    "\n",
    "    Args:\n",
    "        file_path (str): The path to the WNUT-format file containing the annotated text.\n",
    "\n",
    "    Returns:\n",
    "        tuple: A tuple containing two lists:\n",
    "            - token_docs: A list where each element is a list of tokens from a single document/sentence.\n",
    "            - tag_docs: A list where each element is a list of tags corresponding to the tokens in the `token_docs`.\n",
    "    \"\"\"\n",
    "    file_path = Path(file_path)\n",
    "\n",
    "    raw_text = file_path.read_text().strip()\n",
    "    raw_docs = re.split(r'\\n\\t?\\n', raw_text)\n",
    "    token_docs = []\n",
    "    tag_docs = []\n",
    "    for doc in raw_docs:\n",
    "        tokens = []\n",
    "        tags = []\n",
    "        for line in doc.split('\\n'):\n",
    "            token, tag = line.split('\\t')\n",
    "            tokens.append(token)\n",
    "            tags.append(tag)\n",
    "        token_docs.append(tokens)\n",
    "        tag_docs.append(tags)\n",
    "\n",
    "    return token_docs, tag_docs\n",
    "\n",
    "def encode_tags(tags, encodings, tag2id):\n",
    "    \"\"\"\n",
    "    Aligns NER tags with the tokenized input for models employing subword tokenization, such as BERT, that requires adjusting the original word-level tags to match the tokenized structure.\n",
    "    Note the ignore value (-100, from  PyTorch's CrossEntropyLoss) used for tokens that should not be directly associated with a tag from the original dataset, such as special tokens added during tokenization ([CLS], [SEP], [PAD]).\n",
    "\n",
    "    Args:\n",
    "        tags (list of list of str): The original list of tag sequences for each document.\n",
    "        encodings (transformers.BatchEncoding): The tokenized input data with `offset_mapping` included.\n",
    "        tag2id (dict): A mapping from tag names to unique integer IDs.\n",
    "\n",
    "    Returns:\n",
    "        list of list of int: A list of adjusted label sequences for each document, aligned with the tokenized input.\n",
    "    \"\"\"\n",
    "    labels = [[tag2id[tag] for tag in doc] for doc in tags]\n",
    "    encoded_labels = []\n",
    "    for doc_labels, doc_offset in zip(labels, encodings.offset_mapping):\n",
    "        doc_enc_labels = np.ones(len(doc_offset), dtype=int) * -100\n",
    "        arr_offset = np.array(doc_offset)\n",
    "        max_len = len(doc_enc_labels[(arr_offset[:, 0] == 0) & (arr_offset[:, 1] != 0)])\n",
    "        doc_enc_labels[(arr_offset[:, 0] == 0) & (arr_offset[:, 1] != 0)] = doc_labels[:max_len]\n",
    "        encoded_labels.append(doc_enc_labels.tolist())\n",
    "\n",
    "    return encoded_labels\n",
    "\n",
    "def load_and_cache_dataset(path=DATA_PATH, model=MODEL_DIR, max_len=MAX_LEN, num_labels=NUM_LABELS, cache=True):\n",
    "    \"\"\"\n",
    "    Preprocesses and caches the NER dataset for training with a BERT model.\n",
    "\n",
    "    Loads training and testing data withs sentences and their corresponding NER tags. It consolidates all unique NER tags from both datasets into a tag2id dictionary, mapping each tag to a unique integer, and its inverse id2tag.\n",
    "    Computes sequence-level labels for both datasets, where each sequence is represented by a binary label vector indicating the presence of specific tags and Tokenizes and encodes the text data, adjusting for BERT's subword tokenization and removing offset mappings as they're not used in model training.\n",
    "\n",
    "    NER tags are adjusted to align with the tokenizer's output, transforming them into a numerical format suitable for training.\n",
    "    Args:\n",
    "        path (str): Path to the dataset directory.\n",
    "        model (str): Directory of the pretrained BERT model to use for tokenization.\n",
    "        max_len (int): Maximum sequence length for tokenization.\n",
    "        num_labels (int): Number of unique labels in the dataset.\n",
    "        cache (bool): Caches output, defaults to True.\n",
    "\n",
    "    Returns:\n",
    "        Tuple: Processed training and testing encodings, sequence labels, and NER labels.\n",
    "    \"\"\"\n",
    "    def generate_sequence_labels(tags_list, tag2id, num_labels):\n",
    "        \"\"\"\n",
    "        Generates sequence labels for a list of tag sequences.\n",
    "\n",
    "        Args:\n",
    "            tags_list (list of list of str): List of tag sequences.\n",
    "            tag2id (dict): Mapping from tag names to unique integer IDs.\n",
    "            num_labels (int): Number of unique labels in the dataset.\n",
    "\n",
    "        Returns:\n",
    "            list of list of int: Sequence labels for each tag sequence.\n",
    "        \"\"\"\n",
    "        seq_labels = []\n",
    "        for tags in tqdm(tags_list, desc=\"generate_sequence_labels\"):\n",
    "            tag_set = set(tags)\n",
    "            current_label = np.zeros([num_labels])\n",
    "            if len(tag_set) == 1:\n",
    "                current_label[tag2id['O']] = 1\n",
    "            else:\n",
    "                tag_set.discard('O')\n",
    "                for tag in tag_set:\n",
    "                    current_label[tag2id[tag]] = 1\n",
    "            seq_labels.append(list(current_label))\n",
    "        return seq_labels\n",
    "\n",
    "    cache_file = os.path.join(path, f'cached_train_test_{max_len}.pkl')\n",
    "\n",
    "    if cache and os.path.exists(cache_file):\n",
    "        print(\"Loading dataset from cache\")\n",
    "        with open(cache_file, 'rb') as f:\n",
    "            train_encodings, train_seq_labels, train_ner_labels, test_encodings, test_seq_labels, test_ner_labels = pickle.load(f)\n",
    "\n",
    "        return train_encodings, train_seq_labels, train_ner_labels, test_encodings, test_seq_labels, test_ner_labels\n",
    "\n",
    "    tokenizer = BertTokenizerFast.from_pretrained(model)\n",
    "    train_ner_texts, train_ner_tags = read_wnut(os.path.join(path, 'Event_detection/train.txt'))\n",
    "    test_ner_texts, test_ner_tags = read_wnut(os.path.join(path, 'Event_detection/dev.txt'))\n",
    "    tags = deepcopy(train_ner_tags)\n",
    "    tags.extend(test_ner_tags)\n",
    "\n",
    "    unique_tags = list(set(tag for doc in train_ner_tags for tag in doc))\n",
    "    tag2id = {tag: id for id, tag in enumerate(sorted(unique_tags))}\n",
    "    print(f\"Tags to identify: {tag2id}\")\n",
    "    id2tag = {id: tag for tag, id in tag2id.items()}\n",
    "\n",
    "    train_seq_labels = []\n",
    "    test_seq_labels = []\n",
    "    train_seq_labels = generate_sequence_labels(train_ner_tags, tag2id, num_labels)\n",
    "    test_seq_labels = generate_sequence_labels(test_ner_tags, tag2id, num_labels)\n",
    "\n",
    "    train_encodings = tokenizer(train_ner_texts,\n",
    "                                is_split_into_words=True,\n",
    "                                return_offsets_mapping=True,\n",
    "                                padding='max_length',\n",
    "                                truncation=True,\n",
    "                                max_length=max_len)\n",
    "    test_encodings = tokenizer(test_ner_texts,\n",
    "                            is_split_into_words=True,\n",
    "                            return_offsets_mapping=True,\n",
    "                            padding='max_length',\n",
    "                            truncation=True,\n",
    "                            max_length=max_len)\n",
    "\n",
    "    train_ner_labels = encode_tags(train_ner_tags, train_encodings, tag2id)\n",
    "    test_ner_labels = encode_tags(test_ner_tags, test_encodings, tag2id)\n",
    "    train_encodings.pop(\"offset_mapping\")\n",
    "    test_encodings.pop(\"offset_mapping\")\n",
    "    if cache:\n",
    "        data_to_save = (\n",
    "        train_encodings, train_seq_labels, train_ner_labels, test_encodings, test_seq_labels, test_ner_labels)\n",
    "        with open(cache_file, 'wb') as f:\n",
    "            pickle.dump(data_to_save, f)\n",
    "\n",
    "    return train_encodings, train_seq_labels, train_ner_labels, test_encodings, test_seq_labels, test_ner_labels\n",
    "\n",
    "train_encodings, train_seq_labels, train_ner_labels, test_encodings, test_seq_labels, test_ner_labels =  load_and_cache_dataset(DATA_PATH)\n",
    "\n",
    "input_ids = np.array(train_encodings['input_ids'])\n",
    "attention_mask = np.array(train_encodings['attention_mask'])\n",
    "token_type_ids = np.array(train_encodings['token_type_ids']) if 'token_type_ids' in train_encodings else None\n",
    "labels = np.array(train_seq_labels)\n",
    "ner = np.array(train_ner_labels)\n",
    "print(\"input_ids shape:\", input_ids.shape)\n",
    "print(\"attention_mask shape:\", attention_mask.shape)\n",
    "if token_type_ids is not None:\n",
    "    print(\"token_type_ids shape:\", token_type_ids.shape)\n",
    "else:\n",
    "    print(\"token_type_ids not present\")\n",
    "\n",
    "print(\"seq_labels shape:\", labels.shape)\n",
    "print(\"ner_labels shape:\", ner.shape)"
   ]
  },
  {
   "cell_type": "markdown",
   "id": "1732d4f6",
   "metadata": {},
   "source": [
    "### Attention is all you Need\n",
    "\n",
    "Vaswani et. al seminal paper *Attention is All You Need*, made self-attention and transformers mainstream.\n",
    "\n",
    "Self-attention, calculates the relevance of each word in a sentence to every other word. This is done through queries (Q=XW^Q), keys (K=XW^K), and values (V=XW^V) transformed by a learned weight matrix (W) from the input embeddings (X). The attention score between two words is computed by taking the dot product of their queries and keys, followed by a softmax:\n",
    "\n",
    "$ \\text{A}(Q, K, V) = \\text{softmax}\\left(\\frac{QK^T}{\\sqrt{d_k}}\\right)V $\n",
    "\n",
    "Where:\n",
    "- Q represents the queries matrix of current items,\n",
    "- K represents the keys matrix of items to compare against in the input sequence,\n",
    "- V represents the values matrix, which are the dot product comparisons between Q and K,\n",
    "- d_k represents the dimension of the keys and queries,\n",
    "- A are the Attention wieghts.\n",
    "\n",
    "In addition, the word embeddings will contain contextual information (dot poduct of A and V), represented as position added to the embedding. This plus the attention wieghts, captures dependencies and relationships."
   ]
  },
  {
   "cell_type": "markdown",
   "id": "d1241943",
   "metadata": {},
   "source": [
    "## BERT Classifier\n",
    "\n",
    "Built on top of a pretrained BERT (Bidirectional Encoder Representations from Transformers).BERT is an industry tested transformer-based model, pre-trained on a large corpus of text to generate contextual embeddings for input sequences.\n",
    "\n",
    "We will use a small pre-trained cased base model with 12-layers + 768-hidden, 12-heads , and 110M parameters. This is the base model used in *Zhou et al. (2021)*. Later in the article, we will use larger BERT models that are more resource demanding to fine-tune. Each model has its own preprocesser, as text inputs need to be converted to token IDs.\n",
    "\n",
    "The architecture can be summarized in 3 componets:\n",
    "1. Input embeddings, attention masks and ID types for the preTrained BERT model. Bert applies transformer blocks with self-attention (attention captures language structures). The model outputs embedding sequences (last layer from BERT NxH) and a pooled summary derived from the first 'CLS' token(a 1XH vector).\n",
    "1. The sequence outputs (NxH vector) is passed through dense layers and dropouts for the first NER classification, this maps the high-DIM outputs to logits. Padding of unknown tokens helps the model focus on the tasks.\n",
    "1. NER logits are flattened and concatenated with the pooled summaries to form a new feature vector (NxH + H). The vector is passed again through dense and dropout layers to classify the event as one of the 11 identified (O is ignored)."
   ]
  },
  {
   "cell_type": "code",
   "execution_count": 7,
   "id": "08fa3abf",
   "metadata": {},
   "outputs": [
    {
     "name": "stdout",
     "output_type": "stream",
     "text": [
      "Epoch 1/3\n",
      "\u001b[1m106/243\u001b[0m \u001b[32m━━━━━━━━\u001b[0m\u001b[37m━━━━━━━━━━━━\u001b[0m \u001b[1m31:02\u001b[0m 14s/step - loss: 1.8343 - ner_loss: 1.7019 - seq_loss: 0.1324"
     ]
    }
   ],
   "source": [
    "class TFBertForBilevelClassification(tf.keras.Model):\n",
    "    def __init__(self, config, max_seq_length, *args, **kwargs):\n",
    "        super().__init__()\n",
    "        self.num_labels = config.num_labels\n",
    "        self.max_seq_length = max_seq_length\n",
    "\n",
    "        self.bert = TFBertModel(config)\n",
    "\n",
    "        self.ner_dropout = tf.keras.layers.Dropout(config.hidden_dropout_prob)\n",
    "        self.ner_classifier1 = tf.keras.layers.Dense(2048, activation='relu')\n",
    "        self.ner_classifier2 = tf.keras.layers.Dense(self.num_labels, activation='softmax')  # Assuming softmax for classification\n",
    "\n",
    "        self.final_dropout1 = tf.keras.layers.Dropout(config.hidden_dropout_prob)\n",
    "        self.final_classifier1 = tf.keras.layers.Dense(2048, activation='relu')\n",
    "        self.final_dropout2 = tf.keras.layers.Dropout(config.hidden_dropout_prob)\n",
    "        self.final_classifier2 = tf.keras.layers.Dense(self.num_labels - 1, activation='sigmoid')  # Assuming binary classification\n",
    "\n",
    "        self.seq_dropout = tf.keras.layers.Dropout(config.hidden_dropout_prob)\n",
    "        self.dropout1 = tf.keras.layers.Dropout(config.hidden_dropout_prob)\n",
    "        self.dropout2 = tf.keras.layers.Dropout(config.hidden_dropout_prob)\n",
    "\n",
    "    def call(self, inputs, training=False):\n",
    "        input_ids, attention_mask, token_type_ids = inputs['input_ids'], inputs['attention_mask'], inputs['token_type_ids']\n",
    "        bert_outputs = self.bert(input_ids, attention_mask=attention_mask, token_type_ids=token_type_ids)\n",
    "        sequence_output = bert_outputs['last_hidden_state']\n",
    "        pooled_output = bert_outputs['pooler_output']\n",
    "\n",
    "        sequence_output = self.ner_dropout(sequence_output, training=training)\n",
    "        ner_logits = self.ner_classifier1(sequence_output)\n",
    "        ner_logits = self.dropout1(ner_logits, training=training)\n",
    "        ner_logits = self.ner_classifier2(ner_logits)\n",
    "\n",
    "        pad_pred = tf.zeros((self.num_labels,), dtype=ner_logits.dtype)\n",
    "        pad_pred = tf.tensor_scatter_nd_update(pad_pred, [[self.num_labels - 1]], [1])\n",
    "        pad_pred = tf.expand_dims(pad_pred, 0)  # Expanding dimensions to match ner_logits for broadcasting.\n",
    "        mask_expanded = tf.expand_dims(attention_mask, -1)\n",
    "        ner_logits = tf.where(tf.equal(mask_expanded, 0), pad_pred, ner_logits)\n",
    "\n",
    "        ner_logits_flat = tf.reshape(ner_logits, [-1, self.max_seq_length * self.num_labels ])\n",
    "        final_input = tf.concat([pooled_output, ner_logits_flat], axis=1)\n",
    "\n",
    "        seq_logits = self.final_dropout1(final_input, training=training)\n",
    "        seq_logits = self.final_classifier1(seq_logits)\n",
    "        seq_logits = self.final_dropout2(seq_logits, training=training)\n",
    "        seq_logits = self.final_classifier2(seq_logits)\n",
    "\n",
    "        return ner_logits, seq_logits\n",
    "\n",
    "\n",
    "    def custom_ner_loss(self, ner_logits, ner_labels, attention_mask):\n",
    "        ner_loss_fct = tf.keras.losses.SparseCategoricalCrossentropy(from_logits=True, reduction=tf.keras.losses.Reduction.NONE)\n",
    "        ner_logits_flat = tf.reshape(ner_logits, [-1, self.num_labels])\n",
    "        ner_labels_flat = tf.reshape(ner_labels, [-1])\n",
    "        attention_mask_flat = tf.reshape(attention_mask, [-1])\n",
    "\n",
    "        ignore_mask = tf.not_equal(ner_labels_flat, -100)\n",
    "        active_loss = tf.where(tf.equal(attention_mask_flat, 1), ignore_mask, tf.zeros_like(ignore_mask, dtype=tf.bool))\n",
    "        ner_labels_filtered = tf.boolean_mask(ner_labels_flat, active_loss)\n",
    "        ner_logits_filtered = tf.boolean_mask(ner_logits_flat, active_loss)\n",
    "\n",
    "        ner_loss = ner_loss_fct(ner_labels_filtered, ner_logits_filtered)\n",
    "\n",
    "        return tf.reduce_sum(ner_loss) / tf.cast(tf.reduce_sum(tf.cast(active_loss, dtype=tf.float32)), tf.float32)\n",
    "\n",
    "    def custom_seq_loss(self, seq_logits, seq_labels):\n",
    "        seq_labels_modified = seq_labels[:, :-1]\n",
    "        seq_loss_fct = BinaryCrossentropy(from_logits=True)\n",
    "        seq_loss = seq_loss_fct(seq_labels_modified, seq_logits)\n",
    "\n",
    "        return seq_loss\n",
    "\n",
    "    def train_step(self, data):\n",
    "        inputs, labels = data\n",
    "        with tf.GradientTape() as tape:\n",
    "            ner_logits, seq_logits = self(inputs, training=True)\n",
    "            ner_loss = self.custom_ner_loss(ner_logits, labels['ner_labels'], inputs['attention_mask'])\n",
    "            seq_loss = self.custom_seq_loss(seq_logits, labels['seq_labels'])\n",
    "            total_loss = ner_loss + seq_loss\n",
    "\n",
    "        gradients = tape.gradient(total_loss, self.trainable_variables)\n",
    "        self.optimizer.apply_gradients(zip(gradients, self.trainable_variables))\n",
    "\n",
    "        return {'loss': total_loss, 'ner_loss': ner_loss, 'seq_loss': seq_loss}\n",
    "\n",
    "config = BertConfig.from_pretrained(MODEL_DIR)\n",
    "config.num_labels = NUM_LABELS\n",
    "model = TFBertForBilevelClassification(config, MAX_LEN)\n",
    "\n",
    "input_ids = np.array(train_encodings['input_ids'])\n",
    "attention_mask = np.array(train_encodings['attention_mask'])\n",
    "token_type_ids = np.array(train_encodings['token_type_ids']) if 'token_type_ids' in train_encodings else None\n",
    "\n",
    "train_dataset = tf.data.Dataset.from_tensor_slices((\n",
    "    {\n",
    "        'input_ids': input_ids,\n",
    "        'attention_mask': attention_mask,\n",
    "        'token_type_ids': token_type_ids\n",
    "    },\n",
    "    {\n",
    "        'ner_labels': np.array(train_ner_labels),\n",
    "        'seq_labels': np.array(train_seq_labels)\n",
    "    }\n",
    "))\n",
    "\n",
    "train_dataset = train_dataset.shuffle(buffer_size=10000).batch(32)\n",
    "\n",
    "optimizer = Adam(learning_rate=5e-5)\n",
    "model.compile(optimizer=optimizer)\n",
    "model.fit(train_dataset, epochs=3)\n",
    "model.summary()"
   ]
  },
  {
   "cell_type": "code",
   "execution_count": null,
   "id": "68ebf8a5",
   "metadata": {},
   "outputs": [],
   "source": [
    "tf.keras.utils.plot_model(model)"
   ]
  },
  {
   "cell_type": "markdown",
   "id": "1de1100e",
   "metadata": {
    "id": "pTeb9dL6H0Cu",
    "papermill": {
     "duration": 0.038724,
     "end_time": "2024-03-18T16:30:39.400759",
     "exception": false,
     "start_time": "2024-03-18T16:30:39.362035",
     "status": "completed"
    },
    "tags": []
   },
   "source": [
    "# Conclusion\n",
    "\n",
    "TODO"
   ]
  },
  {
   "cell_type": "markdown",
   "id": "da2a44ed",
   "metadata": {
    "id": "bBrMDUgZH0Cv",
    "papermill": {
     "duration": 0.038454,
     "end_time": "2024-03-18T16:30:39.478057",
     "exception": false,
     "start_time": "2024-03-18T16:30:39.439603",
     "status": "completed"
    },
    "tags": []
   },
   "source": [
    "## References\n",
    "\n",
    "- [Zhou, Zhihan, Liqian Ma, and Han Liu. \"Trade the event: Corporate events detection for news-based event-driven trading.\" arXiv preprint arXiv:2105.12825 (2021).](https://aclanthology.org/2021.findings-acl.186)\n",
    "- [Hugging Face Transformers APIs](https://github.com/huggingface/transformers)\n",
    "- [Hugging Face Model Repository and Spaces](https://huggingface.co/models)\n",
    "- [Devlin, Jacob, et al. \"Bert: Pre-training of deep bidirectional transformers for language understanding.\" arXiv preprint arXiv:1810.04805 (2018).](https://arxiv.org/abs/1810.04805)\n",
    "- [Google Pre-trained BERT Models.](https://github.com/google-research/bert?tab=readme-ov-file)\n",
    "- [Ashish Vaswani and Noam Shazeer and Niki Parmar and Jakob Uszkoreit and Llion Jones and Aidan N. Gomez and Lukasz Kaiser and Illia Polosukhin, \"Attention is All You Need\". NIPS (2017)](https://research.google/pubs/attention-is-all-you-need/)"
   ]
  },
  {
   "cell_type": "markdown",
   "id": "d4f6290d",
   "metadata": {
    "id": "kIgjl92lH0Cv",
    "papermill": {
     "duration": 0.038652,
     "end_time": "2024-03-18T16:30:39.556064",
     "exception": false,
     "start_time": "2024-03-18T16:30:39.517412",
     "status": "completed"
    },
    "tags": []
   },
   "source": [
    "## Github\n",
    "\n",
    "Article and code available on [Github](https://github.com/adamd1985/news-based-event-driven_algotrading)\n",
    "\n",
    "Kaggle notebook available [here]()\n",
    "\n",
    "Google Collab available [here]()\n",
    "\n",
    "## Media\n",
    "\n",
    "All media used (in the form of code or images) are either solely owned by me, acquired through licensing, or part of the Public Domain and granted use through Creative Commons License.\n",
    "\n",
    "## CC Licensing and Use\n",
    "\n",
    "<a rel=\"license\" href=\"http://creativecommons.org/licenses/by-nc/4.0/\"><img alt=\"Creative Commons License\" style=\"border-width:0\" src=\"https://i.creativecommons.org/l/by-nc/4.0/88x31.png\" /></a><br />This work is licensed under a <a rel=\"license\" href=\"http://creativecommons.org/licenses/by-nc/4.0/\">Creative Commons Attribution-NonCommercial 4.0 International License</a>."
   ]
  }
 ],
 "metadata": {
  "accelerator": "GPU",
  "colab": {
   "gpuType": "T4",
   "provenance": []
  },
  "kaggle": {
   "accelerator": "none",
   "dataSources": [],
   "dockerImageVersionId": 30664,
   "isGpuEnabled": false,
   "isInternetEnabled": true,
   "language": "python",
   "sourceType": "notebook"
  },
  "kernelspec": {
   "display_name": "Python 3",
   "language": "python",
   "name": "python3"
  },
  "language_info": {
   "codemirror_mode": {
    "name": "ipython",
    "version": 3
   },
   "file_extension": ".py",
   "mimetype": "text/x-python",
   "name": "python",
   "nbconvert_exporter": "python",
   "pygments_lexer": "ipython3",
   "version": "3.11.8"
  },
  "papermill": {
   "default_parameters": {},
   "duration": 1866.088054,
   "end_time": "2024-03-18T16:30:42.220199",
   "environment_variables": {},
   "exception": null,
   "input_path": "__notebook__.ipynb",
   "output_path": "__notebook__.ipynb",
   "parameters": {},
   "start_time": "2024-03-18T15:59:36.132145",
   "version": "2.5.0"
  }
 },
 "nbformat": 4,
 "nbformat_minor": 5
}
